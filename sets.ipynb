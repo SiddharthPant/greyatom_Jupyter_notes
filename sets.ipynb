{
 "cells": [
  {
   "cell_type": "code",
   "execution_count": 52,
   "metadata": {},
   "outputs": [
    {
     "name": "stdout",
     "output_type": "stream",
     "text": [
      "<type 'set'>\n"
     ]
    }
   ],
   "source": [
    "# https://docs.python.org/2/tutorial/datastructures.html#sets\n",
    "\n",
    "s1 = set()  # Cannot have duplicate values\n",
    "print type(s1)"
   ]
  },
  {
   "cell_type": "code",
   "execution_count": 13,
   "metadata": {},
   "outputs": [
    {
     "name": "stdout",
     "output_type": "stream",
     "text": [
      "set([2, 3, 4, 5, 6, 7, 8])\n"
     ]
    }
   ],
   "source": [
    "s2 = {4,5,6,2,4,6,3,7,8,3}\n",
    "print s2 # Duplicate values will be removed"
   ]
  },
  {
   "cell_type": "code",
   "execution_count": 38,
   "metadata": {},
   "outputs": [
    {
     "name": "stdout",
     "output_type": "stream",
     "text": [
      "[45, 28, 40, 20, 45, 35, 45, 34]\n",
      "set([34, 35, 40, 45, 20, 28])\n",
      "set([34, 35, 40, 10, 45, 20, 28])\n",
      "set([34, 35, 40, 45, 20, 28])\n"
     ]
    },
    {
     "data": {
      "text/plain": [
       "6"
      ]
     },
     "execution_count": 38,
     "metadata": {},
     "output_type": "execute_result"
    }
   ],
   "source": [
    "marks = [45,28,40,20,45,35,45,34]\n",
    "print marks\n",
    "unique_marks = set(marks)\n",
    "print unique_marks\n",
    "\n",
    "unique_marks.add(10)\n",
    "print unique_marks\n",
    "\n",
    "unique_marks.remove(10)\n",
    "print unique_marks\n",
    "\n",
    "len(unique_marks)\n",
    "# unique_marks[0] error cause there are no indexes"
   ]
  },
  {
   "cell_type": "code",
   "execution_count": 51,
   "metadata": {},
   "outputs": [
    {
     "name": "stdout",
     "output_type": "stream",
     "text": [
      "set([64, 23, 34, 79, 87])\n",
      "set([67])\n",
      "set([64, 65, 34, 67, 36, 23, 98, 79, 86, 87, 56])\n",
      "set([64, 65, 23, 34, 79, 86, 87, 98, 36, 56])\n"
     ]
    }
   ],
   "source": [
    "m1 = {67,34,64,87,23,79,64}\n",
    "m2 = {98,65,67,56,36,36,86}\n",
    "print m1 - m2 # will return set of m1 except m2 elemenets\n",
    "print m1 & m2 # retuens a set with item in both sets\n",
    "print m1 | m2 # combined set i.e. union\n",
    "print m1 ^ m2 # eveything except items which are commons in both"
   ]
  }
 ],
 "metadata": {
  "kernelspec": {
   "display_name": "Python 2",
   "language": "python",
   "name": "python2"
  },
  "language_info": {
   "codemirror_mode": {
    "name": "ipython",
    "version": 2
   },
   "file_extension": ".py",
   "mimetype": "text/x-python",
   "name": "python",
   "nbconvert_exporter": "python",
   "pygments_lexer": "ipython2",
   "version": "2.7.13"
  }
 },
 "nbformat": 4,
 "nbformat_minor": 2
}
