{
 "cells": [
  {
   "cell_type": "code",
   "execution_count": 1,
   "metadata": {
    "collapsed": true
   },
   "outputs": [],
   "source": [
    "import csv\n",
    "import datetime"
   ]
  },
  {
   "cell_type": "code",
   "execution_count": 2,
   "metadata": {},
   "outputs": [
    {
     "name": "stdout",
     "output_type": "stream",
     "text": [
      "[['', 'year', 'month', 'intent', 'police', 'sex', 'age', 'race', 'hispanic', 'place', 'education'], ['1', '2012', '01', 'Suicide', '0', 'M', '34', 'Asian/Pacific Islander', '100', 'Home', 'BA+'], ['2', '2012', '01', 'Suicide', '0', 'F', '21', 'White', '100', 'Street', 'Some college'], ['3', '2012', '01', 'Suicide', '0', 'M', '60', 'White', '100', 'Other specified', 'BA+'], ['4', '2012', '02', 'Suicide', '0', 'M', '64', 'White', '100', 'Home', 'BA+']]\n"
     ]
    }
   ],
   "source": [
    "with open('data/guns.csv') as guns_file:\n",
    "    data = list(csv.reader(guns_file))\n",
    "print data[:5]"
   ]
  },
  {
   "cell_type": "code",
   "execution_count": 3,
   "metadata": {},
   "outputs": [
    {
     "name": "stdout",
     "output_type": "stream",
     "text": [
      "['', 'year', 'month', 'intent', 'police', 'sex', 'age', 'race', 'hispanic', 'place', 'education']\n",
      "[['1', '2012', '01', 'Suicide', '0', 'M', '34', 'Asian/Pacific Islander', '100', 'Home', 'BA+'], ['2', '2012', '01', 'Suicide', '0', 'F', '21', 'White', '100', 'Street', 'Some college'], ['3', '2012', '01', 'Suicide', '0', 'M', '60', 'White', '100', 'Other specified', 'BA+'], ['4', '2012', '02', 'Suicide', '0', 'M', '64', 'White', '100', 'Home', 'BA+'], ['5', '2012', '02', 'Suicide', '0', 'M', '31', 'White', '100', 'Other specified', 'HS/GED']]\n"
     ]
    }
   ],
   "source": [
    "headers = data[0]\n",
    "data = data[1:]\n",
    "print headers\n",
    "print data[:5]\n"
   ]
  },
  {
   "cell_type": "code",
   "execution_count": 14,
   "metadata": {},
   "outputs": [
    {
     "data": {
      "text/plain": [
       "{'2012': 33563, '2013': 33636, '2014': 33599}"
      ]
     },
     "execution_count": 14,
     "metadata": {},
     "output_type": "execute_result"
    }
   ],
   "source": [
    "def gds_by_yr(data):\n",
    "    year_counts = {}\n",
    "    for row in data:\n",
    "        year = row[1]\n",
    "        if year not in year_counts:\n",
    "            year_counts[year] = 0\n",
    "        year_counts[year] += 1\n",
    "    return year_counts\n",
    "gds_by_yr(data)"
   ]
  },
  {
   "cell_type": "code",
   "execution_count": 15,
   "metadata": {},
   "outputs": [
    {
     "name": "stdout",
     "output_type": "stream",
     "text": [
      "{datetime.datetime(2013, 8, 1, 0, 0): 2859, datetime.datetime(2014, 3, 1, 0, 0): 2684, datetime.datetime(2013, 4, 1, 0, 0): 2798, datetime.datetime(2014, 10, 1, 0, 0): 2865, datetime.datetime(2013, 10, 1, 0, 0): 2808, datetime.datetime(2013, 3, 1, 0, 0): 2862, datetime.datetime(2014, 12, 1, 0, 0): 2857, datetime.datetime(2014, 2, 1, 0, 0): 2361, datetime.datetime(2013, 9, 1, 0, 0): 2742, datetime.datetime(2013, 6, 1, 0, 0): 2920, datetime.datetime(2012, 3, 1, 0, 0): 2743, datetime.datetime(2013, 5, 1, 0, 0): 2806, datetime.datetime(2012, 12, 1, 0, 0): 2791, datetime.datetime(2014, 5, 1, 0, 0): 2864, datetime.datetime(2012, 2, 1, 0, 0): 2357, datetime.datetime(2014, 7, 1, 0, 0): 2884, datetime.datetime(2013, 11, 1, 0, 0): 2758, datetime.datetime(2014, 4, 1, 0, 0): 2862, datetime.datetime(2013, 7, 1, 0, 0): 3079, datetime.datetime(2012, 1, 1, 0, 0): 2758, datetime.datetime(2013, 12, 1, 0, 0): 2765, datetime.datetime(2012, 11, 1, 0, 0): 2729, datetime.datetime(2012, 7, 1, 0, 0): 3026, datetime.datetime(2012, 9, 1, 0, 0): 2852, datetime.datetime(2014, 9, 1, 0, 0): 2914, datetime.datetime(2014, 6, 1, 0, 0): 2931, datetime.datetime(2014, 8, 1, 0, 0): 2970, datetime.datetime(2012, 10, 1, 0, 0): 2733, datetime.datetime(2012, 5, 1, 0, 0): 2999, datetime.datetime(2012, 6, 1, 0, 0): 2826, datetime.datetime(2014, 11, 1, 0, 0): 2756, datetime.datetime(2013, 1, 1, 0, 0): 2864, datetime.datetime(2012, 8, 1, 0, 0): 2954, datetime.datetime(2014, 1, 1, 0, 0): 2651, datetime.datetime(2012, 4, 1, 0, 0): 2795, datetime.datetime(2013, 2, 1, 0, 0): 2375}\n"
     ]
    },
    {
     "data": {
      "text/plain": [
       "<matplotlib.axes._subplots.AxesSubplot at 0x7f100fa4f150>"
      ]
     },
     "execution_count": 15,
     "metadata": {},
     "output_type": "execute_result"
    },
    {
     "data": {
      "image/png": "[encoded data removed]",
      "text/plain": [
       "<matplotlib.figure.Figure at 0x7f100f9f05d0>"
      ]
     },
     "metadata": {},
     "output_type": "display_data"
    }
   ],
   "source": [
    "dates = [datetime.datetime(year=int(l[1]), month=int(l[2]), day=1) for l in data]\n",
    "date_counts = {}\n",
    "for date in dates:\n",
    "    if date not in date_counts:\n",
    "        date_counts[date] = 0\n",
    "    date_counts[date] += 1\n",
    "print date_counts\n",
    "import numpy as np\n",
    "import matplotlib.pyplot as plt\n",
    "import pandas as pd\n",
    "%matplotlib inline\n",
    "dates_series = pd.Series(date_counts)\n",
    "dates_series.plot('bar')"
   ]
  },
  {
   "cell_type": "code",
   "execution_count": 18,
   "metadata": {},
   "outputs": [
    {
     "data": {
      "text/plain": [
       "{'F': 14449, 'M': 86349}"
      ]
     },
     "execution_count": 18,
     "metadata": {},
     "output_type": "execute_result"
    }
   ],
   "source": [
    "def get_sex_counts(data):\n",
    "    sex_counts = {'M':0,'F':0}\n",
    "    for row in data:\n",
    "        sex_counts[row[5]] += 1\n",
    "    return sex_counts\n",
    "get_sex_counts(data)\n"
   ]
  },
  {
   "cell_type": "code",
   "execution_count": 20,
   "metadata": {},
   "outputs": [
    {
     "data": {
      "text/plain": [
       "{'Asian/Pacific Islander': 1327,\n",
       " 'Black': 23297,\n",
       " 'Hispanic': 9023,\n",
       " 'Native American/Native Alaskan': 918,\n",
       " 'White': 66238}"
      ]
     },
     "execution_count": 20,
     "metadata": {},
     "output_type": "execute_result"
    }
   ],
   "source": [
    "def get_race_counts(data):\n",
    "    race_counts = {}\n",
    "    for row in data:\n",
    "        race = row[7]\n",
    "        if race not in race_counts:\n",
    "            race_counts[race] = 1\n",
    "        race_counts[race] += 1\n",
    "    return race_counts\n",
    "get_race_counts(data)"
   ]
  },
  {
   "cell_type": "code",
   "execution_count": 25,
   "metadata": {},
   "outputs": [
    {
     "data": {
      "text/plain": [
       "[['Id',\n",
       "  'Year',\n",
       "  'Id',\n",
       "  'Sex',\n",
       "  'Id',\n",
       "  'Hispanic Origin',\n",
       "  'Id',\n",
       "  'Id2',\n",
       "  'Geography',\n",
       "  'Total',\n",
       "  'Race Alone - White',\n",
       "  'Race Alone - Hispanic',\n",
       "  'Race Alone - Black or African American',\n",
       "  'Race Alone - American Indian and Alaska Native',\n",
       "  'Race Alone - Asian',\n",
       "  'Race Alone - Native Hawaiian and Other Pacific Islander',\n",
       "  'Two or More Races'],\n",
       " ['cen42010',\n",
       "  'April 1, 2010 Census',\n",
       "  'totsex',\n",
       "  'Both Sexes',\n",
       "  'tothisp',\n",
       "  'Total',\n",
       "  '0100000US',\n",
       "  '',\n",
       "  'United States',\n",
       "  '308745538',\n",
       "  '197318956',\n",
       "  '44618105',\n",
       "  '40250635',\n",
       "  '3739506',\n",
       "  '15159516',\n",
       "  '674625',\n",
       "  '6984195']]"
      ]
     },
     "execution_count": 25,
     "metadata": {},
     "output_type": "execute_result"
    }
   ],
   "source": [
    "with open('data/census.csv') as census_file:\n",
    "    census_data = list(csv.reader(census_file))\n",
    "census_data[:5]"
   ]
  },
  {
   "cell_type": "code",
   "execution_count": 45,
   "metadata": {},
   "outputs": [
    {
     "data": {
      "text/plain": [
       "<matplotlib.axes._subplots.AxesSubplot at 0x7f100f536490>"
      ]
     },
     "execution_count": 45,
     "metadata": {},
     "output_type": "execute_result"
    },
    {
     "data": {
      "image/png": "[encoded data removed]",
      "text/plain": [
       "<matplotlib.figure.Figure at 0x7f100f4c5750>"
      ]
     },
     "metadata": {},
     "output_type": "display_data"
    }
   ],
   "source": [
    "mapping = {\n",
    "    'Asian/Pacific Islander': 15159516 + 674625,\n",
    "    'Black': 40250635,\n",
    "    'Hispanic': 44618105,\n",
    "    'Native American/Native Alaskan': 3739506,\n",
    "    'White': 197318956\n",
    "}\n",
    "\n",
    "race_counts = get_race_counts(data)\n",
    "\n",
    "race_per_hundredk = {}\n",
    "for key in race_counts:\n",
    "    race_per_hundredk[key] = (float(race_counts[key]) / mapping[key]) * 100000\n",
    "race_per_hundredk\n",
    "pd.Series(race_per_hundredk).plot('barh')"
   ]
  },
  {
   "cell_type": "code",
   "execution_count": 39,
   "metadata": {},
   "outputs": [
    {
     "data": {
      "text/plain": [
       "{'Asian/Pacific Islander': 559,\n",
       " 'Black': 19510,\n",
       " 'Hispanic': 5634,\n",
       " 'Native American/Native Alaskan': 326,\n",
       " 'White': 9147}"
      ]
     },
     "execution_count": 39,
     "metadata": {},
     "output_type": "execute_result"
    }
   ],
   "source": [
    "intents = [l[3] for l in data]\n",
    "races = [l[7] for l in data]\n",
    "homicide_race_per_hundredk = {}\n",
    "for i, race in enumerate(races):\n",
    "    if intent[i] == 'Homicide':\n",
    "        if race not in homicide_race_per_hundredk:\n",
    "            homicide_race_per_hundredk[race] = 0\n",
    "        homicide_race_per_hundredk[race] += 1\n",
    "\n",
    "homicide_race_per_hundredk\n",
    "\n",
    "    "
   ]
  },
  {
   "cell_type": "code",
   "execution_count": 44,
   "metadata": {},
   "outputs": [
    {
     "data": {
      "text/plain": [
       "<matplotlib.axes._subplots.AxesSubplot at 0x7f1026606a90>"
      ]
     },
     "execution_count": 44,
     "metadata": {},
     "output_type": "execute_result"
    },
    {
     "data": {
      "image/png": "[encoded data removed]",
      "text/plain": [
       "<matplotlib.figure.Figure at 0x7f10264ba290>"
      ]
     },
     "metadata": {},
     "output_type": "display_data"
    }
   ],
   "source": [
    "homicide_race_per_hundredk2 = {}\n",
    "for key in homicide_race_per_hundredk:\n",
    "    homicide_race_per_hundredk2[key] = (float(homicide_race_per_hundredk[key])/ mapping[key]) * 100000\n",
    "homicide_race_per_hundredk2\n",
    "pd.Series(homicide_race_per_hundredk2).plot('barh')"
   ]
  },
  {
   "cell_type": "code",
   "execution_count": 46,
   "metadata": {},
   "outputs": [
    {
     "data": {
      "text/plain": [
       "{datetime.datetime(2012, 1, 1, 0, 0): 972,\n",
       " datetime.datetime(2012, 2, 1, 0, 0): 749,\n",
       " datetime.datetime(2012, 3, 1, 0, 0): 966,\n",
       " datetime.datetime(2012, 4, 1, 0, 0): 999,\n",
       " datetime.datetime(2012, 5, 1, 0, 0): 1003,\n",
       " datetime.datetime(2012, 6, 1, 0, 0): 1044,\n",
       " datetime.datetime(2012, 7, 1, 0, 0): 1160,\n",
       " datetime.datetime(2012, 8, 1, 0, 0): 1090,\n",
       " datetime.datetime(2012, 9, 1, 0, 0): 1070,\n",
       " datetime.datetime(2012, 10, 1, 0, 0): 979,\n",
       " datetime.datetime(2012, 11, 1, 0, 0): 978,\n",
       " datetime.datetime(2012, 12, 1, 0, 0): 1083,\n",
       " datetime.datetime(2013, 1, 1, 0, 0): 986,\n",
       " datetime.datetime(2013, 2, 1, 0, 0): 721,\n",
       " datetime.datetime(2013, 3, 1, 0, 0): 923,\n",
       " datetime.datetime(2013, 4, 1, 0, 0): 916,\n",
       " datetime.datetime(2013, 5, 1, 0, 0): 955,\n",
       " datetime.datetime(2013, 6, 1, 0, 0): 1066,\n",
       " datetime.datetime(2013, 7, 1, 0, 0): 1137,\n",
       " datetime.datetime(2013, 8, 1, 0, 0): 1000,\n",
       " datetime.datetime(2013, 9, 1, 0, 0): 954,\n",
       " datetime.datetime(2013, 10, 1, 0, 0): 1009,\n",
       " datetime.datetime(2013, 11, 1, 0, 0): 979,\n",
       " datetime.datetime(2013, 12, 1, 0, 0): 1028,\n",
       " datetime.datetime(2014, 1, 1, 0, 0): 871,\n",
       " datetime.datetime(2014, 2, 1, 0, 0): 708,\n",
       " datetime.datetime(2014, 3, 1, 0, 0): 891,\n",
       " datetime.datetime(2014, 4, 1, 0, 0): 930,\n",
       " datetime.datetime(2014, 5, 1, 0, 0): 1018,\n",
       " datetime.datetime(2014, 6, 1, 0, 0): 1020,\n",
       " datetime.datetime(2014, 7, 1, 0, 0): 972,\n",
       " datetime.datetime(2014, 8, 1, 0, 0): 1035,\n",
       " datetime.datetime(2014, 9, 1, 0, 0): 942,\n",
       " datetime.datetime(2014, 10, 1, 0, 0): 980,\n",
       " datetime.datetime(2014, 11, 1, 0, 0): 962,\n",
       " datetime.datetime(2014, 12, 1, 0, 0): 1080}"
      ]
     },
     "execution_count": 46,
     "metadata": {},
     "output_type": "execute_result"
    }
   ],
   "source": [
    "homicide_date_per_hundredk = {}\n",
    "for i, date in enumerate(dates):\n",
    "    if intent[i] == 'Homicide':\n",
    "        if date not in homicide_date_per_hundredk:\n",
    "            homicide_date_per_hundredk[date] = 0\n",
    "        homicide_date_per_hundredk[date] += 1\n",
    "        \n",
    "homicide_date_per_hundredk"
   ]
  },
  {
   "cell_type": "code",
   "execution_count": 50,
   "metadata": {},
   "outputs": [
    {
     "data": {
      "text/plain": [
       "<matplotlib.axes._subplots.AxesSubplot at 0x7f100f1f9910>"
      ]
     },
     "execution_count": 50,
     "metadata": {},
     "output_type": "execute_result"
    },
    {
     "data": {
      "image/png": "[encoded data removed]",
      "text/plain": [
       "<matplotlib.figure.Figure at 0x7f100f1911d0>"
      ]
     },
     "metadata": {},
     "output_type": "display_data"
    }
   ],
   "source": [
    "homicide_date_per_hundredk2 = {}\n",
    "for key in homicide_date_per_hundredk:\n",
    "    homicide_date_per_hundredk2[key] = (float(homicide_date_per_hundredk[key])/ date_counts[key]) * 100\n",
    "homicide_date_per_hundredk2\n",
    "pd.Series(homicide_date_per_hundredk2).plot('barh')"
   ]
  }
 ],
 "metadata": {
  "kernelspec": {
   "display_name": "Python 2",
   "language": "python",
   "name": "python2"
  },
  "language_info": {
   "codemirror_mode": {
    "name": "ipython",
    "version": 2
   },
   "file_extension": ".py",
   "mimetype": "text/x-python",
   "name": "python",
   "nbconvert_exporter": "python",
   "pygments_lexer": "ipython2",
   "version": "2.7.13"
  }
 },
 "nbformat": 4,
 "nbformat_minor": 2
}
