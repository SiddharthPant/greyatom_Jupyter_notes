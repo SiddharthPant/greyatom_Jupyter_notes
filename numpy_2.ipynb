{
 "cells": [
  {
   "cell_type": "code",
   "execution_count": 1,
   "metadata": {
    "collapsed": true
   },
   "outputs": [],
   "source": [
    "import numpy as np"
   ]
  },
  {
   "cell_type": "code",
   "execution_count": 7,
   "metadata": {},
   "outputs": [
    {
     "name": "stdout",
     "output_type": "stream",
     "text": [
      "[[4 5]\n",
      " [7 2]]\n",
      "int16\n",
      "(2, 2)\n",
      "2\n",
      "[[4 7]\n",
      " [5 2]]\n"
     ]
    }
   ],
   "source": [
    "n1 = np.array([\n",
    "    [4,5],\n",
    "    [7,2]\n",
    "], dtype=np.int16)\n",
    "print n1\n",
    "print n1.dtype\n",
    "print n1.shape\n",
    "print n1.ndim\n",
    "# print np.transpose(n1)"
   ]
  },
  {
   "cell_type": "code",
   "execution_count": 36,
   "metadata": {
    "scrolled": true
   },
   "outputs": [
    {
     "name": "stdout",
     "output_type": "stream",
     "text": [
      "[[ 7 -1]]\n",
      "-1\n",
      "[ 7 -1]\n",
      "[ 7 -1]\n"
     ]
    }
   ],
   "source": [
    "print n1[[1]] # equvivalent of n1[1]\n",
    "print n1[1,1] # equvivalent of n1[1][1]\n",
    "print n1[1]\n",
    "n2 = n1[1]\n",
    "print n2\n",
    "print n2[n2 % 2 == 0]  # filtering\n",
    "n2[n2 % 2 == 0] = -1 # filtering with assignments\n",
    "print n2"
   ]
  },
  {
   "cell_type": "code",
   "execution_count": 45,
   "metadata": {},
   "outputs": [
    {
     "name": "stdout",
     "output_type": "stream",
     "text": [
      "[15 18]\n",
      "[ 7 13 13]\n"
     ]
    }
   ],
   "source": [
    "n3 = np.array([\n",
    "    [4,3],\n",
    "    [6,7],\n",
    "    [5,8]\n",
    "])\n",
    "print n3.sum(axis=0)\n",
    "print n3.sum(axis=1)"
   ]
  },
  {
   "cell_type": "code",
   "execution_count": 51,
   "metadata": {},
   "outputs": [
    {
     "name": "stdout",
     "output_type": "stream",
     "text": [
      "[[4 3]\n",
      " [6 7]\n",
      " [5 8]]\n",
      "[4 6 5]\n",
      "[3 7 8]\n"
     ]
    }
   ],
   "source": [
    "print n3\n",
    "print n3[0:3,0]\n",
    "print n3[0:3,1]"
   ]
  },
  {
   "cell_type": "code",
   "execution_count": 58,
   "metadata": {},
   "outputs": [
    {
     "name": "stdout",
     "output_type": "stream",
     "text": [
      "[[0 1 2]\n",
      " [3 4 5]\n",
      " [6 7 8]]\n",
      "[[1 2]\n",
      " [4 5]]\n",
      "[[0 1 2]\n",
      " [3 4 5]]\n"
     ]
    }
   ],
   "source": [
    "n3 = np.arange(9).reshape((3,3))\n",
    "print n3\n",
    "print n3[:2, 1:] # [x, y] first slicing on row second on columnb\n",
    "print n3[:2, 0:]"
   ]
  },
  {
   "cell_type": "code",
   "execution_count": 60,
   "metadata": {},
   "outputs": [
    {
     "name": "stdout",
     "output_type": "stream",
     "text": [
      "[[0 1]\n",
      " [2 3]]\n",
      "[[4 5]\n",
      " [6 7]]\n"
     ]
    }
   ],
   "source": [
    "n4 = np.arange(4).reshape((2, 2))\n",
    "n5 = np.arange(4, 8).reshape((2, 2))\n",
    "print n4\n",
    "print n5"
   ]
  },
  {
   "cell_type": "code",
   "execution_count": 62,
   "metadata": {},
   "outputs": [
    {
     "name": "stdout",
     "output_type": "stream",
     "text": [
      "[[ 4  6]\n",
      " [ 8 10]]\n",
      "[[-4 -4]\n",
      " [-4 -4]]\n",
      "[[ 0  5]\n",
      " [12 21]]\n",
      "[[ 6  7]\n",
      " [26 31]]\n"
     ]
    }
   ],
   "source": [
    "print n4 + n5\n",
    "print n4 - n5\n",
    "print n4 * n5\n",
    "print n4.dot(n5)"
   ]
  },
  {
   "cell_type": "code",
   "execution_count": 83,
   "metadata": {},
   "outputs": [
    {
     "name": "stdout",
     "output_type": "stream",
     "text": [
      "[5 0 3 2 0 6 5 6 3 0]\n",
      "[0 2 3 5 6]\n",
      "[0 2 3 5 6]\n",
      "[3 1 2 2 2]\n"
     ]
    }
   ],
   "source": [
    "n6 = np.array([5, 0, 3, 2, 0, 6, 5, 6, 3, 0])\n",
    "print n6\n",
    "print np.unique(n6)\n",
    "unique_elements, count = np.unique(n6, return_counts=True)\n",
    "print unique_elements\n",
    "print count"
   ]
  },
  {
   "cell_type": "code",
   "execution_count": 86,
   "metadata": {},
   "outputs": [
    {
     "name": "stdout",
     "output_type": "stream",
     "text": [
      "[(0, 3), (2, 1), (3, 2), (5, 2), (6, 2)]\n",
      "{0: 3, 2: 1, 3: 2, 5: 2, 6: 2}\n"
     ]
    }
   ],
   "source": [
    "print zip(unique_elements, count)\n",
    "print dict(zip(unique_elements, count))"
   ]
  },
  {
   "cell_type": "code",
   "execution_count": 106,
   "metadata": {},
   "outputs": [
    {
     "data": {
      "image/png": "[encoded data removed]",
      "text/plain": [
       "<matplotlib.figure.Figure at 0x7fbba30f0b50>"
      ]
     },
     "metadata": {},
     "output_type": "display_data"
    }
   ],
   "source": [
    "import matplotlib.pyplot as plt\n",
    "\n",
    "data = dict(zip(unique_elements, count))\n",
    "\n",
    "plt.bar(range(len(data)), data.values())\n",
    "plt.xticks(range(len(data)), data.keys())\n",
    "plt.show()"
   ]
  },
  {
   "cell_type": "code",
   "execution_count": 121,
   "metadata": {},
   "outputs": [
    {
     "data": {
      "image/png": "[encoded data removed]",
      "text/plain": [
       "<matplotlib.figure.Figure at 0x7fbba30380d0>"
      ]
     },
     "metadata": {},
     "output_type": "display_data"
    }
   ],
   "source": [
    "marks = np.random.rand(10)\n",
    "plt.plot(marks, 'ro')\n",
    "plt.show()"
   ]
  },
  {
   "cell_type": "code",
   "execution_count": 127,
   "metadata": {},
   "outputs": [
    {
     "data": {
      "image/png": "[encoded data removed]",
      "text/plain": [
       "<matplotlib.figure.Figure at 0x7fbba334c210>"
      ]
     },
     "metadata": {},
     "output_type": "display_data"
    }
   ],
   "source": [
    "quants = [45, 60, 34, 56]\n",
    "verbal = [90, 64, 100, 12]\n",
    "\n",
    "plt.plot(quants, label='quants')\n",
    "plt.plot(verbal, label='verbal')\n",
    "plt.legend()\n",
    "plt.show()"
   ]
  }
 ],
 "metadata": {
  "kernelspec": {
   "display_name": "Python 2",
   "language": "python",
   "name": "python2"
  },
  "language_info": {
   "codemirror_mode": {
    "name": "ipython",
    "version": 2
   },
   "file_extension": ".py",
   "mimetype": "text/x-python",
   "name": "python",
   "nbconvert_exporter": "python",
   "pygments_lexer": "ipython2",
   "version": "2.7.13"
  }
 },
 "nbformat": 4,
 "nbformat_minor": 2
}
