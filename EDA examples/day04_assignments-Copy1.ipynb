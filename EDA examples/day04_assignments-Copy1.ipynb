{
 "cells": [
  {
   "cell_type": "markdown",
   "metadata": {
    "collapsed": true
   },
   "source": [
    "# Motivation\n",
    "\n",
    "In this assignment, we'll be performing basic EDA on three different datasets to gain a wider perspective. We'll be building up on this work by later doing feature engineering and feature selection on these datasets, and hopefully your experience in EDA will give you ideas about how to do it well.\n",
    "\n",
    "Here are the three datasets and the basic facts about them:\n",
    "\n",
    "* Predicting Conversion (Conversion Rate)\n",
    "    - Binary Classification\n",
    "    - 5 features (2 categorical)\n",
    "* Employee Retention\n",
    "    - Regression\n",
    "    - 6 features (2 categorical)\n",
    "    - two timestamps\n",
    "* Identifying Fraudulent Activities\n",
    "    - Binary Classification\n",
    "    - 10 features (8 categorical)\n",
    "    \n",
    "\n",
    "# Task 1: Exploratory Data Analysis for Conversion Rate Dataset\n",
    "\n",
    "## a. Function that returns a list of the names of categorical variables\n",
    "\n",
    "### Input:\n",
    "\n",
    "Type: dataframe\n",
    "\n",
    "### Output:\n",
    "\n",
    "Type: list\n",
    "\n",
    "### Contrains:\n",
    "\n",
    "### Test cases:\n",
    "\n",
    "* Input value: Titanic dataframe\n",
    "* Expected output: [\"sex\", \"Pclass\", ...]"
   ]
  },
  {
   "cell_type": "code",
   "execution_count": 1,
   "metadata": {
    "collapsed": true
   },
   "outputs": [],
   "source": [
    "filepath = \"conversion_data.csv\""
   ]
  },
  {
   "cell_type": "code",
   "execution_count": 2,
   "metadata": {},
   "outputs": [
    {
     "data": {
      "text/html": [
       "<div>\n",
       "<style>\n",
       "    .dataframe thead tr:only-child th {\n",
       "        text-align: right;\n",
       "    }\n",
       "\n",
       "    .dataframe thead th {\n",
       "        text-align: left;\n",
       "    }\n",
       "\n",
       "    .dataframe tbody tr th {\n",
       "        vertical-align: top;\n",
       "    }\n",
       "</style>\n",
       "<table border=\"1\" class=\"dataframe\">\n",
       "  <thead>\n",
       "    <tr style=\"text-align: right;\">\n",
       "      <th></th>\n",
       "      <th>country</th>\n",
       "      <th>age</th>\n",
       "      <th>new_user</th>\n",
       "      <th>source</th>\n",
       "      <th>total_pages_visited</th>\n",
       "      <th>converted</th>\n",
       "    </tr>\n",
       "  </thead>\n",
       "  <tbody>\n",
       "    <tr>\n",
       "      <th>0</th>\n",
       "      <td>UK</td>\n",
       "      <td>25</td>\n",
       "      <td>1</td>\n",
       "      <td>Ads</td>\n",
       "      <td>1</td>\n",
       "      <td>0</td>\n",
       "    </tr>\n",
       "    <tr>\n",
       "      <th>1</th>\n",
       "      <td>US</td>\n",
       "      <td>23</td>\n",
       "      <td>1</td>\n",
       "      <td>Seo</td>\n",
       "      <td>5</td>\n",
       "      <td>0</td>\n",
       "    </tr>\n",
       "    <tr>\n",
       "      <th>2</th>\n",
       "      <td>US</td>\n",
       "      <td>28</td>\n",
       "      <td>1</td>\n",
       "      <td>Seo</td>\n",
       "      <td>4</td>\n",
       "      <td>0</td>\n",
       "    </tr>\n",
       "    <tr>\n",
       "      <th>3</th>\n",
       "      <td>China</td>\n",
       "      <td>39</td>\n",
       "      <td>1</td>\n",
       "      <td>Seo</td>\n",
       "      <td>5</td>\n",
       "      <td>0</td>\n",
       "    </tr>\n",
       "    <tr>\n",
       "      <th>4</th>\n",
       "      <td>US</td>\n",
       "      <td>30</td>\n",
       "      <td>1</td>\n",
       "      <td>Seo</td>\n",
       "      <td>6</td>\n",
       "      <td>0</td>\n",
       "    </tr>\n",
       "  </tbody>\n",
       "</table>\n",
       "</div>"
      ],
      "text/plain": [
       "  country  age  new_user source  total_pages_visited  converted\n",
       "0      UK   25         1    Ads                    1          0\n",
       "1      US   23         1    Seo                    5          0\n",
       "2      US   28         1    Seo                    4          0\n",
       "3   China   39         1    Seo                    5          0\n",
       "4      US   30         1    Seo                    6          0"
      ]
     },
     "execution_count": 2,
     "metadata": {},
     "output_type": "execute_result"
    }
   ],
   "source": [
    "import pandas as pd\n",
    "\n",
    "data = pd.read_csv(filepath)\n",
    "df = pd.DataFrame(data)\n",
    "df.head()"
   ]
  },
  {
   "cell_type": "code",
   "execution_count": 3,
   "metadata": {},
   "outputs": [
    {
     "data": {
      "text/plain": [
       "Index([u'age', u'new_user', u'total_pages_visited', u'converted'], dtype='object')"
      ]
     },
     "execution_count": 3,
     "metadata": {},
     "output_type": "execute_result"
    }
   ],
   "source": [
    "df._get_numeric_data().columns"
   ]
  },
  {
   "cell_type": "code",
   "execution_count": null,
   "metadata": {
    "collapsed": true
   },
   "outputs": [],
   "source": [
    "# check for variables having non_numeric entries or numeric entries limited to a few values(preferably less than 4)\n",
    "def categorical_variable(dataframe):\n",
    "    list1 = []\n",
    "    for i in dataframe:\n",
    "        if len(set(dataframe[i].values)) <= 4 or i not in dataframe._get_numeric_data().columns:\n",
    "            list1.append(i)\n",
    "    return list1"
   ]
  },
  {
   "cell_type": "code",
   "execution_count": null,
   "metadata": {},
   "outputs": [],
   "source": [
    "categorical_variable(df)"
   ]
  },
  {
   "cell_type": "markdown",
   "metadata": {},
   "source": [
    "## b. Function that returns the list of the names of numeric variables\n",
    "\n",
    "### Input:\n",
    "\n",
    "Type: dataframe\n",
    "\n",
    "### Output:\n",
    "\n",
    "Type: list\n",
    "\n",
    "### Contrains:\n",
    "\n",
    "### Test cases:\n",
    "\n",
    "* Input value: Titanic dataframe\n",
    "* Expected output: [\"fare\", \"age\", ...]"
   ]
  },
  {
   "cell_type": "code",
   "execution_count": null,
   "metadata": {
    "collapsed": true
   },
   "outputs": [],
   "source": [
    "def numeric_variable(dataframe):\n",
    "    list2 = [i for i in dataframe if i not in categorical_variable(dataframe)]\n",
    "    return list2"
   ]
  },
  {
   "cell_type": "code",
   "execution_count": null,
   "metadata": {},
   "outputs": [],
   "source": [
    "numeric_variable(df)"
   ]
  },
  {
   "cell_type": "markdown",
   "metadata": {},
   "source": [
    "## c. Function that reutrns, for numeric variables, mean, median, 25, 50, 75th percentile \n",
    "\n",
    "### Input:\n",
    "\n",
    "Type: dataframe\n",
    "\n",
    "### Output:\n",
    "\n",
    "Type: dataframe with \n",
    "\n",
    "columns:\n",
    "\n",
    "* variable name\n",
    "* mean\n",
    "* median\n",
    "* 25th percentile\n",
    "* 50th percentile\n",
    "* 75th percentile\n",
    "\n",
    "### Contrains:\n",
    "\n",
    "### Test cases:\n",
    "\n",
    "* Input value: Titanic dataframe\n",
    "* Expected output: dataframe"
   ]
  },
  {
   "cell_type": "code",
   "execution_count": null,
   "metadata": {
    "collapsed": true
   },
   "outputs": [],
   "source": [
    "def stats(dataframe):\n",
    "    dataframe = dataframe[numeric_variable(dataframe)].copy()\n",
    "    stats_df = dataframe.quantile([0.25, 0.5, 0.75])\n",
    "    stats_df = stats_df.T\n",
    "    stats_df[\"mean\"] = dataframe.mean()\n",
    "    stats_df[\"median\"] = stats_df[0.5]\n",
    "    stats_df = stats_df.reset_index()\n",
    "    stats_df = stats_df.rename(columns={\"index\": \"variable name\", 0.25: \"25th percentile\", 0.5: \"50th percentile\", 0.75: \"75th percentile\"})\n",
    "    return stats_df"
   ]
  },
  {
   "cell_type": "code",
   "execution_count": null,
   "metadata": {},
   "outputs": [],
   "source": [
    "stats(df)"
   ]
  },
  {
   "cell_type": "markdown",
   "metadata": {},
   "source": [
    "## d. For categorical variables, get modes\n",
    "\n",
    "### Input:\n",
    "\n",
    "Type: dataframe\n",
    "\n",
    "### Output:\n",
    "\n",
    "Type: dict\n",
    "\n",
    "### Contrains:\n",
    "\n",
    "### Test cases:\n",
    "\n",
    "* Input value: Titanic dataframe\n",
    "* Expected output: {\"Pclass\": 28, \"Sex\": 1, ...}"
   ]
  },
  {
   "cell_type": "code",
   "execution_count": null,
   "metadata": {
    "collapsed": true
   },
   "outputs": [],
   "source": [
    "def mode(dataframe):   \n",
    "    dict1 = {}\n",
    "    for i in dataframe[categorical_variable(dataframe)]:\n",
    "         frequency = dataframe[i].value_counts()\n",
    "         mode = frequency.idxmax()\n",
    "         dict1[i] = mode\n",
    "    return dict1"
   ]
  },
  {
   "cell_type": "code",
   "execution_count": null,
   "metadata": {},
   "outputs": [],
   "source": [
    "mode(df)"
   ]
  },
  {
   "cell_type": "markdown",
   "metadata": {},
   "source": [
    "## e. For each column, list the count of missing values\n",
    "\n",
    "### Input:\n",
    "\n",
    "Type: dataframe\n",
    "\n",
    "### Output:\n",
    "\n",
    "Type: dataframe with \n",
    "\n",
    "columns\n",
    "\n",
    "* var_name\n",
    "* missing_value_count\n",
    "\n",
    "### Contrains:\n",
    "\n",
    "### Test cases:\n",
    "\n",
    "* Input value: Titanic dataframe\n",
    "* Expected output: dataframe"
   ]
  },
  {
   "cell_type": "code",
   "execution_count": null,
   "metadata": {
    "collapsed": true
   },
   "outputs": [],
   "source": [
    "def missing_value_count(dataframe):\n",
    "    counts_df = dataframe.isnull().sum()\n",
    "    counts_df = counts_df.reset_index()\n",
    "    counts_df = counts_df.rename(columns={\"index\": \"var_name\", 0: \"missing_value_count\"})\n",
    "    return counts_df"
   ]
  },
  {
   "cell_type": "code",
   "execution_count": null,
   "metadata": {},
   "outputs": [],
   "source": [
    "missing_value_count(df)"
   ]
  },
  {
   "cell_type": "markdown",
   "metadata": {},
   "source": [
    "## f. Plot histograms using different subplots of all the numerical values in a single plot\n",
    "\n",
    "### Input:\n",
    "\n",
    "Type: dataframe, list_of_columns\n",
    "\n",
    "### Output:\n",
    "\n",
    "Type: matplotlib plot\n",
    "\n",
    "### Contrains:\n",
    "\n",
    "### Test cases:\n",
    "\n",
    "* Input value: Titanic dataframe, [\"age\", \"Fare\", ...]\n",
    "* Expected output: matplotlib plot"
   ]
  },
  {
   "cell_type": "code",
   "execution_count": null,
   "metadata": {},
   "outputs": [],
   "source": [
    "import matplotlib.pyplot as plt\n",
    "import seaborn as sns\n",
    "\n",
    "\n",
    "df[numeric_variable(df)].plot(subplots=True,kind = 'hist')\n",
    "plt.show()"
   ]
  },
  {
   "cell_type": "markdown",
   "metadata": {},
   "source": [
    "### f.a. Add column names as plot names \n",
    "\n",
    "### Input:\n",
    "\n",
    "Type: dataframe, list_of_columns\n",
    "\n",
    "### Output:\n",
    "\n",
    "Type: matplotlib plot\n",
    "\n",
    "### Contrains:\n",
    "\n",
    "### Test cases:\n",
    "\n",
    "* Input value: Titanic dataframe, [\"age\", \"Fare\", ...]\n",
    "* Expected output: matplotlib plot"
   ]
  },
  {
   "cell_type": "code",
   "execution_count": null,
   "metadata": {},
   "outputs": [],
   "source": [
    "df[numeric_variable(df)].plot(subplots=True,kind = 'hist',title = numeric_variable(df) )\n",
    "plt.show()"
   ]
  },
  {
   "cell_type": "markdown",
   "metadata": {},
   "source": [
    "### f.b. Change the histogram colour to yellow\n",
    "\n",
    "### Input:\n",
    "\n",
    "Type: dataframe, list_of_columns\n",
    "\n",
    "### Output:\n",
    "\n",
    "Type: matplotlib plot\n",
    "\n",
    "### Contrains:\n",
    "\n",
    "### Test cases:\n",
    "\n",
    "* Input value: Titanic dataframe, [\"age\", \"Fare\", ...]\n",
    "* Expected output: matplotlib plot"
   ]
  },
  {
   "cell_type": "code",
   "execution_count": null,
   "metadata": {},
   "outputs": [],
   "source": [
    "df[numeric_variable(df)].plot(subplots=True,kind = 'hist', title = numeric_variable(df), color = \"y\")\n",
    "plt.show()"
   ]
  },
  {
   "cell_type": "markdown",
   "metadata": {},
   "source": [
    "### f.c. Fit a normal curve on those histograms\n",
    "\n",
    "### Input:\n",
    "\n",
    "Type: dataframe, list_of_columns\n",
    "\n",
    "### Output:\n",
    "\n",
    "Type: matplotlib plot\n",
    "\n",
    "### Contrains:\n",
    "\n",
    "### Test cases:\n",
    "\n",
    "* Input value: Titanic dataframe, [\"age\", \"Fare\", ...]\n",
    "* Expected output: matplotlib plot"
   ]
  },
  {
   "cell_type": "code",
   "execution_count": null,
   "metadata": {
    "collapsed": true
   },
   "outputs": [],
   "source": []
  },
  {
   "cell_type": "markdown",
   "metadata": {},
   "source": [
    "## g. Plot facet box plots to check out the distribution according to the target variable\n",
    "\n",
    "### Input:\n",
    "\n",
    "Type: dataframe, list_of_columns\n",
    "\n",
    "### Output:\n",
    "\n",
    "Type: matplotlib plot\n",
    "\n",
    "### Contrains:\n",
    "\n",
    "### Test cases:\n",
    "\n",
    "* Input value: Titanic dataframe, [\"sex\", \"Pclass\", ...]\n",
    "* Expected output: matplotlib plot"
   ]
  },
  {
   "cell_type": "code",
   "execution_count": null,
   "metadata": {},
   "outputs": [],
   "source": [
    "df[numeric_variable(df)].plot(subplots=True,kind = 'box')\n",
    "plt.show()"
   ]
  },
  {
   "cell_type": "markdown",
   "metadata": {},
   "source": [
    "# Task 2: EDA for Employee Retention Dataset\n"
   ]
  },
  {
   "cell_type": "markdown",
   "metadata": {},
   "source": [
    "## a. Function that returns a list of the names of categorical variables\n",
    "\n",
    "### Input:\n",
    "\n",
    "Type: dataframe\n",
    "\n",
    "### Output:\n",
    "\n",
    "Type: list\n",
    "\n",
    "### Contrains:\n",
    "\n",
    "### Test cases:\n",
    "\n",
    "* Input value: Titanic dataframe\n",
    "* Expected output: [\"sex\", \"Pclass\", ...]"
   ]
  },
  {
   "cell_type": "code",
   "execution_count": null,
   "metadata": {
    "collapsed": true
   },
   "outputs": [],
   "source": [
    "filepath_1 = \"/home/satyabrat/Downloads/employee_retention_data.csv\""
   ]
  },
  {
   "cell_type": "code",
   "execution_count": null,
   "metadata": {},
   "outputs": [],
   "source": [
    "data1 = pd.read_csv(filepath_1)\n",
    "df1 = pd.DataFrame(data1)\n",
    "df1.head()"
   ]
  },
  {
   "cell_type": "code",
   "execution_count": null,
   "metadata": {},
   "outputs": [],
   "source": [
    "categorical_variable(df1)"
   ]
  },
  {
   "cell_type": "markdown",
   "metadata": {},
   "source": [
    "## b. Function that returns the list of the names of numeric variables\n",
    "\n",
    "### Input:\n",
    "\n",
    "Type: dataframe\n",
    "\n",
    "### Output:\n",
    "\n",
    "Type: list\n",
    "\n",
    "### Contrains:\n",
    "\n",
    "### Test cases:\n",
    "\n",
    "* Input value: Titanic dataframe\n",
    "* Expected output: [\"fare\", \"age\", ...]"
   ]
  },
  {
   "cell_type": "code",
   "execution_count": null,
   "metadata": {},
   "outputs": [],
   "source": [
    "numeric_variable(df1)"
   ]
  },
  {
   "cell_type": "markdown",
   "metadata": {},
   "source": [
    "## c. Function that reutrns, for numeric variables, mean, median, 25, 50, 75th percentile \n",
    "\n",
    "### Input:\n",
    "\n",
    "Type: dataframe\n",
    "\n",
    "### Output:\n",
    "\n",
    "Type: dataframe with \n",
    "\n",
    "columns:\n",
    "\n",
    "* variable name\n",
    "* mean\n",
    "* median\n",
    "* 25th percentile\n",
    "* 50th percentile\n",
    "* 75th percentile\n",
    "\n",
    "### Contrains:\n",
    "\n",
    "### Test cases:\n",
    "\n",
    "* Input value: Titanic dataframe\n",
    "* Expected output: dataframe"
   ]
  },
  {
   "cell_type": "code",
   "execution_count": null,
   "metadata": {},
   "outputs": [],
   "source": [
    "stats(df1)"
   ]
  },
  {
   "cell_type": "markdown",
   "metadata": {},
   "source": [
    "## d. For categorical variables, get modes\n",
    "\n",
    "### Input:\n",
    "\n",
    "Type: dataframe\n",
    "\n",
    "### Output:\n",
    "\n",
    "Type: dict\n",
    "\n",
    "### Contrains:\n",
    "\n",
    "### Test cases:\n",
    "\n",
    "* Input value: Titanic dataframe\n",
    "* Expected output: {\"Pclass\": 28, \"Sex\": 1, ...}"
   ]
  },
  {
   "cell_type": "code",
   "execution_count": null,
   "metadata": {},
   "outputs": [],
   "source": [
    "mode(df1)"
   ]
  },
  {
   "cell_type": "markdown",
   "metadata": {},
   "source": [
    "## e. For each column, list the count of missing values\n",
    "\n",
    "### Input:\n",
    "\n",
    "Type: dataframe\n",
    "\n",
    "### Output:\n",
    "\n",
    "Type: dataframe with \n",
    "\n",
    "columns\n",
    "\n",
    "* var_name\n",
    "* missing_value_count\n",
    "\n",
    "### Contrains:\n",
    "\n",
    "### Test cases:\n",
    "\n",
    "* Input value: Titanic dataframe\n",
    "* Expected output: dataframe"
   ]
  },
  {
   "cell_type": "code",
   "execution_count": null,
   "metadata": {},
   "outputs": [],
   "source": [
    "missing_value_count(df1)"
   ]
  },
  {
   "cell_type": "markdown",
   "metadata": {},
   "source": [
    "## f. Plot histograms using different subplots of all the numerical values in a single plot\n",
    "\n",
    "### Input:\n",
    "\n",
    "Type: dataframe, list_of_columns\n",
    "\n",
    "### Output:\n",
    "\n",
    "Type: matplotlib plot\n",
    "\n",
    "### Contrains:\n",
    "\n",
    "### Test cases:\n",
    "\n",
    "* Input value: Titanic dataframe, [\"age\", \"Fare\", ...]\n",
    "* Expected output: matplotlib plot"
   ]
  },
  {
   "cell_type": "code",
   "execution_count": null,
   "metadata": {},
   "outputs": [],
   "source": [
    "df1[numeric_variable(df1)].plot(subplots=True,kind = 'hist')\n",
    "plt.show()"
   ]
  },
  {
   "cell_type": "markdown",
   "metadata": {},
   "source": [
    "### f.a. Add column names as plot names \n",
    "\n",
    "### Input:\n",
    "\n",
    "Type: dataframe, list_of_columns\n",
    "\n",
    "### Output:\n",
    "\n",
    "Type: matplotlib plot\n",
    "\n",
    "### Contrains:\n",
    "\n",
    "### Test cases:\n",
    "\n",
    "* Input value: Titanic dataframe, [\"age\", \"Fare\", ...]\n",
    "* Expected output: matplotlib plot"
   ]
  },
  {
   "cell_type": "code",
   "execution_count": null,
   "metadata": {},
   "outputs": [],
   "source": [
    "df1[numeric_variable(df1)].plot(subplots=True,kind = 'hist', title = numeric_variable(df1))\n",
    "plt.show()"
   ]
  },
  {
   "cell_type": "markdown",
   "metadata": {},
   "source": [
    "### f.b. Change the histogram colour to yellow\n",
    "\n",
    "### Input:\n",
    "\n",
    "Type: dataframe, list_of_columns\n",
    "\n",
    "### Output:\n",
    "\n",
    "Type: matplotlib plot\n",
    "\n",
    "### Contrains:\n",
    "\n",
    "### Test cases:\n",
    "\n",
    "* Input value: Titanic dataframe, [\"age\", \"Fare\", ...]\n",
    "* Expected output: matplotlib plot"
   ]
  },
  {
   "cell_type": "code",
   "execution_count": null,
   "metadata": {},
   "outputs": [],
   "source": [
    "df1[numeric_variable(df1)].plot(subplots=True,kind = 'hist', title = numeric_variable(df1), color = \"y\" )\n",
    "plt.show()"
   ]
  },
  {
   "cell_type": "markdown",
   "metadata": {},
   "source": [
    "### f.c. Fit a normal curve on those histograms\n",
    "\n",
    "### Input:\n",
    "\n",
    "Type: dataframe, list_of_columns\n",
    "\n",
    "### Output:\n",
    "\n",
    "Type: matplotlib plot\n",
    "\n",
    "### Contrains:\n",
    "\n",
    "### Test cases:\n",
    "\n",
    "* Input value: Titanic dataframe, [\"age\", \"Fare\", ...]\n",
    "* Expected output: matplotlib plot"
   ]
  },
  {
   "cell_type": "code",
   "execution_count": null,
   "metadata": {
    "collapsed": true
   },
   "outputs": [],
   "source": []
  },
  {
   "cell_type": "markdown",
   "metadata": {},
   "source": [
    "# Task 3: EDA for Fradulent Activities Dataset"
   ]
  },
  {
   "cell_type": "code",
   "execution_count": null,
   "metadata": {
    "collapsed": true
   },
   "outputs": [],
   "source": [
    "filepath1 = \"/home/satyabrat/Downloads/Translation_Test/test_table.csv\"\n",
    "filepath2 = \"/home/satyabrat/Downloads/Translation_Test/user_table.csv\""
   ]
  },
  {
   "cell_type": "code",
   "execution_count": null,
   "metadata": {},
   "outputs": [],
   "source": [
    "import pandas as pd\n",
    "\n",
    "data_test = pd.read_csv(filepath1)\n",
    "df_test = pd.DataFrame(data_test)\n",
    "df_test.head()"
   ]
  },
  {
   "cell_type": "code",
   "execution_count": null,
   "metadata": {},
   "outputs": [],
   "source": [
    "data_user = pd.read_csv(filepath2)\n",
    "df_user = pd.DataFrame(data_user)\n",
    "df_user.head()"
   ]
  },
  {
   "cell_type": "markdown",
   "metadata": {},
   "source": [
    "## a. Map each user to his country based on his IP address\n",
    "\n",
    "### Input:\n",
    "\n",
    "Type: dataframe, dataframe\n",
    "\n",
    "### Output:\n",
    "\n",
    "Type: dataframe\n",
    "\n",
    "### Contrains:\n",
    "\n",
    "### Test cases:\n",
    "\n",
    "* Input value: dataframe1, dataframe2\n",
    "* Expected output: dataframe"
   ]
  },
  {
   "cell_type": "code",
   "execution_count": null,
   "metadata": {},
   "outputs": [],
   "source": [
    "df_map = df_user.merge(df_test, on='user_id')\n",
    "df_map"
   ]
  },
  {
   "cell_type": "markdown",
   "metadata": {},
   "source": [
    "## a. Function that returns a list of the names of categorical variables\n",
    "\n",
    "### Input:\n",
    "\n",
    "Type: dataframe\n",
    "\n",
    "### Output:\n",
    "\n",
    "Type: list\n",
    "\n",
    "### Contrains:\n",
    "\n",
    "### Test cases:\n",
    "\n",
    "* Input value: Titanic dataframe\n",
    "* Expected output: [\"sex\", \"Pclass\", ...]"
   ]
  },
  {
   "cell_type": "code",
   "execution_count": null,
   "metadata": {},
   "outputs": [],
   "source": [
    "categorical_variable(df_map)"
   ]
  },
  {
   "cell_type": "markdown",
   "metadata": {},
   "source": [
    "## b. Function that returns the list of the names of numeric variables\n",
    "\n",
    "### Input:\n",
    "\n",
    "Type: dataframe\n",
    "\n",
    "### Output:\n",
    "\n",
    "Type: list\n",
    "\n",
    "### Contrains:\n",
    "\n",
    "### Test cases:\n",
    "\n",
    "* Input value: Titanic dataframe\n",
    "* Expected output: [\"fare\", \"age\", ...]"
   ]
  },
  {
   "cell_type": "code",
   "execution_count": null,
   "metadata": {},
   "outputs": [],
   "source": [
    "numeric_variable(df_map)"
   ]
  },
  {
   "cell_type": "markdown",
   "metadata": {},
   "source": [
    "## c. Function that reutrns, for numeric variables, mean, median, 25, 50, 75th percentile \n",
    "\n",
    "### Input:\n",
    "\n",
    "Type: dataframe\n",
    "\n",
    "### Output:\n",
    "\n",
    "Type: dataframe with \n",
    "\n",
    "columns:\n",
    "\n",
    "* variable name\n",
    "* mean\n",
    "* median\n",
    "* 25th percentile\n",
    "* 50th percentile\n",
    "* 75th percentile\n",
    "\n",
    "### Contrains:\n",
    "\n",
    "### Test cases:\n",
    "\n",
    "* Input value: Titanic dataframe\n",
    "* Expected output: dataframe"
   ]
  },
  {
   "cell_type": "code",
   "execution_count": null,
   "metadata": {},
   "outputs": [],
   "source": [
    "stats(df_map)"
   ]
  },
  {
   "cell_type": "markdown",
   "metadata": {},
   "source": [
    "## d. For categorical variables, get modes\n",
    "\n",
    "### Input:\n",
    "\n",
    "Type: dataframe\n",
    "\n",
    "### Output:\n",
    "\n",
    "Type: dict\n",
    "\n",
    "### Contrains:\n",
    "\n",
    "### Test cases:\n",
    "\n",
    "* Input value: Titanic dataframe\n",
    "* Expected output: {\"Pclass\": 28, \"Sex\": 1, ...}"
   ]
  },
  {
   "cell_type": "code",
   "execution_count": null,
   "metadata": {},
   "outputs": [],
   "source": [
    "mode(df_map)"
   ]
  },
  {
   "cell_type": "markdown",
   "metadata": {},
   "source": [
    "## e. For each column, list the count of missing values\n",
    "\n",
    "### Input:\n",
    "\n",
    "Type: dataframe\n",
    "\n",
    "### Output:\n",
    "\n",
    "Type: dataframe with \n",
    "\n",
    "columns\n",
    "\n",
    "* var_name\n",
    "* missing_value_count\n",
    "\n",
    "### Contrains:\n",
    "\n",
    "### Test cases:\n",
    "\n",
    "* Input value: Titanic dataframe\n",
    "* Expected output: dataframe"
   ]
  },
  {
   "cell_type": "code",
   "execution_count": null,
   "metadata": {},
   "outputs": [],
   "source": [
    "missing_value_count(df_map)"
   ]
  },
  {
   "cell_type": "markdown",
   "metadata": {},
   "source": [
    "## f. Plot histograms using different subplots of all the numerical values in a single plot\n",
    "\n",
    "### Input:\n",
    "\n",
    "Type: dataframe, list_of_columns\n",
    "\n",
    "### Output:\n",
    "\n",
    "Type: matplotlib plot\n",
    "\n",
    "### Contrains:\n",
    "\n",
    "### Test cases:\n",
    "\n",
    "* Input value: Titanic dataframe, [\"age\", \"Fare\", ...]\n",
    "* Expected output: matplotlib plot"
   ]
  },
  {
   "cell_type": "code",
   "execution_count": null,
   "metadata": {},
   "outputs": [],
   "source": [
    "df_map[numeric_variable(df_map)].plot(subplots=True,kind = 'hist')\n",
    "plt.show()"
   ]
  },
  {
   "cell_type": "markdown",
   "metadata": {},
   "source": [
    "### f.a. Add column names as plot names \n",
    "\n",
    "### Input:\n",
    "\n",
    "Type: dataframe, list_of_columns\n",
    "\n",
    "### Output:\n",
    "\n",
    "Type: matplotlib plot\n",
    "\n",
    "### Contrains:\n",
    "\n",
    "### Test cases:\n",
    "\n",
    "* Input value: Titanic dataframe, [\"age\", \"Fare\", ...]\n",
    "* Expected output: matplotlib plot"
   ]
  },
  {
   "cell_type": "code",
   "execution_count": null,
   "metadata": {},
   "outputs": [],
   "source": [
    "df_map[numeric_variable(df_map)].plot(subplots=True,kind = 'hist',title = numeric_variable(df) )\n",
    "plt.show()"
   ]
  },
  {
   "cell_type": "markdown",
   "metadata": {},
   "source": [
    "### f.b. Change the histogram colour to yellow\n",
    "\n",
    "### Input:\n",
    "\n",
    "Type: dataframe, list_of_columns\n",
    "\n",
    "### Output:\n",
    "\n",
    "Type: matplotlib plot\n",
    "\n",
    "### Contrains:\n",
    "\n",
    "### Test cases:\n",
    "\n",
    "* Input value: Titanic dataframe, [\"age\", \"Fare\", ...]\n",
    "* Expected output: matplotlib plot"
   ]
  },
  {
   "cell_type": "code",
   "execution_count": null,
   "metadata": {},
   "outputs": [],
   "source": [
    "df_map[numeric_variable(df_map)].plot(subplots=True,kind = 'hist',title = numeric_variable(df), color = 'y')\n",
    "plt.show()"
   ]
  },
  {
   "cell_type": "markdown",
   "metadata": {},
   "source": [
    "### f.c. Fit a normal curve on those histograms\n",
    "\n",
    "### Input:\n",
    "\n",
    "Type: dataframe, list_of_columns\n",
    "\n",
    "### Output:\n",
    "\n",
    "Type: matplotlib plot\n",
    "\n",
    "### Contrains:\n",
    "\n",
    "### Test cases:\n",
    "\n",
    "* Input value: Titanic dataframe, [\"age\", \"Fare\", ...]\n",
    "* Expected output: matplotlib plot"
   ]
  },
  {
   "cell_type": "code",
   "execution_count": null,
   "metadata": {
    "collapsed": true
   },
   "outputs": [],
   "source": []
  },
  {
   "cell_type": "markdown",
   "metadata": {},
   "source": [
    "## g. Plot facet box plots to check out the distribution according to the target variable\n",
    "\n",
    "### Input:\n",
    "\n",
    "Type: dataframe, list_of_columns\n",
    "\n",
    "### Output:\n",
    "\n",
    "Type: matplotlib plot\n",
    "\n",
    "### Contrains:\n",
    "\n",
    "### Test cases:\n",
    "\n",
    "* Input value: Titanic dataframe, [\"sex\", \"Pclass\", ...]\n",
    "* Expected output: matplotlib plot"
   ]
  },
  {
   "cell_type": "code",
   "execution_count": null,
   "metadata": {},
   "outputs": [],
   "source": [
    "df_map[numeric_variable(df_map)].plot(subplots=True,kind = 'box')\n",
    "plt.show()"
   ]
  }
 ],
 "metadata": {
  "anaconda-cloud": {},
  "kernelspec": {
   "display_name": "Python 2",
   "language": "python",
   "name": "python2"
  },
  "language_info": {
   "codemirror_mode": {
    "name": "ipython",
    "version": 2
   },
   "file_extension": ".py",
   "mimetype": "text/x-python",
   "name": "python",
   "nbconvert_exporter": "python",
   "pygments_lexer": "ipython2",
   "version": "2.7.13"
  }
 },
 "nbformat": 4,
 "nbformat_minor": 1
}
