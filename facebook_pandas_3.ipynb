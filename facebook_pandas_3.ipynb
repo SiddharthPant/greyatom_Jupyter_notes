{
 "cells": [
  {
   "cell_type": "code",
   "execution_count": 3,
   "metadata": {
    "collapsed": true
   },
   "outputs": [],
   "source": [
    "import pandas as pd\n",
    "from pandas import Series, DataFrame\n",
    "import numpy as np\n",
    "import matplotlib.pyplot as plt"
   ]
  },
  {
   "cell_type": "code",
   "execution_count": 44,
   "metadata": {},
   "outputs": [
    {
     "data": {
      "image/png": "[encoded data removed]",
      "text/plain": [
       "<matplotlib.figure.Figure at 0x7faf00808c90>"
      ]
     },
     "metadata": {},
     "output_type": "display_data"
    }
   ],
   "source": [
    "file_path = '/home/sandip/code/GA/data_files/facebook_login_logout_logs'\n",
    "data = pd.read_csv(file_path, header=None, names=['username', 'date', 'time', 'action'], \\\n",
    "                   usecols=['username', 'action'])\n",
    "# print type(data)\n",
    "\n",
    "data = data[data['action'] == 'out']\n",
    "username_count = data['username'].value_counts()\n",
    "username_count.plot(kind='barh')\n",
    "plt.show()"
   ]
  },
  {
   "cell_type": "code",
   "execution_count": 27,
   "metadata": {},
   "outputs": [
    {
     "name": "stdout",
     "output_type": "stream",
     "text": [
      "                       username action\n",
      "count                        54     54\n",
      "unique                        3      2\n",
      "top     mehul.chopra@neebal.com    out\n",
      "freq                         24     39\n"
     ]
    }
   ],
   "source": [
    "print data.describe()"
   ]
  }
 ],
 "metadata": {
  "kernelspec": {
   "display_name": "Python 2",
   "language": "python",
   "name": "python2"
  },
  "language_info": {
   "codemirror_mode": {
    "name": "ipython",
    "version": 2
   },
   "file_extension": ".py",
   "mimetype": "text/x-python",
   "name": "python",
   "nbconvert_exporter": "python",
   "pygments_lexer": "ipython2",
   "version": "2.7.13"
  }
 },
 "nbformat": 4,
 "nbformat_minor": 2
}
