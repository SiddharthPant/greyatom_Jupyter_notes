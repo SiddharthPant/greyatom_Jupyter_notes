{
 "cells": [
  {
   "cell_type": "code",
   "execution_count": 13,
   "metadata": {
    "collapsed": true
   },
   "outputs": [],
   "source": [
    "def add(*nos): #argument packing\n",
    "    print type(nos)"
   ]
  },
  {
   "cell_type": "code",
   "execution_count": 4,
   "metadata": {},
   "outputs": [
    {
     "name": "stdout",
     "output_type": "stream",
     "text": [
      "<type 'tuple'>\n"
     ]
    }
   ],
   "source": [
    "add(5)"
   ]
  },
  {
   "cell_type": "code",
   "execution_count": 6,
   "metadata": {},
   "outputs": [
    {
     "name": "stdout",
     "output_type": "stream",
     "text": [
      "<type 'tuple'>\n"
     ]
    }
   ],
   "source": [
    "add(4,5,6)"
   ]
  },
  {
   "cell_type": "code",
   "execution_count": 8,
   "metadata": {},
   "outputs": [],
   "source": [
    "def sum(*nos):\n",
    "    total = 0\n",
    "    for i in nos:\n",
    "        total = total + i\n",
    "    return total"
   ]
  },
  {
   "cell_type": "code",
   "execution_count": 14,
   "metadata": {},
   "outputs": [
    {
     "name": "stdout",
     "output_type": "stream",
     "text": [
      "6\n",
      "3\n",
      "26\n"
     ]
    }
   ],
   "source": [
    "print sum(1,2,3)\n",
    "print sum(1,2)\n",
    "print sum(1,4,6,7,8)"
   ]
  },
  {
   "cell_type": "code",
   "execution_count": 18,
   "metadata": {},
   "outputs": [
    {
     "name": "stdout",
     "output_type": "stream",
     "text": [
      "Price 400\n",
      "Pages 500\n"
     ]
    }
   ],
   "source": [
    "def print_detail(price, pages):\n",
    "    print 'Price ' + str(price)    \n",
    "    print 'Pages ' + str(pages)\n",
    "    \n",
    "print_detail(400,500)"
   ]
  },
  {
   "cell_type": "code",
   "execution_count": 25,
   "metadata": {},
   "outputs": [
    {
     "name": "stdout",
     "output_type": "stream",
     "text": [
      "Price 500\n",
      "Pages 500\n"
     ]
    }
   ],
   "source": [
    "def print_detail1(**details):\n",
    "    # details is treated as dict\n",
    "    print 'Price ' + str(details['price'])    \n",
    "    print 'Pages ' + str(details['pages'])\n",
    "    \n",
    "print_detail1(price=500,pages=500)"
   ]
  },
  {
   "cell_type": "code",
   "execution_count": 34,
   "metadata": {},
   "outputs": [
    {
     "name": "stdout",
     "output_type": "stream",
     "text": [
      "24\n",
      "24\n",
      "24\n",
      "24\n"
     ]
    }
   ],
   "source": [
    "def area(l,b):\n",
    "    return l * b\n",
    "\n",
    "stats = [8,3] # [l,b]\n",
    "stats_map = {'l': 8, 'b': 3}\n",
    "\n",
    "# general way\n",
    "print area(stats[0],stats[1])\n",
    "print area(stats_map['l'],stats_map['b'])\n",
    "\n",
    "# pythonic way\n",
    "print area(*stats) # argument unpacking\n",
    "print area(**stats_map) # argument unpacking"
   ]
  }
 ],
 "metadata": {
  "kernelspec": {
   "display_name": "Python 2",
   "language": "python",
   "name": "python2"
  },
  "language_info": {
   "codemirror_mode": {
    "name": "ipython",
    "version": 2
   },
   "file_extension": ".py",
   "mimetype": "text/x-python",
   "name": "python",
   "nbconvert_exporter": "python",
   "pygments_lexer": "ipython2",
   "version": "2.7.13"
  }
 },
 "nbformat": 4,
 "nbformat_minor": 2
}
