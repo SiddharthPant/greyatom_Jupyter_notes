{
 "cells": [
  {
   "cell_type": "code",
   "execution_count": 130,
   "metadata": {},
   "outputs": [
    {
     "name": "stdout",
     "output_type": "stream",
     "text": [
      "<module 'pandas' from '/home/sandip/anaconda2/lib/python2.7/site-packages/pandas/__init__.pyc'>\n",
      "0.20.1\n"
     ]
    }
   ],
   "source": [
    "import pandas as pd\n",
    "import numpy as np\n",
    "import matplotlib.pyplot as plt\n",
    "print pd\n",
    "print pd.__version__"
   ]
  },
  {
   "cell_type": "code",
   "execution_count": 131,
   "metadata": {
    "collapsed": true
   },
   "outputs": [],
   "source": [
    "from pandas import Series  # Series is a one dimensional array and not a table"
   ]
  },
  {
   "cell_type": "code",
   "execution_count": 132,
   "metadata": {},
   "outputs": [
    {
     "name": "stdout",
     "output_type": "stream",
     "text": [
      "<class 'pandas.core.series.Series'>\n",
      "0     7\n",
      "1    10\n",
      "2    10\n",
      "3     4\n",
      "4     4\n",
      "5     2\n",
      "6     8\n",
      "7    10\n",
      "dtype: int64\n"
     ]
    }
   ],
   "source": [
    "marks = [7,10,10,4,4,2,8,10]\n",
    "s = Series(marks)\n",
    "print type(s)\n",
    "print s"
   ]
  },
  {
   "cell_type": "code",
   "execution_count": 133,
   "metadata": {},
   "outputs": [
    {
     "name": "stdout",
     "output_type": "stream",
     "text": [
      "RangeIndex(start=0, stop=8, step=1)\n",
      "[ 7 10 10  4  4  2  8 10]\n"
     ]
    }
   ],
   "source": [
    "print s.index  # index is explicit in Pandas\n",
    "print s.values"
   ]
  },
  {
   "cell_type": "code",
   "execution_count": 134,
   "metadata": {},
   "outputs": [
    {
     "name": "stdout",
     "output_type": "stream",
     "text": [
      "0\n",
      "1\n",
      "2\n",
      "3\n",
      "4\n",
      "5\n",
      "6\n",
      "7\n"
     ]
    }
   ],
   "source": [
    "for i in s.index:\n",
    "    print i"
   ]
  },
  {
   "cell_type": "code",
   "execution_count": 135,
   "metadata": {
    "collapsed": true
   },
   "outputs": [],
   "source": [
    "rolls = [10, 20, 31, 32, 44, 12, 15, 18]"
   ]
  },
  {
   "cell_type": "code",
   "execution_count": 136,
   "metadata": {},
   "outputs": [
    {
     "name": "stdout",
     "output_type": "stream",
     "text": [
      "10     7\n",
      "20    10\n",
      "31    10\n",
      "32     4\n",
      "44     4\n",
      "12     2\n",
      "15     8\n",
      "18    10\n",
      "dtype: int16\n"
     ]
    }
   ],
   "source": [
    "s2 = Series(data=marks, index=rolls, dtype=np.int16)   # data & index are kwargs\n",
    "print s2"
   ]
  },
  {
   "cell_type": "code",
   "execution_count": 137,
   "metadata": {},
   "outputs": [
    {
     "name": "stdout",
     "output_type": "stream",
     "text": [
      "False\n",
      "True\n"
     ]
    }
   ],
   "source": [
    "print 100 in s2  # checking if index present on the Series \n",
    "print 20 in s2"
   ]
  },
  {
   "cell_type": "code",
   "execution_count": 138,
   "metadata": {},
   "outputs": [
    {
     "name": "stdout",
     "output_type": "stream",
     "text": [
      "10\n",
      "10\n"
     ]
    }
   ],
   "source": [
    "print s2[20]  # by the index based array[10] will return value of index number 10\n",
    "print s2.iloc[1]  # this is location based for eg. array[1] "
   ]
  },
  {
   "cell_type": "code",
   "execution_count": 139,
   "metadata": {},
   "outputs": [
    {
     "name": "stdout",
     "output_type": "stream",
     "text": [
      "10     7\n",
      "20    10\n",
      "31    10\n",
      "dtype: int16\n",
      "32     4\n",
      "44     4\n",
      "12     2\n",
      "15     8\n",
      "18    10\n",
      "dtype: int16\n"
     ]
    }
   ],
   "source": [
    "# slicing\n",
    "print s2[:3]\n",
    "print s2[3:] # entire series 3rd and from 4th"
   ]
  },
  {
   "cell_type": "code",
   "execution_count": 140,
   "metadata": {},
   "outputs": [
    {
     "data": {
      "text/plain": [
       "10     7\n",
       "20    10\n",
       "31    10\n",
       "32     4\n",
       "dtype: int16"
      ]
     },
     "execution_count": 140,
     "metadata": {},
     "output_type": "execute_result"
    }
   ],
   "source": [
    "s2.loc[10:32] # location based index and in here last index is included"
   ]
  },
  {
   "cell_type": "code",
   "execution_count": 141,
   "metadata": {},
   "outputs": [
    {
     "name": "stdout",
     "output_type": "stream",
     "text": [
      "Roll No\n",
      "10     7\n",
      "20    10\n",
      "31    10\n",
      "32     4\n",
      "44     4\n",
      "12     2\n",
      "15     8\n",
      "18    10\n",
      "Name: Marks, dtype: int16\n"
     ]
    }
   ],
   "source": [
    "s2.index.name = 'Roll No'\n",
    "s2.name = 'Marks'\n",
    "s2\n",
    "print s2"
   ]
  },
  {
   "cell_type": "code",
   "execution_count": 142,
   "metadata": {},
   "outputs": [
    {
     "data": {
      "text/plain": [
       "Roll No\n",
       "10    7\n",
       "44    4\n",
       "32    4\n",
       "Name: Marks, dtype: int16"
      ]
     },
     "execution_count": 142,
     "metadata": {},
     "output_type": "execute_result"
    }
   ],
   "source": [
    "s2[[10, 44, 32]]  # multiple indexing\n"
   ]
  },
  {
   "cell_type": "code",
   "execution_count": 143,
   "metadata": {},
   "outputs": [
    {
     "name": "stdout",
     "output_type": "stream",
     "text": [
      "Roll No\n",
      "10     7\n",
      "20    10\n",
      "31    10\n",
      "15     8\n",
      "18    10\n",
      "Name: Marks, dtype: int16\n",
      "20\n",
      "31\n",
      "18\n"
     ]
    }
   ],
   "source": [
    "# filtering\n",
    "s2 > 5  # returns boolean series\n",
    "print s2[s2 > 5]  # returns filtered series with True value \n",
    "rolls_10 = s2[s2 == 10].index\n",
    "\n",
    "\n",
    "for roll in rolls_10:\n",
    "    print roll \n"
   ]
  },
  {
   "cell_type": "code",
   "execution_count": 144,
   "metadata": {},
   "outputs": [
    {
     "name": "stdout",
     "output_type": "stream",
     "text": [
      "Sum: 55\n",
      "Mean: 6.875\n",
      "Median: 7.5\n",
      "Mode: 0    10\n",
      "dtype: int16\n",
      "Min: 2\n",
      "Max: 10\n",
      "count     8.000000\n",
      "mean      6.875000\n",
      "std       3.181981\n",
      "min       2.000000\n",
      "25%       4.000000\n",
      "50%       7.500000\n",
      "75%      10.000000\n",
      "max      10.000000\n",
      "Name: Marks, dtype: float64\n"
     ]
    }
   ],
   "source": [
    "# Some analytics on series\n",
    "# print s2\n",
    "print 'Sum: {}'.format(s2.sum())\n",
    "print 'Mean: {}'.format(s2.mean())\n",
    "print 'Median: {}'.format(s2.median())\n",
    "print 'Mode: {}'.format(s2.mode())\n",
    "print 'Min: {}'.format(s2.min())\n",
    "print 'Max: {}'.format(s2.max())\n",
    "print s2.describe()"
   ]
  },
  {
   "cell_type": "code",
   "execution_count": 145,
   "metadata": {},
   "outputs": [
    {
     "name": "stdout",
     "output_type": "stream",
     "text": [
      "10    3\n",
      "4     2\n",
      "7     1\n",
      "2     1\n",
      "8     1\n",
      "Name: Marks, dtype: int64\n",
      "8     1\n",
      "2     1\n",
      "7     1\n",
      "4     2\n",
      "10    3\n",
      "Name: Marks, dtype: int64\n",
      "8    1\n",
      "2    1\n",
      "7    1\n",
      "Name: Marks, dtype: int64\n",
      "7    1\n",
      "2    1\n",
      "8    1\n",
      "Name: Marks, dtype: int64\n"
     ]
    }
   ],
   "source": [
    "print s2.value_counts()  # returns distinct count of marks\n",
    "print s2.value_counts(ascending=True)  # returns distinct count of marks \n",
    "print s2.value_counts(ascending=True).head(3)  # returns top n values head(n) - UseCase e.g. return top 3 repeated marks\n",
    "print s2.value_counts().tail(3)  # returns bottom n values tail(n)"
   ]
  },
  {
   "cell_type": "code",
   "execution_count": 164,
   "metadata": {},
   "outputs": [
    {
     "data": {
      "image/png": "[encoded data removed]",
      "text/plain": [
       "<matplotlib.figure.Figure at 0x7fe89db97a50>"
      ]
     },
     "metadata": {},
     "output_type": "display_data"
    },
    {
     "data": {
      "image/png": "[encoded data removed]",
      "text/plain": [
       "<matplotlib.figure.Figure at 0x7fe89552ea50>"
      ]
     },
     "metadata": {},
     "output_type": "display_data"
    },
    {
     "data": {
      "image/png": "[encoded data removed]",
      "text/plain": [
       "<matplotlib.figure.Figure at 0x7fe895420850>"
      ]
     },
     "metadata": {},
     "output_type": "display_data"
    },
    {
     "data": {
      "text/plain": [
       "{2: 1, 4: 2, 7: 1, 8: 1, 10: 3}"
      ]
     },
     "execution_count": 164,
     "metadata": {},
     "output_type": "execute_result"
    }
   ],
   "source": [
    "mark_frequency = s2.value_counts(ascending=True)\n",
    "mark_frequency.index.name = 'Marks'\n",
    "mark_frequency.name = 'Frequency'\n",
    "mark_frequency.plot(kind='bar')\n",
    "plt.show()\n",
    "mark_frequency.plot(kind='barh')\n",
    "plt.show()\n",
    "mark_frequency.plot(kind='pie')\n",
    "plt.show()\n",
    "mark_frequency.to_csv(path='/home/sandip/code/GA/data_files/generated_frequent_marks', header=True)\n",
    "mark_frequency.to_dict()"
   ]
  },
  {
   "cell_type": "code",
   "execution_count": 177,
   "metadata": {},
   "outputs": [
    {
     "name": "stdout",
     "output_type": "stream",
     "text": [
      "Marks\n",
      "8     1\n",
      "2     1\n",
      "7     1\n",
      "4     2\n",
      "10    3\n",
      "Name: Frequency, dtype: int64\n"
     ]
    }
   ],
   "source": [
    "# reading from a file\n",
    "# https://pandas.pydata.org/pandas-docs/stable/generated/pandas.Series.from_csv.html#pandas-series-from-csv\n",
    "mf = pd.Series.from_csv(path='/home/sandip/code/GA/data_files/generated_frequent_marks', header=0)\n",
    "print mf"
   ]
  },
  {
   "cell_type": "code",
   "execution_count": 181,
   "metadata": {},
   "outputs": [
    {
     "data": {
      "text/plain": [
       "Roll No\n",
       "12     2\n",
       "32     4\n",
       "44     4\n",
       "10     7\n",
       "15     8\n",
       "20    10\n",
       "31    10\n",
       "18    10\n",
       "Name: Marks, dtype: int16"
      ]
     },
     "execution_count": 181,
     "metadata": {},
     "output_type": "execute_result"
    }
   ],
   "source": [
    "# sorting\n",
    "s2.sort_index()\n",
    "s2.sort_values(ascending=True)"
   ]
  }
 ],
 "metadata": {
  "kernelspec": {
   "display_name": "Python 2",
   "language": "python",
   "name": "python2"
  },
  "language_info": {
   "codemirror_mode": {
    "name": "ipython",
    "version": 2
   },
   "file_extension": ".py",
   "mimetype": "text/x-python",
   "name": "python",
   "nbconvert_exporter": "python",
   "pygments_lexer": "ipython2",
   "version": "2.7.13"
  }
 },
 "nbformat": 4,
 "nbformat_minor": 2
}
