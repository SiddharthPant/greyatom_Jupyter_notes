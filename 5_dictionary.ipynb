{
 "cells": [
  {
   "cell_type": "code",
   "execution_count": 8,
   "metadata": {},
   "outputs": [
    {
     "name": "stdout",
     "output_type": "stream",
     "text": [
      "<type 'dict'>\n"
     ]
    }
   ],
   "source": [
    "# https://docs.python.org/2/tutorial/datastructures.html#dictionaries \n",
    "    \n",
    "# map based Data Structure\n",
    "# Key Value based \n",
    "print type({})\n"
   ]
  },
  {
   "cell_type": "code",
   "execution_count": 15,
   "metadata": {},
   "outputs": [
    {
     "name": "stdout",
     "output_type": "stream",
     "text": [
      "{1: 'sandip', 2: 'Someone else'}\n"
     ]
    }
   ],
   "source": [
    "test = {\n",
    "    1: 'sandip',\n",
    "    2: 'Someone else',\n",
    "}\n",
    "print test"
   ]
  },
  {
   "cell_type": "code",
   "execution_count": 22,
   "metadata": {},
   "outputs": [
    {
     "name": "stdout",
     "output_type": "stream",
     "text": [
      "sandip\n",
      "{1: 'sandip', 2: 'new person'}\n"
     ]
    }
   ],
   "source": [
    "print test[1]\n",
    "test[2] = 'new person' # Dicts are mutable\n",
    "print test"
   ]
  },
  {
   "cell_type": "code",
   "execution_count": 25,
   "metadata": {},
   "outputs": [
    {
     "name": "stdout",
     "output_type": "stream",
     "text": [
      "{1: 'sandip', 2: 'new person', 3: 'Newly added item'}\n"
     ]
    }
   ],
   "source": [
    "test[3] = 'Newly added item'\n",
    "print test"
   ]
  },
  {
   "cell_type": "code",
   "execution_count": 28,
   "metadata": {},
   "outputs": [
    {
     "data": {
      "text/plain": [
       "3"
      ]
     },
     "execution_count": 28,
     "metadata": {},
     "output_type": "execute_result"
    }
   ],
   "source": [
    "len(test) # returns number of KV items in a dict"
   ]
  },
  {
   "cell_type": "code",
   "execution_count": 49,
   "metadata": {},
   "outputs": [
    {
     "name": "stdout",
     "output_type": "stream",
     "text": [
      "1\n",
      "2\n",
      "3\n",
      "sandip\n",
      "new person\n",
      "Newly added item\n",
      "<dictionary-itemiterator object at 0x7f55045fec00>\n",
      "1\n",
      "sandip\n",
      "2\n",
      "new person\n",
      "3\n",
      "Newly added item\n"
     ]
    }
   ],
   "source": [
    "for k in test: # prints values\n",
    "    print k\n",
    "    \n",
    "for k in test: # Not a pythonic way to iterate over dict, Avoid it!\n",
    "    print test[k] \n",
    "    \n",
    "print test.iteritems()\n",
    "\n",
    "for k,v, in test.iteritems(): # prints keys and values\n",
    "    print k\n",
    "    print v"
   ]
  },
  {
   "cell_type": "code",
   "execution_count": 58,
   "metadata": {},
   "outputs": [
    {
     "name": "stdout",
     "output_type": "stream",
     "text": [
      "('Title 1', 100, 150)\n",
      "Title 1\n",
      "100\n",
      "150\n"
     ]
    }
   ],
   "source": [
    "books = {\n",
    "    'B001': ('Title 1',100, 150),\n",
    "    'B002': ('Title 2',200, 250)\n",
    "}\n",
    "\n",
    "print books['B001']\n",
    "for b in books['B001']:\n",
    "    print b\n"
   ]
  }
 ],
 "metadata": {
  "kernelspec": {
   "display_name": "Python 2",
   "language": "python",
   "name": "python2"
  },
  "language_info": {
   "codemirror_mode": {
    "name": "ipython",
    "version": 2
   },
   "file_extension": ".py",
   "mimetype": "text/x-python",
   "name": "python",
   "nbconvert_exporter": "python",
   "pygments_lexer": "ipython2",
   "version": "2.7.13"
  }
 },
 "nbformat": 4,
 "nbformat_minor": 2
}
