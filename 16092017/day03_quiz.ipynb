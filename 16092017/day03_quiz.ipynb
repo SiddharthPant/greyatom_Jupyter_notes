{
 "cells": [
  {
   "cell_type": "markdown",
   "metadata": {},
   "source": [
    "**1) In a normal distribution, the standard score of the tenth percentile (the value that separates the bottom 10 percent from the top 90 percent) is:**\n",
    "\n",
    "    a. -2.33\n",
    "    b. -0.90\n",
    "    c. 0.10\n",
    "    d. -0.10\n",
    "    e. 0.54\n",
    "    f. -0.82\n",
    "    g. -1.28"
   ]
  },
  {
   "cell_type": "markdown",
   "metadata": {},
   "source": [
    "Ans: g. -1.28"
   ]
  },
  {
   "cell_type": "markdown",
   "metadata": {},
   "source": [
    "**2) To obtain a _statistically significant result_ means:**\n",
    "\n",
    "    a. To reject H0 when it is true\n",
    "    b. To get an outcome in the rejection region\n",
    "    c. To arrive at a correct conclusion\n",
    "    d. To obtain a scientifically meaningful result\n",
    "    e. To obtain a result that will recur in a replication"
   ]
  },
  {
   "cell_type": "markdown",
   "metadata": {},
   "source": [
    "Ans: b. To get an outcome in the rejection region"
   ]
  },
  {
   "cell_type": "markdown",
   "metadata": {},
   "source": [
    "**3) If we conduct a statistical test of a hypothesis, using a random sample, and the result is not significant, what conclusion can we draw?**\n",
    "\n",
    "    a. We did not manage to reject H0\n",
    "    b. H1 should be rejected\n",
    "    c. H0 should be rejected\n",
    "    d. H0 is true\n",
    "    e. H1 is true\n",
    "    f. We did not manage to reject H1"
   ]
  },
  {
   "cell_type": "markdown",
   "metadata": {},
   "source": [
    "Ans: a. We did not manage to reject H0"
   ]
  },
  {
   "cell_type": "markdown",
   "metadata": {},
   "source": [
    "**4) We are interested in estimating the positive range of a large and finite population by the range of a random sample (of size 20) from this population. This estimator of the range of the population is which of the following:**\n",
    "\n",
    "    a. An unbiased estimator\n",
    "    b. One cannot know whether it is a biased or an unbiased estimator. It depends on the population's distribution\n",
    "    c. An upward biased estimator\n",
    "    d. A downward biased estimator"
   ]
  },
  {
   "cell_type": "markdown",
   "metadata": {},
   "source": [
    "Ans: d. A downward biased estimator"
   ]
  },
  {
   "cell_type": "markdown",
   "metadata": {},
   "source": [
    "**5) The distribution of heights of adult American men is approximately Normal with mean 69 inches and standard deviation 2.5 inches. Between what heights do the middle 95% of men fall?**\n",
    "\n",
    "    a. 66.5-71.5\n",
    "    b. 64-74\n",
    "    c. 61.5-76.5\n",
    "    d. 65-73"
   ]
  },
  {
   "cell_type": "markdown",
   "metadata": {},
   "source": [
    "Ans: b. 64-74"
   ]
  },
  {
   "cell_type": "markdown",
   "metadata": {},
   "source": [
    "**6) The mean life of a tire is 30,000 km. The standard deviation is 2000 km.\n",
    "Then, 68% of all tires will have a life between ______ km and ______ km. **\n",
    "\n",
    "    a. 28,000 km and 32,000 km. \n",
    "    b. 24,000 km and 34,000 km.\n",
    "    c. 26,000 km and 34,000 km.\n",
    "    d. 27,000 km and 31,000 km."
   ]
  },
  {
   "cell_type": "markdown",
   "metadata": {},
   "source": [
    "Ans: a. 28,000 km and 32,000 km."
   ]
  },
  {
   "cell_type": "markdown",
   "metadata": {},
   "source": [
    "**7) The normal curve is symmetrical about the mean. **\n",
    "\n",
    "    a. True\n",
    "    b. False"
   ]
  },
  {
   "cell_type": "markdown",
   "metadata": {},
   "source": [
    "Ans: a. True"
   ]
  },
  {
   "cell_type": "markdown",
   "metadata": {},
   "source": [
    "**8) The shelf life of a particular dairy product is normally distributed with a mean of 12 days and a standard deviation of 3 days.\n",
    "About what percent of the products last between 12 and 15 days? **\n",
    "\n",
    "    a. 68%\n",
    "    b. 34%\n",
    "    c. 16%\n",
    "    d. 2.5%"
   ]
  },
  {
   "cell_type": "markdown",
   "metadata": {},
   "source": [
    "Ans: b. 34%"
   ]
  },
  {
   "cell_type": "markdown",
   "metadata": {},
   "source": [
    "**9) You are creating a tree house and have made the doorway into the structure 71 inches tall. Suppose the average height of adult males is 68 inches with a standard deviation of 3 inches. What percentage of men will have to bend their heads to get into the house?**\n",
    "\n",
    "    a. 68%\n",
    "    b. 16%\n",
    "    c. 84%\n",
    "    d. 32%"
   ]
  },
  {
   "cell_type": "markdown",
   "metadata": {},
   "source": [
    "Ans: b. 16%"
   ]
  },
  {
   "cell_type": "markdown",
   "metadata": {},
   "source": [
    "**10) A survey will be given to 100 students randomly selected from the freshmen class at Lincoln High School. What is the population?**\n",
    "\n",
    "    a. The 100 selected students\n",
    "    b. All freshmen at Lincoln High School\n",
    "    c. All students at Lincoln High School"
   ]
  },
  {
   "cell_type": "markdown",
   "metadata": {},
   "source": [
    "Ans: b. All freshmen at Lincoln High School"
   ]
  },
  {
   "cell_type": "markdown",
   "metadata": {},
   "source": [
    "**11) What is meant by a Type 1 error?**\n",
    "\n",
    "    a. Rejecting a null hypothesis that is true\n",
    "    b. Retaining a null hypothesis that false is\n",
    "    c. Inputting your data inaccurately in a statistical test"
   ]
  },
  {
   "cell_type": "markdown",
   "metadata": {},
   "source": [
    "Ans: a. Rejecting a null hypothesis that is true"
   ]
  },
  {
   "cell_type": "markdown",
   "metadata": {},
   "source": [
    "**12) You are interested in how stress affects heart rate in humans. Your dependent variable would be the \\_\\_\\_\\_\\_.**\n",
    "\n",
    "    a. stress\n",
    "    b. heart rate\n",
    "    c. number of humans\n",
    "    d. interest"
   ]
  },
  {
   "cell_type": "markdown",
   "metadata": {
    "collapsed": true
   },
   "source": [
    "ans: heart rate"
   ]
  },
  {
   "cell_type": "markdown",
   "metadata": {},
   "source": [
    "**14) If there is a strong curvilinear relationship between two quantitative variables, Pearson's correlation coefficient will**\n",
    "\t\n",
    "    a.\testimate this relationship accurately.\n",
    "\tb.\tunderestimate this relationship.\n",
    "\tc.\tslightly overestimate this relationship.\n",
    "\td.\tgrossly overestimate this relationship."
   ]
  },
  {
   "cell_type": "markdown",
   "metadata": {},
   "source": [
    "ans: \tb.\tunderestimate this relationship."
   ]
  },
  {
   "cell_type": "markdown",
   "metadata": {},
   "source": [
    "**15) Which statement is true for \"outliers\"?**\n",
    "        \n",
    "        a.\tthey should be deleted from analysis.\n",
    "        b.\tthey can distort summary statistics.\n",
    "        c.\tthey are mistakes made in analysis.\n",
    "        d.\tthey are of little importance."
   ]
  },
  {
   "cell_type": "markdown",
   "metadata": {},
   "source": [
    "ans: b. they can distort summary statistics."
   ]
  },
  {
   "cell_type": "markdown",
   "metadata": {},
   "source": [
    "**16) Chi-Square is**\n",
    "    \n",
    "    a.\tused when comparing two sets of rankings\n",
    "    b.\tused when comparing several sets of scores\n",
    "    c.\tused when comparing two sets of scores\n",
    "    d.\tused with categorical data"
   ]
  },
  {
   "cell_type": "markdown",
   "metadata": {},
   "source": [
    "ans: d.\tused with categorical data"
   ]
  },
  {
   "cell_type": "markdown",
   "metadata": {},
   "source": [
    "**17) Analysis of Variance is**\n",
    "\n",
    "\ta.\tused when comparing two sets of rankings\n",
    "\tb.\tused when comparing several sets of scores\n",
    "\tc.\tused when comparing two sets of scores\n",
    "\td.\tused with categorical data"
   ]
  },
  {
   "cell_type": "markdown",
   "metadata": {},
   "source": [
    "ans: b. used when comparing several sets of scores"
   ]
  },
  {
   "cell_type": "markdown",
   "metadata": {},
   "source": [
    "**18) When researchers make few, if any, assumptions about the nature of the population from which the sample involved in the survey is drawn, this refers to**\n",
    "\t\n",
    "    a.\tsampling error.\n",
    "\tb.\tparametric techniques.\n",
    "\tc.\tnon-parametric techniques.\n",
    "\td.\tnull hypothesis."
   ]
  },
  {
   "cell_type": "markdown",
   "metadata": {},
   "source": [
    "ans: c.\tnon-parametric techniques."
   ]
  },
  {
   "cell_type": "markdown",
   "metadata": {},
   "source": [
    "**19) \tWhen researchers make various assumptions about the nature of the population from which the sample involved is drawn, this is a requirement of**\n",
    "\n",
    "\ta.\tnon-parametric techniques.\n",
    "\tb.\tthe null hypothesis.\n",
    "\tc.\tsampling error.\n",
    "\td.\tparametric techniques."
   ]
  },
  {
   "cell_type": "markdown",
   "metadata": {},
   "source": [
    "ans: d. parametric techniques."
   ]
  },
  {
   "cell_type": "markdown",
   "metadata": {},
   "source": [
    "**20) If a researcher rejects a null hypothesis, the researcher either**\n",
    "\n",
    "\ta.\tis incorrect, or made a Type I error.\n",
    "\tb.\tis correct, or made a Type I error.\n",
    "\tc.\tis incorrect, or made a Type II error.\n",
    "\td.\tis correct, or made a Type II error."
   ]
  },
  {
   "cell_type": "markdown",
   "metadata": {},
   "source": [
    "ans: b.\tis correct, or made a Type I error."
   ]
  },
  {
   "cell_type": "markdown",
   "metadata": {},
   "source": []
  }
 ],
 "metadata": {
  "kernelspec": {
   "display_name": "Python 2",
   "language": "python",
   "name": "python2"
  },
  "language_info": {
   "codemirror_mode": {
    "name": "ipython",
    "version": 2
   },
   "file_extension": ".py",
   "mimetype": "text/x-python",
   "name": "python",
   "nbconvert_exporter": "python",
   "pygments_lexer": "ipython2",
   "version": "2.7.13"
  }
 },
 "nbformat": 4,
 "nbformat_minor": 2
}
