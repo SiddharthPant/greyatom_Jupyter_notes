{
 "cells": [
  {
   "cell_type": "markdown",
   "metadata": {},
   "source": [
    "# Question 1 t-test"
   ]
  },
  {
   "cell_type": "markdown",
   "metadata": {},
   "source": [
    "## A study was conducted to examine the differences in perceived life satisfaction between older and younger adults.  \n",
    "Ten older adults and ten younger adults were give a life satisfaction test (known to have high reliability and validity). \n",
    "Scores on the measure range from 0 to 60 with high scores indicative of high life satisfaction; \n",
    "low scores indicative of low life satisfaction.\n",
    "\n",
    "The data are presented below.\n",
    "\n",
    "    Older Adults = [45, 38, 52, 48, 25, 39, 51, 46, 55, 46]\n",
    "\n",
    "    Younger Adults = [34, 22, 15, 27, 37, 41, 24, 19, 26, 36]\n",
    "\n",
    "\n",
    "**1. What would be the null hypothesis?**\n",
    "\n",
    "    a. There is NO significant difference between younger and older adults on perceived life satisfaction.\n",
    "    b. There is significant difference between younger and older adults on perceived life satisfaction. \n",
    "\n",
    "**2. What is your computed t-statistic?**\n",
    "\n",
    "**3. What significance level did you choose?**\n",
    "\n",
    "**4. What is your computed p-value?**\n",
    "\n",
    "**5. What are your degrees of freedom?**\n",
    "\n",
    "**6. What is the value of t-critical?**\n",
    "\n",
    "**7. Is there a significant difference between the two groups?**\n",
    "\n",
    "### Write a function *t\\_test* that:\n",
    "\n",
    "##### Takes 3 parameters:\n",
    "    dataset1: List\n",
    "    dataset2: List\n",
    "    significance_level: float\n",
    "\n",
    "##### Returns: \n",
    "    True, if set1 and set2 are significantly different.\n",
    "    False, if they are significantly not different.\n"
   ]
  },
  {
   "cell_type": "markdown",
   "metadata": {},
   "source": [
    "**ANSWERS**\n",
    "\n",
    "1. a. There is NO significant difference between younger and older adults on perceived life satisfaction.\n",
    "2. 4.2575466655581611\n",
    "3. 0.05\n",
    "4. 0.00047391057357466142\n",
    "5. 18\n",
    "6. 2.101\n",
    "7. Yes"
   ]
  },
  {
   "cell_type": "code",
   "execution_count": 32,
   "metadata": {
    "collapsed": true
   },
   "outputs": [],
   "source": [
    "from scipy.stats import ttest_ind\n",
    "\n",
    "\n",
    "def t_test(array1, array2, s_level=0.05):\n",
    "    tstat, pvalue =  ttest_ind(array1, array2, equal_var=False)\n",
    "    if pvalue < s_level:\n",
    "        return True\n",
    "    else:\n",
    "        return False"
   ]
  },
  {
   "cell_type": "code",
   "execution_count": 33,
   "metadata": {
    "collapsed": false
   },
   "outputs": [
    {
     "data": {
      "text/plain": [
       "True"
      ]
     },
     "execution_count": 33,
     "metadata": {},
     "output_type": "execute_result"
    }
   ],
   "source": [
    "t_test([45, 38, 52, 48, 25, 39, 51, 46, 55, 46], [34, 22, 15, 27, 37, 41, 24, 19, 26, 36])"
   ]
  },
  {
   "cell_type": "markdown",
   "metadata": {},
   "source": [
    "## Question 2 t-test"
   ]
  },
  {
   "cell_type": "markdown",
   "metadata": {},
   "source": [
    "We want to examine the effect of perceived control on the number of health complaints of patients in a long-term care facility. Patients are randomly selected. Half are given a plant to care for and half are given a plant but the care is conducted by the  hospital staff. Number of health complaints are recorded for each patient over the following month.\n",
    "\n",
    "    Control over plant -> 23, 12, 6, 15, 18, 5, 21, 18, 34, 10, 23, 14, 19, 23, 8\n",
    "\n",
    "    No Control over plant -> 35, 21, 26, 24, 17, 23, 37, 22, 16, 38, 23, 41, 27, 24, 32\n",
    "\n",
    "\n",
    "\n",
    "**1. What would be the null hypothesis?**\n",
    "\n",
    "    a. Control over a plant will have an impact on the number of health complaints.\n",
    "    b. Control over a plant will have no impact on the number of health complaints.\n",
    "\n",
    "**2. What is your computed t-statistic?**\n",
    "\n",
    "**3. What significance level did you choose?**\n",
    "\n",
    "**4. What is your computed p-value?**\n",
    "\n",
    "**5. What are your degrees of freedom?**\n",
    "\n",
    "**6. Is there a significant difference between the two groups?**\n",
    "\n",
    "### Write a function *t\\_test* that:\n",
    "\n",
    "##### Takes 3 parameters:\n",
    "    dataset1: List\n",
    "    dataset2: List\n",
    "    significance_level: float\n",
    "\n",
    "##### Returns: \n",
    "    True, if set1 and set2 are significantly different.\n",
    "    False, if they are significantly not different."
   ]
  },
  {
   "cell_type": "markdown",
   "metadata": {},
   "source": [
    "**ANSWERS:**\n",
    "\n",
    "1. b. Control over a plant will have no impact on the number of health complaints.\n",
    "2. 3.69116297988\n",
    "3. 0.05\n",
    "4. 0.000955591334372\n",
    "5. 28\n",
    "6. Yes"
   ]
  },
  {
   "cell_type": "code",
   "execution_count": 34,
   "metadata": {
    "collapsed": true
   },
   "outputs": [],
   "source": [
    "from scipy.stats import ttest_ind\n",
    "\n",
    "\n",
    "def t_test(array1, array2, s_level=0.05):\n",
    "    tstat, pvalue =  ttest_ind(array1, array2, equal_var=False)\n",
    "    print tstat, pvalue\n",
    "    if pvalue < s_level:\n",
    "        return True\n",
    "    else:\n",
    "        return False"
   ]
  },
  {
   "cell_type": "code",
   "execution_count": 35,
   "metadata": {
    "collapsed": false
   },
   "outputs": [
    {
     "name": "stdout",
     "output_type": "stream",
     "text": [
      "3.69116297988 0.000955591334372\n"
     ]
    },
    {
     "data": {
      "text/plain": [
       "True"
      ]
     },
     "execution_count": 35,
     "metadata": {},
     "output_type": "execute_result"
    }
   ],
   "source": [
    "t_test([35, 21, 26, 24, 17, 23, 37, 22, 16, 38, 23, 41, 27, 24, 32],\n",
    "       [23, 12, 6, 15, 18, 5, 21, 18, 34, 10, 23, 14, 19, 23, 8]\n",
    "      )"
   ]
  },
  {
   "cell_type": "markdown",
   "metadata": {},
   "source": [
    "## Question 3 ANOVA"
   ]
  },
  {
   "cell_type": "markdown",
   "metadata": {},
   "source": [
    "We want to examine the effectiveness of a new antidepressant. Depressed patients were randomly assigned to three groups: *a placebo group*, *low dose group*, *moderate dose group*. After four weeks of treatment, the patients were tested. The higher the score, the more depressed the patient. The data are presented below.\n",
    "\n",
    "    Placebo -> 38, 47, 39, 25, 42\n",
    "    Low Dose -> 22, 19, 8, 23, 31\n",
    "    Moderate Dose -> 14, 26, 11, 18, 5\n",
    "\n",
    "**1. What would be the null hypothesis in this study?**\n",
    "\n",
    "    a. There will be difference in depression levels between the three groups.\n",
    "    b. There will be no difference in depression levels between the three groups.\n",
    "\n",
    "**2. What probability level did you choose?**\n",
    "\n",
    "**3. What is the F statistic you computed?**\n",
    "\n",
    "**4. Is there a significant difference between the groups?**\n",
    "\n",
    "### Write a function *anova* that:\n",
    "\n",
    "##### Takes 4 parameters:\n",
    "    dataset1: List\n",
    "    dataset2: List\n",
    "    dataset3: List\n",
    "    probability_level: float\n",
    "\n",
    "##### Returns: \n",
    "    True, if there is difference between the three sets.\n",
    "    False, if there is no difference."
   ]
  },
  {
   "cell_type": "markdown",
   "metadata": {},
   "source": [
    "**ANSWERS:**\n",
    "\n",
    "1. b. There will be no difference in depression levels between the three groups.\n",
    "2. 0.01 There is a risk involved with a Type I error. We do not want to erroneously say the drug works and then later find out that it doesn't.\n",
    "3. 11.266565503287806\n",
    "4. Yes. A significant difference exists somewhere between the groups."
   ]
  },
  {
   "cell_type": "code",
   "execution_count": 36,
   "metadata": {
    "collapsed": false
   },
   "outputs": [
    {
     "data": {
      "text/plain": [
       "True"
      ]
     },
     "execution_count": 36,
     "metadata": {},
     "output_type": "execute_result"
    }
   ],
   "source": [
    "from scipy.stats import f_oneway\n",
    "\n",
    "def anova(set1, set2, set3, p_level):\n",
    "    F_stat, pvalue = f_oneway(set1, set2, set3)\n",
    "    if pvalue < p_level:\n",
    "        return True\n",
    "    else:\n",
    "        return False\n",
    "    \n",
    "    \n",
    "anova([38, 47, 39, 25, 42], [22, 19, 8, 23, 31], [14, 26, 11, 18, 5], 0.01)"
   ]
  },
  {
   "cell_type": "markdown",
   "metadata": {},
   "source": [
    "## Question 4 $Chi^2$"
   ]
  },
  {
   "cell_type": "markdown",
   "metadata": {},
   "source": [
    "There are six different colored Cadbury Gems candies: red, orange, yellow, green, blue and brown.  do all six colors occur in equal proportion? \n",
    "\n",
    "Suppose that we have a simple random sample of 600 Cadbury Gems with the following distribution:\n",
    "212 blue candies.\n",
    "147 orange candies.\n",
    "103 green candies.\n",
    "50 red candies.\n",
    "46 yellow candies.\n",
    "42 brown candies.\n",
    "\n",
    "Do all six colors occur in equal proportion? Conduct a chi square goodness of fit test to answer the question.\n",
    "\n",
    "**1. What would be the null hypothesis in this study?**\n",
    "\n",
    "    a. The six colors occur in equal proportions.\n",
    "    b. The six colors do not occur in equal proportions.\n",
    "\n",
    "**2. Do all six colors occur in equal proportion?**\n",
    "\n",
    "\n",
    "### Write a function *chi_square_goodness* that:\n",
    "\n",
    "##### Takes 2 parameters:\n",
    "    data_observed: List\n",
    "    probability_level: float\n",
    "    (Optional)data_expected: List\n",
    "\n",
    "##### Returns: \n",
    "    True, if the observed distribution fits the theoritical distribution.\n",
    "    False, if the observed distribution DOES NOT fit the theoritical distribution."
   ]
  },
  {
   "cell_type": "markdown",
   "metadata": {},
   "source": [
    "**ANSWERS:**\n",
    "1. a. The six colors occur in equal proportions.\n",
    "2. No."
   ]
  },
  {
   "cell_type": "code",
   "execution_count": 37,
   "metadata": {
    "collapsed": false
   },
   "outputs": [
    {
     "data": {
      "text/plain": [
       "False"
      ]
     },
     "execution_count": 37,
     "metadata": {},
     "output_type": "execute_result"
    }
   ],
   "source": [
    "from scipy.stats import chisquare\n",
    "\n",
    "def chi_square_goodness(data, p_level=0.05):\n",
    "    \n",
    "    stat, pvalue = chisquare(data)\n",
    "    if pvalue >= p_level:\n",
    "        return True\n",
    "    else:\n",
    "        return False\n",
    "chi_square_goodness([212, 147, 103, 50, 46, 42])"
   ]
  }
 ],
 "metadata": {
  "anaconda-cloud": {},
  "kernelspec": {
   "display_name": "Python [conda env:greyatom]",
   "language": "python",
   "name": "conda-env-greyatom-py"
  },
  "language_info": {
   "codemirror_mode": {
    "name": "ipython",
    "version": 2
   },
   "file_extension": ".py",
   "mimetype": "text/x-python",
   "name": "python",
   "nbconvert_exporter": "python",
   "pygments_lexer": "ipython2",
   "version": "2.7.13"
  }
 },
 "nbformat": 4,
 "nbformat_minor": 2
}
