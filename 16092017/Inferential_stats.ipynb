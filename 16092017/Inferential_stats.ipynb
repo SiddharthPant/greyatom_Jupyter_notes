{
 "cells": [
  {
   "cell_type": "code",
   "execution_count": 1,
   "metadata": {
    "collapsed": true
   },
   "outputs": [],
   "source": [
    "import numpy as np\n",
    "import pandas as pd\n",
    "import scipy.stats as stats\n",
    "import matplotlib.pyplot as plt\n",
    "import random\n",
    "import math\n",
    "\n",
    "%matplotlib inline"
   ]
  },
  {
   "cell_type": "code",
   "execution_count": 2,
   "metadata": {},
   "outputs": [
    {
     "name": "stdout",
     "output_type": "stream",
     "text": [
      "[20 23 21 22]\n"
     ]
    },
    {
     "data": {
      "text/plain": [
       "28.998624"
      ]
     },
     "execution_count": 2,
     "metadata": {},
     "output_type": "execute_result"
    }
   ],
   "source": [
    "# Generate Dataset\n",
    "np.random.seed(4)\n",
    "population_ages1 = stats.poisson.rvs(mu=35, size=150000)\n",
    "population_ages2 = stats.poisson.rvs(mu=20, size=100000)\n",
    "\n",
    "population_ages = np.concatenate((population_ages1, population_ages2))\n",
    "print population_ages[150001:150005]\n",
    "population_ages.mean()\n",
    "\n"
   ]
  },
  {
   "cell_type": "code",
   "execution_count": 3,
   "metadata": {},
   "outputs": [
    {
     "name": "stdout",
     "output_type": "stream",
     "text": [
      "sample mean 29.082\n",
      "Population age 1 Mean 34.9940066667\n",
      "Population age 2 Mean 20.00555\n",
      "Population age Mean 28.998624\n",
      "error:  0.083376\n"
     ]
    }
   ],
   "source": [
    "np.random.seed(2)\n",
    "sample_ages = np.random.choice(a=population_ages, size=500)\n",
    "print 'sample mean', sample_ages.mean()\n",
    "print 'Population age 1 Mean', population_ages1.mean()\n",
    "print 'Population age 2 Mean', population_ages2.mean()\n",
    "print 'Population age Mean', population_ages.mean()\n",
    "print 'error: ', sample_ages.mean() - population_ages.mean()"
   ]
  },
  {
   "cell_type": "code",
   "execution_count": 4,
   "metadata": {},
   "outputs": [
    {
     "name": "stdout",
     "output_type": "stream",
     "text": [
      "['white', 'white', 'white', 'white', 'white']\n",
      "['black', 'black', 'black', 'black', 'black']\n",
      "250000\n",
      "hispanic  proportion estimate: 0.2\n",
      "white  proportion estimate: 0.4\n",
      "other  proportion estimate: 0.1\n",
      "black  proportion estimate: 0.2\n",
      "asian  proportion estimate: 0.1\n"
     ]
    }
   ],
   "source": [
    "population_races = ([\"white\"]*100000) + ([\"black\"]*50000) +\\\n",
    "                   ([\"hispanic\"]*50000) + ([\"asian\"]*25000) +\\\n",
    "                   ([\"other\"]*25000)\n",
    "print population_races[0:5]\n",
    "print population_races[100000:100005]\n",
    "print len(population_races)\n",
    "# demo_sample = random.sample(population_races, 1000)   # Sample 1000 values\n",
    "\n",
    "for race in set(population_races):\n",
    "    print race, \" proportion estimate:\", float(population_races.count(race))/len(population_races) "
   ]
  },
  {
   "cell_type": "code",
   "execution_count": 5,
   "metadata": {},
   "outputs": [
    {
     "name": "stdout",
     "output_type": "stream",
     "text": [
      "Sample production\n",
      "hispanic  proportion estimate: 0.191\n",
      "white  proportion estimate: 0.41\n",
      "other  proportion estimate: 0.092\n",
      "black  proportion estimate: 0.204\n",
      "asian  proportion estimate: 0.103\n"
     ]
    }
   ],
   "source": [
    "np.random.seed(2)\n",
    "sample_races = random.sample(population_races,1000)\n",
    "print 'Sample production'\n",
    "for race in set(population_races):\n",
    "    print race, \" proportion estimate:\", float(sample_races.count(race))/len(sample_races) "
   ]
  },
  {
   "cell_type": "code",
   "execution_count": 9,
   "metadata": {},
   "outputs": [
    {
     "name": "stdout",
     "output_type": "stream",
     "text": [
      "Sample mean:  29.213\n",
      "Z value 1.95996398454\n",
      "Confidence interval: \n",
      "(28.66107737492915, 29.764922625070852)\n",
      "Interval Range:  1.10384525014\n"
     ]
    }
   ],
   "source": [
    "np.random.seed(8)\n",
    "sample_size = 1000\n",
    "sample_ages = np.random.choice(a=population_ages, size=1000)\n",
    "sample_mean = sample_ages.mean()\n",
    "print 'Sample mean: ', sample_ages.mean()\n",
    "z_critical = stats.norm.ppf(q = 0.975)\n",
    "print 'Z value', z_critical\n",
    "\n",
    "sample_stdev = sample_ages.std()\n",
    "population_stdev = population_ages.std()\n",
    "\n",
    "margin_of_error = z_critical * (sample_stdev/math.sqrt(sample_size))\n",
    "confidence_interval = (sample_mean - margin_of_error,\n",
    "                       sample_mean + margin_of_error)\n",
    "print (\"Confidence interval: \")\n",
    "print confidence_interval\n",
    "print 'Interval Range: ', 2 * margin_of_error"
   ]
  },
  {
   "cell_type": "code",
   "execution_count": 13,
   "metadata": {},
   "outputs": [
    {
     "name": "stdout",
     "output_type": "stream",
     "text": [
      "Sample Mean:  29.213\n",
      "Sample Mean:  28.799\n",
      "Sample Mean:  28.813\n",
      "Sample Mean:  28.941\n",
      "Sample Mean:  28.851\n",
      "Sample Mean:  29.119\n",
      "Sample Mean:  28.849\n",
      "Sample Mean:  29.32\n",
      "Sample Mean:  28.945\n",
      "Sample Mean:  28.774\n",
      "Sample Mean:  28.766\n",
      "Sample Mean:  29.038\n",
      "Sample Mean:  28.921\n",
      "Sample Mean:  29.247\n",
      "Sample Mean:  29.024\n",
      "Sample Mean:  28.872\n",
      "Sample Mean:  28.725\n",
      "Sample Mean:  28.865\n",
      "Sample Mean:  29.137\n",
      "Sample Mean:  28.706\n",
      "Sample Mean:  28.945\n",
      "Sample Mean:  29.007\n",
      "Sample Mean:  29.042\n",
      "Sample Mean:  29.21\n",
      "Sample Mean:  29.05\n",
      "[(28.648142983390933, 29.777857016609069), (28.234142983390932, 29.363857016609067), (28.248142983390927, 29.37785701660907), (28.376142983390928, 29.50585701660907), (28.286142983390931, 29.415857016609067), (28.554142983390932, 29.683857016609068), (28.284142983390929, 29.413857016609072), (28.755142983390932, 29.884857016609068), (28.380142983390932, 29.509857016609068), (28.209142983390933, 29.338857016609069), (28.20114298339093, 29.330857016609066), (28.473142983390929, 29.602857016609072), (28.356142983390932, 29.485857016609067), (28.682142983390932, 29.811857016609068), (28.459142983390933, 29.588857016609069), (28.307142983390932, 29.436857016609068), (28.160142983390934, 29.289857016609069), (28.300142983390927, 29.42985701660907), (28.572142983390933, 29.701857016609068), (28.141142983390928, 29.270857016609071), (28.380142983390932, 29.509857016609068), (28.44214298339093, 29.571857016609073), (28.477142983390934, 29.606857016609069), (28.645142983390933, 29.774857016609069), (28.485142983390929, 29.614857016609072)]\n"
     ]
    }
   ],
   "source": [
    "# Repeat 25 times\n",
    "np.random.seed(8)\n",
    "sample_size = 1000\n",
    "population_stdev = population_ages.std()\n",
    "intervals = []\n",
    "sample_means = []\n",
    "for i in range(25):\n",
    "    sample_ages = np.random.choice(a=population_ages, size=1000)\n",
    "    sample_mean = sample_ages.mean()\n",
    "    print 'Sample Mean: ', sample_ages.mean()\n",
    "    z_critical = stats.norm.ppf(q = 0.975)\n",
    "    margin_of_error = z_critical * (population_stdev/math.sqrt(sample_size))\n",
    "    confidence_interval = (sample_mean - margin_of_error,\n",
    "                       sample_mean + margin_of_error)\n",
    "    intervals.append(confidence_interval)\n",
    "    sample_means.append(sample_mean)\n",
    "print intervals"
   ]
  },
  {
   "cell_type": "code",
   "execution_count": 19,
   "metadata": {},
   "outputs": [
    {
     "data": {
      "text/plain": [
       "<matplotlib.collections.LineCollection at 0x7f456343b890>"
      ]
     },
     "execution_count": 19,
     "metadata": {},
     "output_type": "execute_result"
    },
    {
     "data": {
      "image/png": "[encoded data removed]",
      "text/plain": [
       "<matplotlib.figure.Figure at 0x7f45633fe710>"
      ]
     },
     "metadata": {},
     "output_type": "display_data"
    }
   ],
   "source": [
    "#Plot intervals\n",
    "plt.figure(figsize=(9,9))\n",
    "plt.errorbar(x=np.arange(0.1, 25, 1), \n",
    "             y=sample_means, \n",
    "             yerr=[(top-bot)/2 for top,bot in intervals],\n",
    "             fmt='o')\n",
    "\n",
    "plt.hlines(xmin=0, xmax=25,\n",
    "           y=population_ages.mean(), \n",
    "           linewidth=2.0,\n",
    "           color=\"red\")"
   ]
  }
 ],
 "metadata": {
  "kernelspec": {
   "display_name": "Python 2",
   "language": "python",
   "name": "python2"
  },
  "language_info": {
   "codemirror_mode": {
    "name": "ipython",
    "version": 2
   },
   "file_extension": ".py",
   "mimetype": "text/x-python",
   "name": "python",
   "nbconvert_exporter": "python",
   "pygments_lexer": "ipython2",
   "version": "2.7.13"
  }
 },
 "nbformat": 4,
 "nbformat_minor": 2
}
