{
 "cells": [
  {
   "cell_type": "code",
   "execution_count": 12,
   "metadata": {},
   "outputs": [
    {
     "name": "stdout",
     "output_type": "stream",
     "text": [
      "False\n",
      "True\n",
      "False\n",
      "True\n",
      "False\n",
      "True\n"
     ]
    }
   ],
   "source": [
    "print 5 == 6 \n",
    "print 5 != 6 \n",
    "print 5 > 6\n",
    "print 5 < 6\n",
    "x = (5 < 6) and (3 < 2) # and --> True is all conditions are true\n",
    "y = (5 < 6) or (3 < 2) # or --> True is any of conditions are true\n",
    "print(x)\n",
    "print(y)"
   ]
  },
  {
   "cell_type": "code",
   "execution_count": 21,
   "metadata": {},
   "outputs": [
    {
     "name": "stdout",
     "output_type": "stream",
     "text": [
      "Enter a number : 5\n",
      "5 is odd\n"
     ]
    }
   ],
   "source": [
    "num = int(raw_input('Enter a number : '))\n",
    "\n",
    "if num % 2 == 0:\n",
    "    print str(num) + ' is even'\n",
    "else:\n",
    "    print str(num) + ' is odd'"
   ]
  },
  {
   "cell_type": "code",
   "execution_count": 29,
   "metadata": {},
   "outputs": [
    {
     "name": "stdout",
     "output_type": "stream",
     "text": [
      "Eneter marks : 45\n",
      "C\n"
     ]
    }
   ],
   "source": [
    "marks = float(raw_input('Eneter marks : '))\n",
    "\n",
    "if marks > 100 or marks < 0:\n",
    "    print 'invalid'\n",
    "elif marks >= 70:\n",
    "    print 'A'\n",
    "elif marks >= 60:\n",
    "    print 'B'\n",
    "elif marks >= 40:\n",
    "    print 'C'\n",
    "else:\n",
    "    print 'Failed!'"
   ]
  }
 ],
 "metadata": {
  "kernelspec": {
   "display_name": "Python 2",
   "language": "python",
   "name": "python2"
  },
  "language_info": {
   "codemirror_mode": {
    "name": "ipython",
    "version": 2
   },
   "file_extension": ".py",
   "mimetype": "text/x-python",
   "name": "python",
   "nbconvert_exporter": "python",
   "pygments_lexer": "ipython2",
   "version": "2.7.13"
  }
 },
 "nbformat": 4,
 "nbformat_minor": 2
}
