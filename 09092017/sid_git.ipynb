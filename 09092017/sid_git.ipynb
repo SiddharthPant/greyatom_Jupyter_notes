{
 "cells": [
  {
   "cell_type": "code",
   "execution_count": 2,
   "metadata": {
    "collapsed": true
   },
   "outputs": [],
   "source": [
    "import requests"
   ]
  },
  {
   "cell_type": "code",
   "execution_count": 3,
   "metadata": {},
   "outputs": [
    {
     "data": {
      "text/plain": [
       "200"
      ]
     },
     "execution_count": 3,
     "metadata": {},
     "output_type": "execute_result"
    }
   ],
   "source": [
    "url = url = \"https://api.github.com/users/SiddharthPant/starred?access_token=e76b17e645e29eec73927eb95813d8a92e8a2e65\"\n",
    "request = requests.get(url)\n",
    "request.status_code"
   ]
  },
  {
   "cell_type": "code",
   "execution_count": 6,
   "metadata": {},
   "outputs": [
    {
     "data": {
      "text/plain": [
       "200"
      ]
     },
     "execution_count": 6,
     "metadata": {},
     "output_type": "execute_result"
    }
   ],
   "source": [
    "url = \"https://api.github.com/users/karpathy/starred?access_token=e76b17e645e29eec73927eb95813d8a92e8a2e65\"\n",
    "request = requests.get(url)\n",
    "request.status_code"
   ]
  },
  {
   "cell_type": "code",
   "execution_count": 10,
   "metadata": {},
   "outputs": [
    {
     "data": {
      "text/plain": [
       "30"
      ]
     },
     "execution_count": 10,
     "metadata": {},
     "output_type": "execute_result"
    }
   ],
   "source": [
    "starred_request = request.json()\n",
    "len(starred_request)"
   ]
  },
  {
   "cell_type": "code",
   "execution_count": 11,
   "metadata": {},
   "outputs": [
    {
     "data": {
      "text/plain": [
       "[u'Name:SIGBOVIK17-GUNs ; URL: https://github.com/albanie/SIGBOVIK17-GUNs, Description:Supporting public code for SIGBOVIK17 submission',\n",
       " u'Name:thyme ; URL: https://github.com/sourcegraph/thyme, Description:Automatically track which applications you use and for how long.',\n",
       " u\"Name:mac-dev-setup ; URL: https://github.com/nicolashery/mac-dev-setup, Description:A beginner's guide to setting up a development environment on Mac OS X\",\n",
       " u'Name:densecap ; URL: https://github.com/jcjohnson/densecap, Description:Dense image captioning in Torch',\n",
       " u'Name:adnn ; URL: https://github.com/dritchie/adnn, Description:Javascript neural networks on top of general scalar/tensor reverse-mode automatic differentiation.',\n",
       " u'Name:Stochastic_Depth ; URL: https://github.com/yueatsprograms/Stochastic_Depth, Description:Code for \"Deep Networks with Stochastic Depth\"',\n",
       " u'Name:torch-rnn ; URL: https://github.com/jcjohnson/torch-rnn, Description:Efficient, reusable RNNs and LSTMs for torch',\n",
       " u'Name:fb.resnet.torch ; URL: https://github.com/facebook/fb.resnet.torch, Description:Torch implementation of ResNet from http://arxiv.org/abs/1512.03385 and training scripts',\n",
       " u'Name:tensorflow_tutorials ; URL: https://github.com/pkmital/tensorflow_tutorials, Description:From the basics to slightly more interesting applications of Tensorflow',\n",
       " u'Name:deep-residual-networks ; URL: https://github.com/KaimingHe/deep-residual-networks, Description:Deep Residual Learning for Image Recognition ',\n",
       " u'Name:weblas ; URL: https://github.com/waylonflinn/weblas, Description:GPU Powered BLAS for Browsers :gem:',\n",
       " u'Name:tf-adversarial ; URL: https://github.com/siemanko/tf-adversarial, Description:Adversarial networks in TensorFlow',\n",
       " u'Name:scholar.py ; URL: https://github.com/ckreibich/scholar.py, Description:A parser for Google Scholar, written in Python',\n",
       " u'Name:char-rnn-tensorflow ; URL: https://github.com/sherjilozair/char-rnn-tensorflow, Description: Multi-layer Recurrent Neural Networks (LSTM, RNN) for character-level language models in Python using Tensorflow ',\n",
       " u\"Name:TensorFlow-Tutorials ; URL: https://github.com/nlintz/TensorFlow-Tutorials, Description:Simple tutorials using Google's TensorFlow Framework\",\n",
       " u'Name:marvin ; URL: https://github.com/PrincetonVision/marvin, Description:Marvin: A Minimalist GPU-only N-Dimensional ConvNets Framework',\n",
       " u'Name:tensorflow ; URL: https://github.com/tensorflow/tensorflow, Description:Computation using data flow graphs for scalable machine learning',\n",
       " u'Name:faster_rcnn ; URL: https://github.com/ShaoqingRen/faster_rcnn, Description:Faster R-CNN',\n",
       " u'Name:gitbook ; URL: https://github.com/GitbookIO/gitbook, Description:\\U0001f4dd Modern documentation format and toolchain using Git and Markdown',\n",
       " u'Name:neural-style ; URL: https://github.com/jcjohnson/neural-style, Description:Torch implementation of neural style algorithm',\n",
       " u'Name:oxnn ; URL: https://github.com/tkocisky/oxnn, Description:None',\n",
       " u'Name:neuralslimevolley ; URL: https://github.com/hardmaru/neuralslimevolley, Description:Neural Slime Volleyball',\n",
       " u'Name:Theano-Tutorials ; URL: https://github.com/Newmu/Theano-Tutorials, Description:Bare bones introduction to machine learning from linear regression to convolutional neural networks using Theano.',\n",
       " u'Name:deepwalk ; URL: https://github.com/phanein/deepwalk, Description:DeepWalk - Deep Learning for Graphs',\n",
       " u'Name:Sum-of-Functions-Optimizer ; URL: https://github.com/Sohl-Dickstein/Sum-of-Functions-Optimizer, Description:Implements SFO minibatch optimizer in Python and MATLAB, and reproduces figures from paper.',\n",
       " u\"Name:simple-amt ; URL: https://github.com/jcjohnson/simple-amt, Description:A microframework for working with Amazon's Mechanical Turk\",\n",
       " u'Name:deep-pink ; URL: https://github.com/erikbern/deep-pink, Description:Deep Pink is a chess AI that learns to play chess using deep learning.',\n",
       " u'Name:optimBench ; URL: https://github.com/IoannisAntonoglou/optimBench, Description:Benchmark testbed for assessing the performance of optimisation algorithms',\n",
       " u\"Name:DeepBeliefSDK ; URL: https://github.com/jetpacapp/DeepBeliefSDK, Description:The SDK for Jetpac's iOS Deep Belief image recognition framework\",\n",
       " u'Name:gif.js ; URL: https://github.com/jnordberg/gif.js, Description:JavaScript GIF encoding library']"
      ]
     },
     "execution_count": 11,
     "metadata": {},
     "output_type": "execute_result"
    }
   ],
   "source": [
    "list1 = []\n",
    "for i in starred_request:\n",
    "    list1.append(\"Name:%s ; URL: %s, Description:%s\"% (i.get(\"name\"), i.get(\"html_url\"), i.get('description')))\n",
    "list1"
   ]
  },
  {
   "cell_type": "code",
   "execution_count": 12,
   "metadata": {},
   "outputs": [
    {
     "data": {
      "text/plain": [
       "[u\"Owner:{u'following_url': u'https://api.github.com/users/albanie/following{/other_user}', u'events_url': u'https://api.github.com/users/albanie/events{/privacy}', u'organizations_url': u'https://api.github.com/users/albanie/orgs', u'url': u'https://api.github.com/users/albanie', u'gists_url': u'https://api.github.com/users/albanie/gists{/gist_id}', u'html_url': u'https://github.com/albanie', u'subscriptions_url': u'https://api.github.com/users/albanie/subscriptions', u'avatar_url': u'https://avatars0.githubusercontent.com/u/4395064?v=4', u'repos_url': u'https://api.github.com/users/albanie/repos', u'received_events_url': u'https://api.github.com/users/albanie/received_events', u'gravatar_id': u'', u'starred_url': u'https://api.github.com/users/albanie/starred{/owner}{/repo}', u'site_admin': False, u'login': u'albanie', u'type': u'User', u'id': 4395064, u'followers_url': u'https://api.github.com/users/albanie/followers'} ; URL: https://github.com/albanie/SIGBOVIK17-GUNs, Description:Supporting public code for SIGBOVIK17 submission\",\n",
       " u\"Owner:{u'following_url': u'https://api.github.com/users/sourcegraph/following{/other_user}', u'events_url': u'https://api.github.com/users/sourcegraph/events{/privacy}', u'organizations_url': u'https://api.github.com/users/sourcegraph/orgs', u'url': u'https://api.github.com/users/sourcegraph', u'gists_url': u'https://api.github.com/users/sourcegraph/gists{/gist_id}', u'html_url': u'https://github.com/sourcegraph', u'subscriptions_url': u'https://api.github.com/users/sourcegraph/subscriptions', u'avatar_url': u'https://avatars0.githubusercontent.com/u/3979584?v=4', u'repos_url': u'https://api.github.com/users/sourcegraph/repos', u'received_events_url': u'https://api.github.com/users/sourcegraph/received_events', u'gravatar_id': u'', u'starred_url': u'https://api.github.com/users/sourcegraph/starred{/owner}{/repo}', u'site_admin': False, u'login': u'sourcegraph', u'type': u'Organization', u'id': 3979584, u'followers_url': u'https://api.github.com/users/sourcegraph/followers'} ; URL: https://github.com/sourcegraph/thyme, Description:Automatically track which applications you use and for how long.\",\n",
       " u\"Owner:{u'following_url': u'https://api.github.com/users/nicolashery/following{/other_user}', u'events_url': u'https://api.github.com/users/nicolashery/events{/privacy}', u'organizations_url': u'https://api.github.com/users/nicolashery/orgs', u'url': u'https://api.github.com/users/nicolashery', u'gists_url': u'https://api.github.com/users/nicolashery/gists{/gist_id}', u'html_url': u'https://github.com/nicolashery', u'subscriptions_url': u'https://api.github.com/users/nicolashery/subscriptions', u'avatar_url': u'https://avatars2.githubusercontent.com/u/1306536?v=4', u'repos_url': u'https://api.github.com/users/nicolashery/repos', u'received_events_url': u'https://api.github.com/users/nicolashery/received_events', u'gravatar_id': u'', u'starred_url': u'https://api.github.com/users/nicolashery/starred{/owner}{/repo}', u'site_admin': False, u'login': u'nicolashery', u'type': u'User', u'id': 1306536, u'followers_url': u'https://api.github.com/users/nicolashery/followers'} ; URL: https://github.com/nicolashery/mac-dev-setup, Description:A beginner's guide to setting up a development environment on Mac OS X\",\n",
       " u\"Owner:{u'following_url': u'https://api.github.com/users/jcjohnson/following{/other_user}', u'events_url': u'https://api.github.com/users/jcjohnson/events{/privacy}', u'organizations_url': u'https://api.github.com/users/jcjohnson/orgs', u'url': u'https://api.github.com/users/jcjohnson', u'gists_url': u'https://api.github.com/users/jcjohnson/gists{/gist_id}', u'html_url': u'https://github.com/jcjohnson', u'subscriptions_url': u'https://api.github.com/users/jcjohnson/subscriptions', u'avatar_url': u'https://avatars2.githubusercontent.com/u/2718714?v=4', u'repos_url': u'https://api.github.com/users/jcjohnson/repos', u'received_events_url': u'https://api.github.com/users/jcjohnson/received_events', u'gravatar_id': u'', u'starred_url': u'https://api.github.com/users/jcjohnson/starred{/owner}{/repo}', u'site_admin': False, u'login': u'jcjohnson', u'type': u'User', u'id': 2718714, u'followers_url': u'https://api.github.com/users/jcjohnson/followers'} ; URL: https://github.com/jcjohnson/densecap, Description:Dense image captioning in Torch\",\n",
       " u\"Owner:{u'following_url': u'https://api.github.com/users/dritchie/following{/other_user}', u'events_url': u'https://api.github.com/users/dritchie/events{/privacy}', u'organizations_url': u'https://api.github.com/users/dritchie/orgs', u'url': u'https://api.github.com/users/dritchie', u'gists_url': u'https://api.github.com/users/dritchie/gists{/gist_id}', u'html_url': u'https://github.com/dritchie', u'subscriptions_url': u'https://api.github.com/users/dritchie/subscriptions', u'avatar_url': u'https://avatars3.githubusercontent.com/u/2229830?v=4', u'repos_url': u'https://api.github.com/users/dritchie/repos', u'received_events_url': u'https://api.github.com/users/dritchie/received_events', u'gravatar_id': u'', u'starred_url': u'https://api.github.com/users/dritchie/starred{/owner}{/repo}', u'site_admin': False, u'login': u'dritchie', u'type': u'User', u'id': 2229830, u'followers_url': u'https://api.github.com/users/dritchie/followers'} ; URL: https://github.com/dritchie/adnn, Description:Javascript neural networks on top of general scalar/tensor reverse-mode automatic differentiation.\",\n",
       " u'Owner:{u\\'following_url\\': u\\'https://api.github.com/users/yueatsprograms/following{/other_user}\\', u\\'events_url\\': u\\'https://api.github.com/users/yueatsprograms/events{/privacy}\\', u\\'organizations_url\\': u\\'https://api.github.com/users/yueatsprograms/orgs\\', u\\'url\\': u\\'https://api.github.com/users/yueatsprograms\\', u\\'gists_url\\': u\\'https://api.github.com/users/yueatsprograms/gists{/gist_id}\\', u\\'html_url\\': u\\'https://github.com/yueatsprograms\\', u\\'subscriptions_url\\': u\\'https://api.github.com/users/yueatsprograms/subscriptions\\', u\\'avatar_url\\': u\\'https://avatars2.githubusercontent.com/u/5546216?v=4\\', u\\'repos_url\\': u\\'https://api.github.com/users/yueatsprograms/repos\\', u\\'received_events_url\\': u\\'https://api.github.com/users/yueatsprograms/received_events\\', u\\'gravatar_id\\': u\\'\\', u\\'starred_url\\': u\\'https://api.github.com/users/yueatsprograms/starred{/owner}{/repo}\\', u\\'site_admin\\': False, u\\'login\\': u\\'yueatsprograms\\', u\\'type\\': u\\'User\\', u\\'id\\': 5546216, u\\'followers_url\\': u\\'https://api.github.com/users/yueatsprograms/followers\\'} ; URL: https://github.com/yueatsprograms/Stochastic_Depth, Description:Code for \"Deep Networks with Stochastic Depth\"',\n",
       " u\"Owner:{u'following_url': u'https://api.github.com/users/jcjohnson/following{/other_user}', u'events_url': u'https://api.github.com/users/jcjohnson/events{/privacy}', u'organizations_url': u'https://api.github.com/users/jcjohnson/orgs', u'url': u'https://api.github.com/users/jcjohnson', u'gists_url': u'https://api.github.com/users/jcjohnson/gists{/gist_id}', u'html_url': u'https://github.com/jcjohnson', u'subscriptions_url': u'https://api.github.com/users/jcjohnson/subscriptions', u'avatar_url': u'https://avatars2.githubusercontent.com/u/2718714?v=4', u'repos_url': u'https://api.github.com/users/jcjohnson/repos', u'received_events_url': u'https://api.github.com/users/jcjohnson/received_events', u'gravatar_id': u'', u'starred_url': u'https://api.github.com/users/jcjohnson/starred{/owner}{/repo}', u'site_admin': False, u'login': u'jcjohnson', u'type': u'User', u'id': 2718714, u'followers_url': u'https://api.github.com/users/jcjohnson/followers'} ; URL: https://github.com/jcjohnson/torch-rnn, Description:Efficient, reusable RNNs and LSTMs for torch\",\n",
       " u\"Owner:{u'following_url': u'https://api.github.com/users/facebook/following{/other_user}', u'events_url': u'https://api.github.com/users/facebook/events{/privacy}', u'organizations_url': u'https://api.github.com/users/facebook/orgs', u'url': u'https://api.github.com/users/facebook', u'gists_url': u'https://api.github.com/users/facebook/gists{/gist_id}', u'html_url': u'https://github.com/facebook', u'subscriptions_url': u'https://api.github.com/users/facebook/subscriptions', u'avatar_url': u'https://avatars3.githubusercontent.com/u/69631?v=4', u'repos_url': u'https://api.github.com/users/facebook/repos', u'received_events_url': u'https://api.github.com/users/facebook/received_events', u'gravatar_id': u'', u'starred_url': u'https://api.github.com/users/facebook/starred{/owner}{/repo}', u'site_admin': False, u'login': u'facebook', u'type': u'Organization', u'id': 69631, u'followers_url': u'https://api.github.com/users/facebook/followers'} ; URL: https://github.com/facebook/fb.resnet.torch, Description:Torch implementation of ResNet from http://arxiv.org/abs/1512.03385 and training scripts\",\n",
       " u\"Owner:{u'following_url': u'https://api.github.com/users/pkmital/following{/other_user}', u'events_url': u'https://api.github.com/users/pkmital/events{/privacy}', u'organizations_url': u'https://api.github.com/users/pkmital/orgs', u'url': u'https://api.github.com/users/pkmital', u'gists_url': u'https://api.github.com/users/pkmital/gists{/gist_id}', u'html_url': u'https://github.com/pkmital', u'subscriptions_url': u'https://api.github.com/users/pkmital/subscriptions', u'avatar_url': u'https://avatars2.githubusercontent.com/u/429252?v=4', u'repos_url': u'https://api.github.com/users/pkmital/repos', u'received_events_url': u'https://api.github.com/users/pkmital/received_events', u'gravatar_id': u'', u'starred_url': u'https://api.github.com/users/pkmital/starred{/owner}{/repo}', u'site_admin': False, u'login': u'pkmital', u'type': u'User', u'id': 429252, u'followers_url': u'https://api.github.com/users/pkmital/followers'} ; URL: https://github.com/pkmital/tensorflow_tutorials, Description:From the basics to slightly more interesting applications of Tensorflow\",\n",
       " u\"Owner:{u'following_url': u'https://api.github.com/users/KaimingHe/following{/other_user}', u'events_url': u'https://api.github.com/users/KaimingHe/events{/privacy}', u'organizations_url': u'https://api.github.com/users/KaimingHe/orgs', u'url': u'https://api.github.com/users/KaimingHe', u'gists_url': u'https://api.github.com/users/KaimingHe/gists{/gist_id}', u'html_url': u'https://github.com/KaimingHe', u'subscriptions_url': u'https://api.github.com/users/KaimingHe/subscriptions', u'avatar_url': u'https://avatars3.githubusercontent.com/u/11435359?v=4', u'repos_url': u'https://api.github.com/users/KaimingHe/repos', u'received_events_url': u'https://api.github.com/users/KaimingHe/received_events', u'gravatar_id': u'', u'starred_url': u'https://api.github.com/users/KaimingHe/starred{/owner}{/repo}', u'site_admin': False, u'login': u'KaimingHe', u'type': u'User', u'id': 11435359, u'followers_url': u'https://api.github.com/users/KaimingHe/followers'} ; URL: https://github.com/KaimingHe/deep-residual-networks, Description:Deep Residual Learning for Image Recognition \",\n",
       " u\"Owner:{u'following_url': u'https://api.github.com/users/waylonflinn/following{/other_user}', u'events_url': u'https://api.github.com/users/waylonflinn/events{/privacy}', u'organizations_url': u'https://api.github.com/users/waylonflinn/orgs', u'url': u'https://api.github.com/users/waylonflinn', u'gists_url': u'https://api.github.com/users/waylonflinn/gists{/gist_id}', u'html_url': u'https://github.com/waylonflinn', u'subscriptions_url': u'https://api.github.com/users/waylonflinn/subscriptions', u'avatar_url': u'https://avatars0.githubusercontent.com/u/804108?v=4', u'repos_url': u'https://api.github.com/users/waylonflinn/repos', u'received_events_url': u'https://api.github.com/users/waylonflinn/received_events', u'gravatar_id': u'', u'starred_url': u'https://api.github.com/users/waylonflinn/starred{/owner}{/repo}', u'site_admin': False, u'login': u'waylonflinn', u'type': u'User', u'id': 804108, u'followers_url': u'https://api.github.com/users/waylonflinn/followers'} ; URL: https://github.com/waylonflinn/weblas, Description:GPU Powered BLAS for Browsers :gem:\",\n",
       " u\"Owner:{u'following_url': u'https://api.github.com/users/siemanko/following{/other_user}', u'events_url': u'https://api.github.com/users/siemanko/events{/privacy}', u'organizations_url': u'https://api.github.com/users/siemanko/orgs', u'url': u'https://api.github.com/users/siemanko', u'gists_url': u'https://api.github.com/users/siemanko/gists{/gist_id}', u'html_url': u'https://github.com/siemanko', u'subscriptions_url': u'https://api.github.com/users/siemanko/subscriptions', u'avatar_url': u'https://avatars2.githubusercontent.com/u/1537435?v=4', u'repos_url': u'https://api.github.com/users/siemanko/repos', u'received_events_url': u'https://api.github.com/users/siemanko/received_events', u'gravatar_id': u'', u'starred_url': u'https://api.github.com/users/siemanko/starred{/owner}{/repo}', u'site_admin': False, u'login': u'siemanko', u'type': u'User', u'id': 1537435, u'followers_url': u'https://api.github.com/users/siemanko/followers'} ; URL: https://github.com/siemanko/tf-adversarial, Description:Adversarial networks in TensorFlow\",\n",
       " u\"Owner:{u'following_url': u'https://api.github.com/users/ckreibich/following{/other_user}', u'events_url': u'https://api.github.com/users/ckreibich/events{/privacy}', u'organizations_url': u'https://api.github.com/users/ckreibich/orgs', u'url': u'https://api.github.com/users/ckreibich', u'gists_url': u'https://api.github.com/users/ckreibich/gists{/gist_id}', u'html_url': u'https://github.com/ckreibich', u'subscriptions_url': u'https://api.github.com/users/ckreibich/subscriptions', u'avatar_url': u'https://avatars2.githubusercontent.com/u/493785?v=4', u'repos_url': u'https://api.github.com/users/ckreibich/repos', u'received_events_url': u'https://api.github.com/users/ckreibich/received_events', u'gravatar_id': u'', u'starred_url': u'https://api.github.com/users/ckreibich/starred{/owner}{/repo}', u'site_admin': False, u'login': u'ckreibich', u'type': u'User', u'id': 493785, u'followers_url': u'https://api.github.com/users/ckreibich/followers'} ; URL: https://github.com/ckreibich/scholar.py, Description:A parser for Google Scholar, written in Python\",\n",
       " u\"Owner:{u'following_url': u'https://api.github.com/users/sherjilozair/following{/other_user}', u'events_url': u'https://api.github.com/users/sherjilozair/events{/privacy}', u'organizations_url': u'https://api.github.com/users/sherjilozair/orgs', u'url': u'https://api.github.com/users/sherjilozair', u'gists_url': u'https://api.github.com/users/sherjilozair/gists{/gist_id}', u'html_url': u'https://github.com/sherjilozair', u'subscriptions_url': u'https://api.github.com/users/sherjilozair/subscriptions', u'avatar_url': u'https://avatars0.githubusercontent.com/u/677316?v=4', u'repos_url': u'https://api.github.com/users/sherjilozair/repos', u'received_events_url': u'https://api.github.com/users/sherjilozair/received_events', u'gravatar_id': u'', u'starred_url': u'https://api.github.com/users/sherjilozair/starred{/owner}{/repo}', u'site_admin': False, u'login': u'sherjilozair', u'type': u'User', u'id': 677316, u'followers_url': u'https://api.github.com/users/sherjilozair/followers'} ; URL: https://github.com/sherjilozair/char-rnn-tensorflow, Description: Multi-layer Recurrent Neural Networks (LSTM, RNN) for character-level language models in Python using Tensorflow \",\n",
       " u\"Owner:{u'following_url': u'https://api.github.com/users/nlintz/following{/other_user}', u'events_url': u'https://api.github.com/users/nlintz/events{/privacy}', u'organizations_url': u'https://api.github.com/users/nlintz/orgs', u'url': u'https://api.github.com/users/nlintz', u'gists_url': u'https://api.github.com/users/nlintz/gists{/gist_id}', u'html_url': u'https://github.com/nlintz', u'subscriptions_url': u'https://api.github.com/users/nlintz/subscriptions', u'avatar_url': u'https://avatars0.githubusercontent.com/u/1192661?v=4', u'repos_url': u'https://api.github.com/users/nlintz/repos', u'received_events_url': u'https://api.github.com/users/nlintz/received_events', u'gravatar_id': u'', u'starred_url': u'https://api.github.com/users/nlintz/starred{/owner}{/repo}', u'site_admin': False, u'login': u'nlintz', u'type': u'User', u'id': 1192661, u'followers_url': u'https://api.github.com/users/nlintz/followers'} ; URL: https://github.com/nlintz/TensorFlow-Tutorials, Description:Simple tutorials using Google's TensorFlow Framework\",\n",
       " u\"Owner:{u'following_url': u'https://api.github.com/users/PrincetonVision/following{/other_user}', u'events_url': u'https://api.github.com/users/PrincetonVision/events{/privacy}', u'organizations_url': u'https://api.github.com/users/PrincetonVision/orgs', u'url': u'https://api.github.com/users/PrincetonVision', u'gists_url': u'https://api.github.com/users/PrincetonVision/gists{/gist_id}', u'html_url': u'https://github.com/PrincetonVision', u'subscriptions_url': u'https://api.github.com/users/PrincetonVision/subscriptions', u'avatar_url': u'https://avatars3.githubusercontent.com/u/5985190?v=4', u'repos_url': u'https://api.github.com/users/PrincetonVision/repos', u'received_events_url': u'https://api.github.com/users/PrincetonVision/received_events', u'gravatar_id': u'', u'starred_url': u'https://api.github.com/users/PrincetonVision/starred{/owner}{/repo}', u'site_admin': False, u'login': u'PrincetonVision', u'type': u'Organization', u'id': 5985190, u'followers_url': u'https://api.github.com/users/PrincetonVision/followers'} ; URL: https://github.com/PrincetonVision/marvin, Description:Marvin: A Minimalist GPU-only N-Dimensional ConvNets Framework\",\n",
       " u\"Owner:{u'following_url': u'https://api.github.com/users/tensorflow/following{/other_user}', u'events_url': u'https://api.github.com/users/tensorflow/events{/privacy}', u'organizations_url': u'https://api.github.com/users/tensorflow/orgs', u'url': u'https://api.github.com/users/tensorflow', u'gists_url': u'https://api.github.com/users/tensorflow/gists{/gist_id}', u'html_url': u'https://github.com/tensorflow', u'subscriptions_url': u'https://api.github.com/users/tensorflow/subscriptions', u'avatar_url': u'https://avatars1.githubusercontent.com/u/15658638?v=4', u'repos_url': u'https://api.github.com/users/tensorflow/repos', u'received_events_url': u'https://api.github.com/users/tensorflow/received_events', u'gravatar_id': u'', u'starred_url': u'https://api.github.com/users/tensorflow/starred{/owner}{/repo}', u'site_admin': False, u'login': u'tensorflow', u'type': u'Organization', u'id': 15658638, u'followers_url': u'https://api.github.com/users/tensorflow/followers'} ; URL: https://github.com/tensorflow/tensorflow, Description:Computation using data flow graphs for scalable machine learning\",\n",
       " u\"Owner:{u'following_url': u'https://api.github.com/users/ShaoqingRen/following{/other_user}', u'events_url': u'https://api.github.com/users/ShaoqingRen/events{/privacy}', u'organizations_url': u'https://api.github.com/users/ShaoqingRen/orgs', u'url': u'https://api.github.com/users/ShaoqingRen', u'gists_url': u'https://api.github.com/users/ShaoqingRen/gists{/gist_id}', u'html_url': u'https://github.com/ShaoqingRen', u'subscriptions_url': u'https://api.github.com/users/ShaoqingRen/subscriptions', u'avatar_url': u'https://avatars2.githubusercontent.com/u/6863807?v=4', u'repos_url': u'https://api.github.com/users/ShaoqingRen/repos', u'received_events_url': u'https://api.github.com/users/ShaoqingRen/received_events', u'gravatar_id': u'', u'starred_url': u'https://api.github.com/users/ShaoqingRen/starred{/owner}{/repo}', u'site_admin': False, u'login': u'ShaoqingRen', u'type': u'User', u'id': 6863807, u'followers_url': u'https://api.github.com/users/ShaoqingRen/followers'} ; URL: https://github.com/ShaoqingRen/faster_rcnn, Description:Faster R-CNN\",\n",
       " u\"Owner:{u'following_url': u'https://api.github.com/users/GitbookIO/following{/other_user}', u'events_url': u'https://api.github.com/users/GitbookIO/events{/privacy}', u'organizations_url': u'https://api.github.com/users/GitbookIO/orgs', u'url': u'https://api.github.com/users/GitbookIO', u'gists_url': u'https://api.github.com/users/GitbookIO/gists{/gist_id}', u'html_url': u'https://github.com/GitbookIO', u'subscriptions_url': u'https://api.github.com/users/GitbookIO/subscriptions', u'avatar_url': u'https://avatars0.githubusercontent.com/u/7111340?v=4', u'repos_url': u'https://api.github.com/users/GitbookIO/repos', u'received_events_url': u'https://api.github.com/users/GitbookIO/received_events', u'gravatar_id': u'', u'starred_url': u'https://api.github.com/users/GitbookIO/starred{/owner}{/repo}', u'site_admin': False, u'login': u'GitbookIO', u'type': u'Organization', u'id': 7111340, u'followers_url': u'https://api.github.com/users/GitbookIO/followers'} ; URL: https://github.com/GitbookIO/gitbook, Description:\\U0001f4dd Modern documentation format and toolchain using Git and Markdown\",\n",
       " u\"Owner:{u'following_url': u'https://api.github.com/users/jcjohnson/following{/other_user}', u'events_url': u'https://api.github.com/users/jcjohnson/events{/privacy}', u'organizations_url': u'https://api.github.com/users/jcjohnson/orgs', u'url': u'https://api.github.com/users/jcjohnson', u'gists_url': u'https://api.github.com/users/jcjohnson/gists{/gist_id}', u'html_url': u'https://github.com/jcjohnson', u'subscriptions_url': u'https://api.github.com/users/jcjohnson/subscriptions', u'avatar_url': u'https://avatars2.githubusercontent.com/u/2718714?v=4', u'repos_url': u'https://api.github.com/users/jcjohnson/repos', u'received_events_url': u'https://api.github.com/users/jcjohnson/received_events', u'gravatar_id': u'', u'starred_url': u'https://api.github.com/users/jcjohnson/starred{/owner}{/repo}', u'site_admin': False, u'login': u'jcjohnson', u'type': u'User', u'id': 2718714, u'followers_url': u'https://api.github.com/users/jcjohnson/followers'} ; URL: https://github.com/jcjohnson/neural-style, Description:Torch implementation of neural style algorithm\",\n",
       " u\"Owner:{u'following_url': u'https://api.github.com/users/tkocisky/following{/other_user}', u'events_url': u'https://api.github.com/users/tkocisky/events{/privacy}', u'organizations_url': u'https://api.github.com/users/tkocisky/orgs', u'url': u'https://api.github.com/users/tkocisky', u'gists_url': u'https://api.github.com/users/tkocisky/gists{/gist_id}', u'html_url': u'https://github.com/tkocisky', u'subscriptions_url': u'https://api.github.com/users/tkocisky/subscriptions', u'avatar_url': u'https://avatars3.githubusercontent.com/u/10853175?v=4', u'repos_url': u'https://api.github.com/users/tkocisky/repos', u'received_events_url': u'https://api.github.com/users/tkocisky/received_events', u'gravatar_id': u'', u'starred_url': u'https://api.github.com/users/tkocisky/starred{/owner}{/repo}', u'site_admin': False, u'login': u'tkocisky', u'type': u'User', u'id': 10853175, u'followers_url': u'https://api.github.com/users/tkocisky/followers'} ; URL: https://github.com/tkocisky/oxnn, Description:None\",\n",
       " u\"Owner:{u'following_url': u'https://api.github.com/users/hardmaru/following{/other_user}', u'events_url': u'https://api.github.com/users/hardmaru/events{/privacy}', u'organizations_url': u'https://api.github.com/users/hardmaru/orgs', u'url': u'https://api.github.com/users/hardmaru', u'gists_url': u'https://api.github.com/users/hardmaru/gists{/gist_id}', u'html_url': u'https://github.com/hardmaru', u'subscriptions_url': u'https://api.github.com/users/hardmaru/subscriptions', u'avatar_url': u'https://avatars0.githubusercontent.com/u/6318110?v=4', u'repos_url': u'https://api.github.com/users/hardmaru/repos', u'received_events_url': u'https://api.github.com/users/hardmaru/received_events', u'gravatar_id': u'', u'starred_url': u'https://api.github.com/users/hardmaru/starred{/owner}{/repo}', u'site_admin': False, u'login': u'hardmaru', u'type': u'User', u'id': 6318110, u'followers_url': u'https://api.github.com/users/hardmaru/followers'} ; URL: https://github.com/hardmaru/neuralslimevolley, Description:Neural Slime Volleyball\",\n",
       " u\"Owner:{u'following_url': u'https://api.github.com/users/Newmu/following{/other_user}', u'events_url': u'https://api.github.com/users/Newmu/events{/privacy}', u'organizations_url': u'https://api.github.com/users/Newmu/orgs', u'url': u'https://api.github.com/users/Newmu', u'gists_url': u'https://api.github.com/users/Newmu/gists{/gist_id}', u'html_url': u'https://github.com/Newmu', u'subscriptions_url': u'https://api.github.com/users/Newmu/subscriptions', u'avatar_url': u'https://avatars0.githubusercontent.com/u/2515289?v=4', u'repos_url': u'https://api.github.com/users/Newmu/repos', u'received_events_url': u'https://api.github.com/users/Newmu/received_events', u'gravatar_id': u'', u'starred_url': u'https://api.github.com/users/Newmu/starred{/owner}{/repo}', u'site_admin': False, u'login': u'Newmu', u'type': u'User', u'id': 2515289, u'followers_url': u'https://api.github.com/users/Newmu/followers'} ; URL: https://github.com/Newmu/Theano-Tutorials, Description:Bare bones introduction to machine learning from linear regression to convolutional neural networks using Theano.\",\n",
       " u\"Owner:{u'following_url': u'https://api.github.com/users/phanein/following{/other_user}', u'events_url': u'https://api.github.com/users/phanein/events{/privacy}', u'organizations_url': u'https://api.github.com/users/phanein/orgs', u'url': u'https://api.github.com/users/phanein', u'gists_url': u'https://api.github.com/users/phanein/gists{/gist_id}', u'html_url': u'https://github.com/phanein', u'subscriptions_url': u'https://api.github.com/users/phanein/subscriptions', u'avatar_url': u'https://avatars3.githubusercontent.com/u/1124561?v=4', u'repos_url': u'https://api.github.com/users/phanein/repos', u'received_events_url': u'https://api.github.com/users/phanein/received_events', u'gravatar_id': u'', u'starred_url': u'https://api.github.com/users/phanein/starred{/owner}{/repo}', u'site_admin': False, u'login': u'phanein', u'type': u'User', u'id': 1124561, u'followers_url': u'https://api.github.com/users/phanein/followers'} ; URL: https://github.com/phanein/deepwalk, Description:DeepWalk - Deep Learning for Graphs\",\n",
       " u\"Owner:{u'following_url': u'https://api.github.com/users/Sohl-Dickstein/following{/other_user}', u'events_url': u'https://api.github.com/users/Sohl-Dickstein/events{/privacy}', u'organizations_url': u'https://api.github.com/users/Sohl-Dickstein/orgs', u'url': u'https://api.github.com/users/Sohl-Dickstein', u'gists_url': u'https://api.github.com/users/Sohl-Dickstein/gists{/gist_id}', u'html_url': u'https://github.com/Sohl-Dickstein', u'subscriptions_url': u'https://api.github.com/users/Sohl-Dickstein/subscriptions', u'avatar_url': u'https://avatars2.githubusercontent.com/u/498544?v=4', u'repos_url': u'https://api.github.com/users/Sohl-Dickstein/repos', u'received_events_url': u'https://api.github.com/users/Sohl-Dickstein/received_events', u'gravatar_id': u'', u'starred_url': u'https://api.github.com/users/Sohl-Dickstein/starred{/owner}{/repo}', u'site_admin': False, u'login': u'Sohl-Dickstein', u'type': u'User', u'id': 498544, u'followers_url': u'https://api.github.com/users/Sohl-Dickstein/followers'} ; URL: https://github.com/Sohl-Dickstein/Sum-of-Functions-Optimizer, Description:Implements SFO minibatch optimizer in Python and MATLAB, and reproduces figures from paper.\",\n",
       " u\"Owner:{u'following_url': u'https://api.github.com/users/jcjohnson/following{/other_user}', u'events_url': u'https://api.github.com/users/jcjohnson/events{/privacy}', u'organizations_url': u'https://api.github.com/users/jcjohnson/orgs', u'url': u'https://api.github.com/users/jcjohnson', u'gists_url': u'https://api.github.com/users/jcjohnson/gists{/gist_id}', u'html_url': u'https://github.com/jcjohnson', u'subscriptions_url': u'https://api.github.com/users/jcjohnson/subscriptions', u'avatar_url': u'https://avatars2.githubusercontent.com/u/2718714?v=4', u'repos_url': u'https://api.github.com/users/jcjohnson/repos', u'received_events_url': u'https://api.github.com/users/jcjohnson/received_events', u'gravatar_id': u'', u'starred_url': u'https://api.github.com/users/jcjohnson/starred{/owner}{/repo}', u'site_admin': False, u'login': u'jcjohnson', u'type': u'User', u'id': 2718714, u'followers_url': u'https://api.github.com/users/jcjohnson/followers'} ; URL: https://github.com/jcjohnson/simple-amt, Description:A microframework for working with Amazon's Mechanical Turk\",\n",
       " u\"Owner:{u'following_url': u'https://api.github.com/users/erikbern/following{/other_user}', u'events_url': u'https://api.github.com/users/erikbern/events{/privacy}', u'organizations_url': u'https://api.github.com/users/erikbern/orgs', u'url': u'https://api.github.com/users/erikbern', u'gists_url': u'https://api.github.com/users/erikbern/gists{/gist_id}', u'html_url': u'https://github.com/erikbern', u'subscriptions_url': u'https://api.github.com/users/erikbern/subscriptions', u'avatar_url': u'https://avatars2.githubusercontent.com/u/1027979?v=4', u'repos_url': u'https://api.github.com/users/erikbern/repos', u'received_events_url': u'https://api.github.com/users/erikbern/received_events', u'gravatar_id': u'', u'starred_url': u'https://api.github.com/users/erikbern/starred{/owner}{/repo}', u'site_admin': False, u'login': u'erikbern', u'type': u'User', u'id': 1027979, u'followers_url': u'https://api.github.com/users/erikbern/followers'} ; URL: https://github.com/erikbern/deep-pink, Description:Deep Pink is a chess AI that learns to play chess using deep learning.\",\n",
       " u\"Owner:{u'following_url': u'https://api.github.com/users/IoannisAntonoglou/following{/other_user}', u'events_url': u'https://api.github.com/users/IoannisAntonoglou/events{/privacy}', u'organizations_url': u'https://api.github.com/users/IoannisAntonoglou/orgs', u'url': u'https://api.github.com/users/IoannisAntonoglou', u'gists_url': u'https://api.github.com/users/IoannisAntonoglou/gists{/gist_id}', u'html_url': u'https://github.com/IoannisAntonoglou', u'subscriptions_url': u'https://api.github.com/users/IoannisAntonoglou/subscriptions', u'avatar_url': u'https://avatars2.githubusercontent.com/u/2656328?v=4', u'repos_url': u'https://api.github.com/users/IoannisAntonoglou/repos', u'received_events_url': u'https://api.github.com/users/IoannisAntonoglou/received_events', u'gravatar_id': u'', u'starred_url': u'https://api.github.com/users/IoannisAntonoglou/starred{/owner}{/repo}', u'site_admin': False, u'login': u'IoannisAntonoglou', u'type': u'User', u'id': 2656328, u'followers_url': u'https://api.github.com/users/IoannisAntonoglou/followers'} ; URL: https://github.com/IoannisAntonoglou/optimBench, Description:Benchmark testbed for assessing the performance of optimisation algorithms\",\n",
       " u\"Owner:{u'following_url': u'https://api.github.com/users/jetpacapp/following{/other_user}', u'events_url': u'https://api.github.com/users/jetpacapp/events{/privacy}', u'organizations_url': u'https://api.github.com/users/jetpacapp/orgs', u'url': u'https://api.github.com/users/jetpacapp', u'gists_url': u'https://api.github.com/users/jetpacapp/gists{/gist_id}', u'html_url': u'https://github.com/jetpacapp', u'subscriptions_url': u'https://api.github.com/users/jetpacapp/subscriptions', u'avatar_url': u'https://avatars3.githubusercontent.com/u/1399574?v=4', u'repos_url': u'https://api.github.com/users/jetpacapp/repos', u'received_events_url': u'https://api.github.com/users/jetpacapp/received_events', u'gravatar_id': u'', u'starred_url': u'https://api.github.com/users/jetpacapp/starred{/owner}{/repo}', u'site_admin': False, u'login': u'jetpacapp', u'type': u'Organization', u'id': 1399574, u'followers_url': u'https://api.github.com/users/jetpacapp/followers'} ; URL: https://github.com/jetpacapp/DeepBeliefSDK, Description:The SDK for Jetpac's iOS Deep Belief image recognition framework\",\n",
       " u\"Owner:{u'following_url': u'https://api.github.com/users/jnordberg/following{/other_user}', u'events_url': u'https://api.github.com/users/jnordberg/events{/privacy}', u'organizations_url': u'https://api.github.com/users/jnordberg/orgs', u'url': u'https://api.github.com/users/jnordberg', u'gists_url': u'https://api.github.com/users/jnordberg/gists{/gist_id}', u'html_url': u'https://github.com/jnordberg', u'subscriptions_url': u'https://api.github.com/users/jnordberg/subscriptions', u'avatar_url': u'https://avatars3.githubusercontent.com/u/95886?v=4', u'repos_url': u'https://api.github.com/users/jnordberg/repos', u'received_events_url': u'https://api.github.com/users/jnordberg/received_events', u'gravatar_id': u'', u'starred_url': u'https://api.github.com/users/jnordberg/starred{/owner}{/repo}', u'site_admin': False, u'login': u'jnordberg', u'type': u'User', u'id': 95886, u'followers_url': u'https://api.github.com/users/jnordberg/followers'} ; URL: https://github.com/jnordberg/gif.js, Description:JavaScript GIF encoding library\"]"
      ]
     },
     "execution_count": 12,
     "metadata": {},
     "output_type": "execute_result"
    }
   ],
   "source": [
    "list1 = []\n",
    "for i in starred_request:\n",
    "    list1.append(\"Owner:%s ; URL: %s, Description:%s\"% (i.get(\"owner\"), i.get(\"html_url\"), i.get('description')))\n",
    "list1"
   ]
  },
  {
   "cell_type": "code",
   "execution_count": 29,
   "metadata": {},
   "outputs": [
    {
     "data": {
      "text/plain": [
       "[u'Name:vlb ;URL:https://github.com/lenck/vlb',\n",
       " u'Name:Batch_Normalized_Maxout_NIN ;URL:https://github.com/JiaRenChang/Batch_Normalized_Maxout_NIN',\n",
       " u'Name:dat ;URL:https://github.com/datproject/dat',\n",
       " u'Name:excesiv ;URL:https://github.com/nicolashery/excesiv',\n",
       " u'Name:EffectiveTensorflow ;URL:https://github.com/vahidk/EffectiveTensorflow',\n",
       " u'Name:Efficient-Dynamic-Batching ;URL:https://github.com/jsuarez5341/Efficient-Dynamic-Batching',\n",
       " u'Name:creative-ai-podcast ;URL:https://github.com/chadwittman/creative-ai-podcast',\n",
       " u'Name:img_classification_pk_pytorch ;URL:https://github.com/felixgwu/img_classification_pk_pytorch',\n",
       " u'Name:torchnet ;URL:https://github.com/torchnet/torchnet',\n",
       " u'Name:EffectiveTensorflow ;URL:https://github.com/vahidk/EffectiveTensorflow',\n",
       " u'Name:Efficient-Dynamic-Batching ;URL:https://github.com/jsuarez5341/Efficient-Dynamic-Batching',\n",
       " u'Name:sonnet ;URL:https://github.com/deepmind/sonnet',\n",
       " u'Name:phillip ;URL:https://github.com/vladfi1/phillip',\n",
       " u'Name:tf-faster-rcnn ;URL:https://github.com/endernewton/tf-faster-rcnn',\n",
       " u'Name:clevr-iep ;URL:https://github.com/facebookresearch/clevr-iep',\n",
       " u'Name:collimate ;URL:https://github.com/dataship/collimate',\n",
       " u'Name:osrm-backend ;URL:https://github.com/Project-OSRM/osrm-backend',\n",
       " u'Name:draw_convnet ;URL:https://github.com/gwding/draw_convnet',\n",
       " u'Name:Automated_Music_Transcription ;URL:https://github.com/Agerrr/Automated_Music_Transcription',\n",
       " u'Name:bro-mode ;URL:https://github.com/srunnels/bro-mode',\n",
       " u'Name:cbuffer ;URL:https://github.com/willemt/cbuffer',\n",
       " u'Name:memory_probe_ops ;URL:https://github.com/yaroslavvb/memory_probe_ops',\n",
       " u'Name:lolrecaptcha ;URL:https://github.com/geohot/lolrecaptcha',\n",
       " u'Name:hxeme ;URL:https://github.com/chase-ok/hxeme',\n",
       " u'Name:NodObjC ;URL:https://github.com/TooTallNate/NodObjC',\n",
       " u'Name:Autoware ;URL:https://github.com/CPFL/Autoware',\n",
       " u'Name:matconvnet ;URL:https://github.com/vlfeat/matconvnet',\n",
       " u'Name:EffectiveTensorflow ;URL:https://github.com/vahidk/EffectiveTensorflow',\n",
       " u'Name:Efficient-Dynamic-Batching ;URL:https://github.com/jsuarez5341/Efficient-Dynamic-Batching',\n",
       " u'Name:SENet ;URL:https://github.com/hujie-frank/SENet',\n",
       " u'Name:webdnn ;URL:https://github.com/mil-tokyo/webdnn',\n",
       " u'Name:guesstwo ;URL:https://github.com/omidb/guesstwo',\n",
       " u'Name:dcgan.torch ;URL:https://github.com/soumith/dcgan.torch',\n",
       " u'Name:deepwalk_keras_igraph ;URL:https://github.com/napsternxg/deepwalk_keras_igraph',\n",
       " u'Name:CSrankings ;URL:https://github.com/emeryberger/CSrankings',\n",
       " u'Name:cap-n-train-hps ;URL:https://github.com/jazcollins/cap-n-train-hps',\n",
       " u'Name:unrolled-gan ;URL:https://github.com/musyoku/unrolled-gan',\n",
       " u'Name:EffectiveTensorflow ;URL:https://github.com/vahidk/EffectiveTensorflow',\n",
       " u'Name:Efficient-Dynamic-Batching ;URL:https://github.com/jsuarez5341/Efficient-Dynamic-Batching',\n",
       " u'Name:pdf-bot ;URL:https://github.com/esbenp/pdf-bot',\n",
       " u'Name:jsonschema2db ;URL:https://github.com/better/jsonschema2db',\n",
       " u'Name:portfolio-2017 ;URL:https://github.com/anniewilson/portfolio-2017',\n",
       " u'Name:touchtest ;URL:https://github.com/mrmekon/touchtest']"
      ]
     },
     "execution_count": 29,
     "metadata": {},
     "output_type": "execute_result"
    }
   ],
   "source": [
    "list1 = []\n",
    "for i in starred_request:\n",
    "    url = i.get(\"owner\").get(\"starred_url\")\n",
    "    url = url.replace (\"{/owner}{/repo}\",\"\")\n",
    "    url =url + '?access_token=e76b17e645e29eec73927eb95813d8a92e8a2e65'\n",
    "    x = requests.get(url)\n",
    "    x = x.json()\n",
    "    count = 0\n",
    "    for u in x:\n",
    "        if count < 2:\n",
    "            list1.append(\"Name:%s ;URL:%s\"% (u.get(\"name\"),u.get(\"html_url\")))\n",
    "            count += 1\n",
    "            continue\n",
    "        break\n",
    "list1"
   ]
  },
  {
   "cell_type": "code",
   "execution_count": 30,
   "metadata": {
    "collapsed": true
   },
   "outputs": [],
   "source": [
    "import pandas as pd\n",
    "import numpy as np"
   ]
  },
  {
   "cell_type": "code",
   "execution_count": 35,
   "metadata": {},
   "outputs": [
    {
     "data": {
      "text/plain": [
       "Name:Efficient-Dynamic-Batching ;URL:https://github.com/jsuarez5341/Efficient-Dynamic-Batching      4\n",
       "Name:EffectiveTensorflow ;URL:https://github.com/vahidk/EffectiveTensorflow                         4\n",
       "Name:vlb ;URL:https://github.com/lenck/vlb                                                          1\n",
       "Name:matconvnet ;URL:https://github.com/vlfeat/matconvnet                                           1\n",
       "Name:Batch_Normalized_Maxout_NIN ;URL:https://github.com/JiaRenChang/Batch_Normalized_Maxout_NIN    1\n",
       "dtype: int64"
      ]
     },
     "execution_count": 35,
     "metadata": {},
     "output_type": "execute_result"
    }
   ],
   "source": [
    "ser = pd.Series(list1)\n",
    "ser.value_counts().head(5)"
   ]
  },
  {
   "cell_type": "code",
   "execution_count": 36,
   "metadata": {},
   "outputs": [
    {
     "name": "stdout",
     "output_type": "stream",
     "text": [
      "[u'Name:EffectiveTensorflow ;URL:https://github.com/vahidk/EffectiveTensorflow', u'Name:Efficient-Dynamic-Batching ;URL:https://github.com/jsuarez5341/Efficient-Dynamic-Batching', u'Name:torchnet ;URL:https://github.com/torchnet/torchnet']\n"
     ]
    }
   ],
   "source": [
    "from collections import Counter\n",
    "most_common_urls = [repo for repo, repo_count in Counter(list1).most_common(3)]\n",
    "print most_common_urls"
   ]
  },
  {
   "cell_type": "code",
   "execution_count": 37,
   "metadata": {},
   "outputs": [],
   "source": [
    "# df = pd.read_csv(list1)"
   ]
  }
 ],
 "metadata": {
  "kernelspec": {
   "display_name": "Python 2",
   "language": "python",
   "name": "python2"
  },
  "language_info": {
   "codemirror_mode": {
    "name": "ipython",
    "version": 2
   },
   "file_extension": ".py",
   "mimetype": "text/x-python",
   "name": "python",
   "nbconvert_exporter": "python",
   "pygments_lexer": "ipython2",
   "version": "2.7.13"
  }
 },
 "nbformat": 4,
 "nbformat_minor": 2
}
