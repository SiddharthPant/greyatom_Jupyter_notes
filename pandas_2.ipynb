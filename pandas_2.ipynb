{
 "cells": [
  {
   "cell_type": "code",
   "execution_count": 188,
   "metadata": {
    "collapsed": true
   },
   "outputs": [],
   "source": [
    "import pandas as pd\n",
    "import numpy as np\n",
    "import matplotlib.pyplot as plt\n",
    "from pandas import Series, DataFrame\n"
   ]
  },
  {
   "cell_type": "code",
   "execution_count": 189,
   "metadata": {},
   "outputs": [
    {
     "data": {
      "text/html": [
       "<div>\n",
       "<style>\n",
       "    .dataframe thead tr:only-child th {\n",
       "        text-align: right;\n",
       "    }\n",
       "\n",
       "    .dataframe thead th {\n",
       "        text-align: left;\n",
       "    }\n",
       "\n",
       "    .dataframe tbody tr th {\n",
       "        vertical-align: top;\n",
       "    }\n",
       "</style>\n",
       "<table border=\"1\" class=\"dataframe\">\n",
       "  <thead>\n",
       "    <tr style=\"text-align: right;\">\n",
       "      <th></th>\n",
       "      <th>Chemistry</th>\n",
       "      <th>Name</th>\n",
       "      <th>Physics</th>\n",
       "      <th>Roll</th>\n",
       "    </tr>\n",
       "  </thead>\n",
       "  <tbody>\n",
       "    <tr>\n",
       "      <th>0</th>\n",
       "      <td>93</td>\n",
       "      <td>Sandip</td>\n",
       "      <td>97</td>\n",
       "      <td>10</td>\n",
       "    </tr>\n",
       "    <tr>\n",
       "      <th>1</th>\n",
       "      <td>94</td>\n",
       "      <td>Jane</td>\n",
       "      <td>99</td>\n",
       "      <td>11</td>\n",
       "    </tr>\n",
       "    <tr>\n",
       "      <th>2</th>\n",
       "      <td>95</td>\n",
       "      <td>Peter</td>\n",
       "      <td>89</td>\n",
       "      <td>12</td>\n",
       "    </tr>\n",
       "    <tr>\n",
       "      <th>3</th>\n",
       "      <td>85</td>\n",
       "      <td>Parker</td>\n",
       "      <td>100</td>\n",
       "      <td>45</td>\n",
       "    </tr>\n",
       "    <tr>\n",
       "      <th>4</th>\n",
       "      <td>89</td>\n",
       "      <td>Tony</td>\n",
       "      <td>88</td>\n",
       "      <td>2</td>\n",
       "    </tr>\n",
       "  </tbody>\n",
       "</table>\n",
       "</div>"
      ],
      "text/plain": [
       "   Chemistry    Name  Physics  Roll\n",
       "0         93  Sandip       97    10\n",
       "1         94    Jane       99    11\n",
       "2         95   Peter       89    12\n",
       "3         85  Parker      100    45\n",
       "4         89    Tony       88     2"
      ]
     },
     "execution_count": 189,
     "metadata": {},
     "output_type": "execute_result"
    }
   ],
   "source": [
    "students = {\n",
    "    'Name': ['Sandip', 'Jane', 'Peter', 'Parker', 'Tony'],\n",
    "    'Physics': [97, 99, 89, 100, 88],\n",
    "    'Chemistry': [93, 94, 95, 85, 89],\n",
    "    'Roll': [10, 11, 12, 45, 2]\n",
    "}\n",
    "df1 = DataFrame(students)\n",
    "df1"
   ]
  },
  {
   "cell_type": "code",
   "execution_count": 190,
   "metadata": {},
   "outputs": [
    {
     "name": "stdout",
     "output_type": "stream",
     "text": [
      "<class 'pandas.core.frame.DataFrame'>\n",
      "RangeIndex(start=0, stop=5, step=1)\n",
      "Index([u'Chemistry', u'Name', u'Physics', u'Roll'], dtype='object')\n"
     ]
    }
   ],
   "source": [
    "print type(df1)\n",
    "print df1.index\n",
    "print df1.columns"
   ]
  },
  {
   "cell_type": "code",
   "execution_count": 191,
   "metadata": {},
   "outputs": [
    {
     "data": {
      "text/html": [
       "<div>\n",
       "<style>\n",
       "    .dataframe thead tr:only-child th {\n",
       "        text-align: right;\n",
       "    }\n",
       "\n",
       "    .dataframe thead th {\n",
       "        text-align: left;\n",
       "    }\n",
       "\n",
       "    .dataframe tbody tr th {\n",
       "        vertical-align: top;\n",
       "    }\n",
       "</style>\n",
       "<table border=\"1\" class=\"dataframe\">\n",
       "  <thead>\n",
       "    <tr style=\"text-align: right;\">\n",
       "      <th></th>\n",
       "      <th>Name</th>\n",
       "      <th>Physics</th>\n",
       "      <th>Chemistry</th>\n",
       "    </tr>\n",
       "    <tr>\n",
       "      <th>Roll</th>\n",
       "      <th></th>\n",
       "      <th></th>\n",
       "      <th></th>\n",
       "    </tr>\n",
       "  </thead>\n",
       "  <tbody>\n",
       "    <tr>\n",
       "      <th>2</th>\n",
       "      <td>Tony</td>\n",
       "      <td>88</td>\n",
       "      <td>89</td>\n",
       "    </tr>\n",
       "    <tr>\n",
       "      <th>10</th>\n",
       "      <td>Sandip</td>\n",
       "      <td>97</td>\n",
       "      <td>93</td>\n",
       "    </tr>\n",
       "    <tr>\n",
       "      <th>11</th>\n",
       "      <td>Jane</td>\n",
       "      <td>99</td>\n",
       "      <td>94</td>\n",
       "    </tr>\n",
       "    <tr>\n",
       "      <th>12</th>\n",
       "      <td>Peter</td>\n",
       "      <td>89</td>\n",
       "      <td>95</td>\n",
       "    </tr>\n",
       "    <tr>\n",
       "      <th>45</th>\n",
       "      <td>Parker</td>\n",
       "      <td>100</td>\n",
       "      <td>85</td>\n",
       "    </tr>\n",
       "  </tbody>\n",
       "</table>\n",
       "</div>"
      ],
      "text/plain": [
       "        Name  Physics  Chemistry\n",
       "Roll                            \n",
       "2       Tony       88         89\n",
       "10    Sandip       97         93\n",
       "11      Jane       99         94\n",
       "12     Peter       89         95\n",
       "45    Parker      100         85"
      ]
     },
     "execution_count": 191,
     "metadata": {},
     "output_type": "execute_result"
    }
   ],
   "source": [
    "df2 = DataFrame(students, columns=['Name', 'Physics', 'Chemistry'], index=students['Roll'])\n",
    "df2.index.name = 'Roll'\n",
    "sorted_df2 = df2.sort_index()\n",
    "# sorted_values = df2.sort_values('Physics', ascending=False)\n",
    "# sorted_values\n",
    "sorted_df2"
   ]
  },
  {
   "cell_type": "code",
   "execution_count": 192,
   "metadata": {},
   "outputs": [
    {
     "data": {
      "text/plain": [
       "True"
      ]
     },
     "execution_count": 192,
     "metadata": {},
     "output_type": "execute_result"
    }
   ],
   "source": [
    "2 in sorted_df2.index # checking existence in indexes"
   ]
  },
  {
   "cell_type": "code",
   "execution_count": 193,
   "metadata": {},
   "outputs": [
    {
     "name": "stdout",
     "output_type": "stream",
     "text": [
      "Name         Sandip\n",
      "Physics          97\n",
      "Chemistry        93\n",
      "Name: 10, dtype: object\n",
      "97\n"
     ]
    }
   ],
   "source": [
    "print sorted_df2.loc[10]\n",
    "print sorted_df2.loc[10]['Physics']"
   ]
  },
  {
   "cell_type": "code",
   "execution_count": 194,
   "metadata": {},
   "outputs": [
    {
     "data": {
      "text/plain": [
       "Name         Sandip\n",
       "Physics          97\n",
       "Chemistry        93\n",
       "Name: 10, dtype: object"
      ]
     },
     "execution_count": 194,
     "metadata": {},
     "output_type": "execute_result"
    }
   ],
   "source": [
    "sorted_df2.iloc[1]  # arrya like index based location"
   ]
  },
  {
   "cell_type": "code",
   "execution_count": 195,
   "metadata": {},
   "outputs": [
    {
     "name": "stdout",
     "output_type": "stream",
     "text": [
      "      Physics  Chemistry\n",
      "Roll                    \n",
      "2          88         89\n",
      "10         97         93\n",
      "11         99         94\n",
      "12         89         95\n",
      "45        100         85\n"
     ]
    }
   ],
   "source": [
    "print sorted_df2[['Physics', 'Chemistry']]"
   ]
  },
  {
   "cell_type": "code",
   "execution_count": 196,
   "metadata": {},
   "outputs": [
    {
     "data": {
      "text/plain": [
       "Roll\n",
       "2     89\n",
       "10    93\n",
       "11    94\n",
       "Name: Chemistry, dtype: int64"
      ]
     },
     "execution_count": 196,
     "metadata": {},
     "output_type": "execute_result"
    }
   ],
   "source": [
    "# slicing\n",
    "first_three_student = sorted_df2[:3]\n",
    "first_three_student['Chemistry']"
   ]
  },
  {
   "cell_type": "code",
   "execution_count": 197,
   "metadata": {},
   "outputs": [
    {
     "name": "stdout",
     "output_type": "stream",
     "text": [
      "        Name\n",
      "Roll        \n",
      "11      Jane\n",
      "12     Peter\n",
      "45    Parker\n",
      "        Name  Physics\n",
      "Roll                 \n",
      "2       Tony       88\n",
      "10    Sandip       97\n",
      "11      Jane       99\n"
     ]
    }
   ],
   "source": [
    "print sorted_df2.loc[11:45, ['Name']]  # location based indexing along with associated columns values\n",
    "\n",
    "print sorted_df2.iloc[0:3][['Name', 'Physics']]  # index based indexing along with associated columns values"
   ]
  },
  {
   "cell_type": "code",
   "execution_count": 198,
   "metadata": {},
   "outputs": [
    {
     "data": {
      "text/html": [
       "<div>\n",
       "<style>\n",
       "    .dataframe thead tr:only-child th {\n",
       "        text-align: right;\n",
       "    }\n",
       "\n",
       "    .dataframe thead th {\n",
       "        text-align: left;\n",
       "    }\n",
       "\n",
       "    .dataframe tbody tr th {\n",
       "        vertical-align: top;\n",
       "    }\n",
       "</style>\n",
       "<table border=\"1\" class=\"dataframe\">\n",
       "  <thead>\n",
       "    <tr style=\"text-align: right;\">\n",
       "      <th></th>\n",
       "      <th>Name</th>\n",
       "      <th>Physics</th>\n",
       "      <th>Chemistry</th>\n",
       "      <th>Maths</th>\n",
       "    </tr>\n",
       "    <tr>\n",
       "      <th>Roll</th>\n",
       "      <th></th>\n",
       "      <th></th>\n",
       "      <th></th>\n",
       "      <th></th>\n",
       "    </tr>\n",
       "  </thead>\n",
       "  <tbody>\n",
       "    <tr>\n",
       "      <th>2</th>\n",
       "      <td>Tony</td>\n",
       "      <td>88</td>\n",
       "      <td>89</td>\n",
       "      <td>75.0</td>\n",
       "    </tr>\n",
       "    <tr>\n",
       "      <th>10</th>\n",
       "      <td>Sandip</td>\n",
       "      <td>97</td>\n",
       "      <td>93</td>\n",
       "      <td>45.0</td>\n",
       "    </tr>\n",
       "    <tr>\n",
       "      <th>11</th>\n",
       "      <td>Jane</td>\n",
       "      <td>99</td>\n",
       "      <td>94</td>\n",
       "      <td>37.0</td>\n",
       "    </tr>\n",
       "    <tr>\n",
       "      <th>12</th>\n",
       "      <td>Peter</td>\n",
       "      <td>89</td>\n",
       "      <td>95</td>\n",
       "      <td>93.0</td>\n",
       "    </tr>\n",
       "    <tr>\n",
       "      <th>45</th>\n",
       "      <td>Parker</td>\n",
       "      <td>100</td>\n",
       "      <td>85</td>\n",
       "      <td>NaN</td>\n",
       "    </tr>\n",
       "  </tbody>\n",
       "</table>\n",
       "</div>"
      ],
      "text/plain": [
       "        Name  Physics  Chemistry  Maths\n",
       "Roll                                   \n",
       "2       Tony       88         89   75.0\n",
       "10    Sandip       97         93   45.0\n",
       "11      Jane       99         94   37.0\n",
       "12     Peter       89         95   93.0\n",
       "45    Parker      100         85    NaN"
      ]
     },
     "execution_count": 198,
     "metadata": {},
     "output_type": "execute_result"
    }
   ],
   "source": [
    "# Method 1: Array based # Not preferred\n",
    "'''maths = [75, 45, 37, 93, 45]\n",
    "sorted_df2['Maths'] = maths\n",
    "sorted_df2\n",
    "'''\n",
    "# Method\n",
    "maths = Series({2: 75, 10:45, 11:37, 12:93, 41: 89})\n",
    "sorted_df2['Maths'] = maths\n",
    "sorted_df2"
   ]
  },
  {
   "cell_type": "code",
   "execution_count": 199,
   "metadata": {},
   "outputs": [
    {
     "data": {
      "text/plain": [
       "Name          object\n",
       "Physics        int64\n",
       "Chemistry      int64\n",
       "Maths        float64\n",
       "dtype: object"
      ]
     },
     "execution_count": 199,
     "metadata": {},
     "output_type": "execute_result"
    }
   ],
   "source": [
    "sorted_df2.dtypes"
   ]
  },
  {
   "cell_type": "code",
   "execution_count": 200,
   "metadata": {},
   "outputs": [
    {
     "name": "stdout",
     "output_type": "stream",
     "text": [
      "        Name  Physics  Chemistry  Maths\n",
      "Roll                                   \n",
      "2       Tony       88         89   75.0\n",
      "10    Sandip       97         93   45.0\n",
      "11      Jane       99         94   37.0\n",
      "12     Peter       89         95   93.0\n"
     ]
    }
   ],
   "source": [
    "cleaned_data = sorted_df2[sorted_df2.notnull()['Maths']]\n",
    "print cleaned_data"
   ]
  },
  {
   "cell_type": "code",
   "execution_count": 201,
   "metadata": {},
   "outputs": [
    {
     "name": "stdout",
     "output_type": "stream",
     "text": [
      "Roll\n",
      "2     252.0\n",
      "10    235.0\n",
      "11    230.0\n",
      "12    277.0\n",
      "dtype: float64\n",
      "        Name  Physics  Chemistry  Maths  Total\n",
      "Roll                                          \n",
      "2       Tony       88         89   75.0  252.0\n",
      "10    Sandip       97         93   45.0  235.0\n",
      "11      Jane       99         94   37.0  230.0\n",
      "12     Peter       89         95   93.0  277.0\n"
     ]
    },
    {
     "name": "stderr",
     "output_type": "stream",
     "text": [
      "/home/sandip/anaconda2/lib/python2.7/site-packages/ipykernel_launcher.py:3: SettingWithCopyWarning: \n",
      "A value is trying to be set on a copy of a slice from a DataFrame.\n",
      "Try using .loc[row_indexer,col_indexer] = value instead\n",
      "\n",
      "See the caveats in the documentation: http://pandas.pydata.org/pandas-docs/stable/indexing.html#indexing-view-versus-copy\n",
      "  This is separate from the ipykernel package so we can avoid doing imports until\n"
     ]
    }
   ],
   "source": [
    "pcm = cleaned_data.sum(axis=1).copy()\n",
    "print pcm\n",
    "cleaned_data['Total'] = pcm\n",
    "print cleaned_data"
   ]
  },
  {
   "cell_type": "code",
   "execution_count": 203,
   "metadata": {},
   "outputs": [
    {
     "name": "stdout",
     "output_type": "stream",
     "text": [
      "Physics       93.25\n",
      "Chemistry     92.75\n",
      "Maths         62.50\n",
      "Total        248.50\n",
      "dtype: float64\n"
     ]
    }
   ],
   "source": [
    "cleaned_data\n",
    "print cleaned_data.mean(axis=0)"
   ]
  },
  {
   "cell_type": "code",
   "execution_count": 221,
   "metadata": {},
   "outputs": [
    {
     "name": "stdout",
     "output_type": "stream",
     "text": [
      "         Physics  Chemistry      Maths       Total\n",
      "count   4.000000   4.000000   4.000000    4.000000\n",
      "mean   93.250000  92.750000  62.500000  248.500000\n",
      "std     5.560276   2.629956  26.095977   21.205345\n",
      "min    88.000000  89.000000  37.000000  230.000000\n",
      "25%    88.750000  92.000000  43.000000  233.750000\n",
      "50%    93.000000  93.500000  60.000000  243.500000\n",
      "75%    97.500000  94.250000  79.500000  258.250000\n",
      "max    99.000000  95.000000  93.000000  277.000000\n",
      "         Physics      Maths\n",
      "count   4.000000   4.000000\n",
      "mean   93.250000  62.500000\n",
      "std     5.560276  26.095977\n",
      "min    88.000000  37.000000\n",
      "25%    88.750000  43.000000\n",
      "50%    93.000000  60.000000\n",
      "75%    97.500000  79.500000\n",
      "max    99.000000  93.000000\n",
      "Total    248.5\n",
      "Name: mean, dtype: float64\n"
     ]
    }
   ],
   "source": [
    "print cleaned_data.describe()\n",
    "print cleaned_data[['Physics', 'Maths']].describe()  # selected columns only\n",
    "print cleaned_data[['Total']].describe().loc['mean']  # selected column's selected index only"
   ]
  },
  {
   "cell_type": "code",
   "execution_count": 256,
   "metadata": {},
   "outputs": [
    {
     "data": {
      "text/html": [
       "<div>\n",
       "<style>\n",
       "    .dataframe thead tr:only-child th {\n",
       "        text-align: right;\n",
       "    }\n",
       "\n",
       "    .dataframe thead th {\n",
       "        text-align: left;\n",
       "    }\n",
       "\n",
       "    .dataframe tbody tr th {\n",
       "        vertical-align: top;\n",
       "    }\n",
       "</style>\n",
       "<table border=\"1\" class=\"dataframe\">\n",
       "  <thead>\n",
       "    <tr style=\"text-align: right;\">\n",
       "      <th></th>\n",
       "      <th>Physics</th>\n",
       "      <th>Chemistry</th>\n",
       "      <th>Maths</th>\n",
       "    </tr>\n",
       "  </thead>\n",
       "  <tbody>\n",
       "    <tr>\n",
       "      <th>101</th>\n",
       "      <td>97</td>\n",
       "      <td>93</td>\n",
       "      <td>86</td>\n",
       "    </tr>\n",
       "    <tr>\n",
       "      <th>102</th>\n",
       "      <td>99</td>\n",
       "      <td>89</td>\n",
       "      <td>81</td>\n",
       "    </tr>\n",
       "  </tbody>\n",
       "</table>\n",
       "</div>"
      ],
      "text/plain": [
       "     Physics  Chemistry  Maths\n",
       "101       97         93     86\n",
       "102       99         89     81"
      ]
     },
     "execution_count": 256,
     "metadata": {},
     "output_type": "execute_result"
    }
   ],
   "source": [
    "students_2 = {\n",
    "    'Physics': [97, 99],\n",
    "    'Chemistry': [93, 89],\n",
    "    'Maths': [86, 81],\n",
    "    'Roll': [101, 102]\n",
    "}\n",
    "df3 = DataFrame(students_2, columns=['Physics', 'Chemistry', 'Maths'], index=students_2['Roll'])\n",
    "df3"
   ]
  },
  {
   "cell_type": "code",
   "execution_count": 268,
   "metadata": {},
   "outputs": [
    {
     "name": "stdout",
     "output_type": "stream",
     "text": [
      "     Chemistry  Maths    Name  Physics  Total\n",
      "2           89   75.0    Tony       88  252.0\n",
      "10          93   45.0  Sandip       97  235.0\n",
      "11          94   37.0    Jane       99  230.0\n",
      "12          95   93.0   Peter       89  277.0\n",
      "101         93   86.0     NaN       97    NaN\n",
      "102         89   81.0     NaN       99    NaN\n",
      "*****************\n",
      "     Chemistry  Maths     Name  Physics  Total\n",
      "2           89   75.0     Tony       88  252.0\n",
      "10          93   45.0   Sandip       97  235.0\n",
      "11          94   37.0     Jane       99  230.0\n",
      "12          95   93.0    Peter       89  277.0\n",
      "101         93   86.0  Missing       97    NaN\n",
      "102         89   81.0  Missing       99    NaN\n",
      "*****************\n",
      "     Chemistry  Maths     Name  Physics  Total\n",
      "2           89   75.0     Tony       88  252.0\n",
      "10          93   45.0   Sandip       97  235.0\n",
      "11          94   37.0     Jane       99  230.0\n",
      "12          95   93.0    Peter       89  277.0\n",
      "101         93   86.0  Missing       97    NaN\n",
      "102         89   81.0  Missing       99    NaN\n",
      "        Name  Physics  Chemistry  Maths  Total\n",
      "2       Tony       88         89   75.0  252.0\n",
      "10    Sandip       97         93   45.0  235.0\n",
      "11      Jane       99         94   37.0  230.0\n",
      "12     Peter       89         95   93.0  277.0\n",
      "101  Missing       97         93   86.0    NaN\n",
      "102  Missing       99         89   81.0    NaN\n"
     ]
    }
   ],
   "source": [
    "cd = pd.concat([cleaned_data, df3])\n",
    "print cd\n",
    "\n",
    "print '*****************'\n",
    "\n",
    "fil_names = cd['Name'].fillna('Missing')\n",
    "cd['Name'] = fil_names\n",
    "print cd\n",
    "\n",
    "print '*****************'\n",
    "\n",
    "scd = cd.sort_index()\n",
    "print scd\n",
    "\n",
    "rscd = scd.reindex(columns=['Name','Physics','Chemistry','Maths','Total'])\n",
    "print rscd"
   ]
  },
  {
   "cell_type": "code",
   "execution_count": 269,
   "metadata": {},
   "outputs": [
    {
     "name": "stdout",
     "output_type": "stream",
     "text": [
      "        Name  Physics  Chemistry  Maths  Total\n",
      "2       Tony       88         89   75.0  252.0\n",
      "10    Sandip       97         93   45.0  235.0\n",
      "11      Jane       99         94   37.0  230.0\n",
      "12     Peter       89         95   93.0  277.0\n",
      "101  Missing       97         93   86.0    NaN\n",
      "102  Missing       99         89   81.0    NaN\n",
      "        Name  Physics  Chemistry  Maths  Total\n",
      "2       Tony       88         89   75.0  252.0\n",
      "10    Sandip       97         93   45.0  235.0\n",
      "11      Jane       99         94   37.0  230.0\n",
      "12     Peter       89         95   93.0  277.0\n",
      "101  Missing       97         93   86.0  276.0\n",
      "102  Missing       99         89   81.0  269.0\n"
     ]
    }
   ],
   "source": [
    "print rscd\n",
    "rscd.loc[[101,102], 'Total'] = rscd[['Physics','Chemistry','Maths']].sum(axis=1) # Filling up Total\n",
    "print rscd"
   ]
  }
 ],
 "metadata": {
  "kernelspec": {
   "display_name": "Python 2",
   "language": "python",
   "name": "python2"
  },
  "language_info": {
   "codemirror_mode": {
    "name": "ipython",
    "version": 2
   },
   "file_extension": ".py",
   "mimetype": "text/x-python",
   "name": "python",
   "nbconvert_exporter": "python",
   "pygments_lexer": "ipython2",
   "version": "2.7.13"
  }
 },
 "nbformat": 4,
 "nbformat_minor": 2
}
