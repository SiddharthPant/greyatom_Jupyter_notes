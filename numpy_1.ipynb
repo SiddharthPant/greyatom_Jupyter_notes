{
 "cells": [
  {
   "cell_type": "code",
   "execution_count": 2,
   "metadata": {
    "collapsed": true
   },
   "outputs": [],
   "source": [
    "import numpy as np"
   ]
  },
  {
   "cell_type": "code",
   "execution_count": 3,
   "metadata": {},
   "outputs": [
    {
     "name": "stdout",
     "output_type": "stream",
     "text": [
      "[5 6 7 2 3]\n",
      "<type 'numpy.ndarray'>\n",
      "1\n",
      "(5,)\n"
     ]
    }
   ],
   "source": [
    "l = [5,6,7,2,3]\n",
    "n1 = np.array(l)\n",
    "\n",
    "print n1\n",
    "print type(n1) # n dimensional array\n",
    "print n1.ndim # How many dimensions\n",
    "print n1.shape # length"
   ]
  },
  {
   "cell_type": "code",
   "execution_count": 4,
   "metadata": {},
   "outputs": [
    {
     "name": "stdout",
     "output_type": "stream",
     "text": [
      "[10 11 12  7  8]\n",
      "[10 12 14  4  6]\n"
     ]
    }
   ],
   "source": [
    "n2 = n1 + 5\n",
    "print n2\n",
    "n3 = n1 * 2\n",
    "print n3"
   ]
  },
  {
   "cell_type": "code",
   "execution_count": 86,
   "metadata": {},
   "outputs": [
    {
     "name": "stdout",
     "output_type": "stream",
     "text": [
      "[-1  8 -1  9 10]\n",
      "[ 5 11  3 15 18]\n",
      "4\n",
      "[6 3 4]\n",
      "[6 3 4 6]\n",
      "[6 4 8]\n",
      "[8 6 4 3 6]\n",
      "[3 6 8]\n"
     ]
    }
   ],
   "source": [
    "print n1\n",
    "n2 = np.array([6,3,4,6,8])\n",
    "print n1 + n2\n",
    "print n2[-3]  # 3rd last\n",
    "print n2[:3]  # first 3\n",
    "print n2[0:4]  # first 4 elements\n",
    "print n2[0::2]  # alternate element\n",
    "print n2[::-1]  # reverse\n",
    "print n2[[1,3,4]]  # selective/multiple indexing"
   ]
  },
  {
   "cell_type": "code",
   "execution_count": 64,
   "metadata": {
    "scrolled": true
   },
   "outputs": [
    {
     "name": "stdout",
     "output_type": "stream",
     "text": [
      "[5 6 7 2 3]\n",
      "[5 8 7 2 3]\n",
      "[5 3 5 1 3]\n",
      "[ 5  8  5  9 10]\n"
     ]
    }
   ],
   "source": [
    "print n1\n",
    "n1[1] = 8  # replacing a value\n",
    "print n1\n",
    "n1[1:4] = [3,5,1]\n",
    "print n1\n",
    "n1[[1,3,4]] = [8,9,10]\n",
    "print n1"
   ]
  },
  {
   "cell_type": "code",
   "execution_count": 77,
   "metadata": {},
   "outputs": [
    {
     "name": "stdout",
     "output_type": "stream",
     "text": [
      "[-1  8 -1  9 10]\n",
      "[ 8  9 10]\n",
      "[-1 -1 10]\n",
      "[-1  8 -1  9 10]\n"
     ]
    }
   ],
   "source": [
    "print n1\n",
    "print n1[n1 > 5]  # filtering\n",
    "print n1[(n1 <= 5) | (n1 == 10)]  # multiple filtering\n",
    "n1[n1 == 5] = -1  # filtering with assignments\n",
    "print n1"
   ]
  },
  {
   "cell_type": "code",
   "execution_count": 92,
   "metadata": {},
   "outputs": [
    {
     "name": "stdout",
     "output_type": "stream",
     "text": [
      "int16\n",
      "[34  6]\n"
     ]
    }
   ],
   "source": [
    "n3 = np.array([10, 34, 2, 3, 6], dtype=np.int16)  # dtype is for each element\n",
    "print n3.dtype  # returns datatype of each element\n",
    "n4 = n3[[1,4]]\n",
    "print n4"
   ]
  },
  {
   "cell_type": "code",
   "execution_count": 98,
   "metadata": {},
   "outputs": [
    {
     "name": "stdout",
     "output_type": "stream",
     "text": [
      "[7 3]\n",
      "[7 9]\n",
      "[6 7 3 4]\n"
     ]
    }
   ],
   "source": [
    "n5 = np.array([6, 7, 3, 4], dtype=np.int16)\n",
    "n6 = n5[1:3].copy()  # copying array to another variable instead referencing the view\n",
    "print n6\n",
    "n6[1] = 9\n",
    "print n6\n",
    "print n5"
   ]
  },
  {
   "cell_type": "code",
   "execution_count": 104,
   "metadata": {},
   "outputs": [
    {
     "name": "stdout",
     "output_type": "stream",
     "text": [
      "[ 0  8  0  9 10]\n",
      "[ 0  8  0  9 10]\n"
     ]
    }
   ],
   "source": [
    "print n1\n",
    "n1[n1 == -1] = 0\n",
    "print n1"
   ]
  },
  {
   "cell_type": "code",
   "execution_count": 133,
   "metadata": {},
   "outputs": [
    {
     "name": "stdout",
     "output_type": "stream",
     "text": [
      "[ 0  0  8  9 10]\n",
      "27\n",
      "5.4\n",
      "4.45421149026\n",
      "19.84\n",
      "[ 0  0  8 17 27]\n",
      "0\n",
      "10\n",
      "[ 0  0  0  0  8  8  9  9 10 10]\n",
      "[10  9  8  0  0]\n"
     ]
    }
   ],
   "source": [
    "print n1\n",
    "print n1.sum()\n",
    "print n1.mean(\n",
    ")\n",
    "print n1.std()\n",
    "print n1.var()\n",
    "print n1.cumsum()\n",
    "print n1.min()\n",
    "print n1.max()\n",
    "print n1.repeat(2)\n",
    "# print n1.sort()\n",
    "print n1[::-1] # sorting"
   ]
  },
  {
   "cell_type": "code",
   "execution_count": 155,
   "metadata": {},
   "outputs": [
    {
     "name": "stdout",
     "output_type": "stream",
     "text": [
      "[ 0  1  2  3  4  5  6  7  8  9 10 11 12 13 14 15 16 17 18 19 20]\n",
      "[ 9 10 11 12 13 14 15 16 17 18]\n",
      "[ 0  2  4  6  8 10 12 14 16 18 20 22 24 26 28]\n",
      "[ 0.3342971   0.14535867  0.08222852  0.68248348  0.11458073  0.14943139\n",
      "  0.45302136  0.19681185  0.08729529  0.18825581]\n",
      "5\n"
     ]
    }
   ],
   "source": [
    "print np.arange(21)\n",
    "print np.arange(9,19)\n",
    "print np.arange(0,30,2) # (start, end, stepsize) here > even numbers\n",
    "print np.random.rand(10)\n",
    "print np.random.randint(20)\n"
   ]
  },
  {
   "cell_type": "code",
   "execution_count": null,
   "metadata": {
    "collapsed": true
   },
   "outputs": [],
   "source": []
  }
 ],
 "metadata": {
  "kernelspec": {
   "display_name": "Python 2",
   "language": "python",
   "name": "python2"
  },
  "language_info": {
   "codemirror_mode": {
    "name": "ipython",
    "version": 2
   },
   "file_extension": ".py",
   "mimetype": "text/x-python",
   "name": "python",
   "nbconvert_exporter": "python",
   "pygments_lexer": "ipython2",
   "version": "2.7.13"
  }
 },
 "nbformat": 4,
 "nbformat_minor": 2
}
