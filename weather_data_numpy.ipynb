{
 "cells": [
  {
   "cell_type": "code",
   "execution_count": 98,
   "metadata": {},
   "outputs": [
    {
     "name": "stdout",
     "output_type": "stream",
     "text": [
      "{1900: 34, 1901: 45}\n"
     ]
    },
    {
     "data": {
      "image/png": "[encoded data removed]",
      "text/plain": [
       "<matplotlib.figure.Figure at 0x7f295dde2c90>"
      ]
     },
     "metadata": {},
     "output_type": "display_data"
    }
   ],
   "source": [
    "import numpy as np\n",
    "import matplotlib.pyplot as plt\n",
    "max_temp = {}\n",
    "base_path = '/home/sandip/code/GA/data_files/weather_data_set_'\n",
    "\n",
    "data_set = []\n",
    "\n",
    "for year in range(1900, 1902):\n",
    "    data_set.append(np.genfromtxt('{path}{file_name}'.format(path=base_path, file_name=year),  \\\n",
    "                                  delimiter='|', dtype=None, usecols=(1,4), filling_values=-500)) \n",
    "    \n",
    "    \n",
    "data = np.vstack(data_set)\n",
    "filtered_data = data[data[:,1] != -500] # -500 is a value raplcement for missing values\n",
    "years = np.unique(filtered_data[:,0])\n",
    "\n",
    "# print years\n",
    "# print filtered_data\n",
    "\n",
    "result = {year: filtered_data[filtered_data[:, 0] == year][:,1].max() for year in years} # dictionary comprehension\n",
    "print result\n",
    "plt.bar(range(len(result)), result.values())\n",
    "plt.xticks(range(len(result)), result.keys())\n",
    "plt.plot()\n",
    "plt.show()"
   ]
  }
 ],
 "metadata": {
  "kernelspec": {
   "display_name": "Python 2",
   "language": "python",
   "name": "python2"
  },
  "language_info": {
   "codemirror_mode": {
    "name": "ipython",
    "version": 2
   },
   "file_extension": ".py",
   "mimetype": "text/x-python",
   "name": "python",
   "nbconvert_exporter": "python",
   "pygments_lexer": "ipython2",
   "version": "2.7.13"
  }
 },
 "nbformat": 4,
 "nbformat_minor": 2
}
