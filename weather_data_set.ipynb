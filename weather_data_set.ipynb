{
 "cells": [
  {
   "cell_type": "code",
   "execution_count": 31,
   "metadata": {},
   "outputs": [
    {
     "name": "stdout",
     "output_type": "stream",
     "text": [
      "{1900: 34, 1901: 45}\n"
     ]
    }
   ],
   "source": [
    "base_path = '/home/sandip/code/GA/data_files/weather_data_set_'\n",
    "max_temp_yearly = {}\n",
    "\n",
    "for year in range(1900, 1902):\n",
    "    f = open('{path}{file_name}'.format(path=base_path, file_name=year), 'r')\n",
    "    for line in f:\n",
    "        tokens = line.rstrip('\\n').split('|')\n",
    "        if tokens[1] and tokens[4]:\n",
    "            year = int(tokens[1])\n",
    "            temperature = int(tokens[4])\n",
    "\n",
    "            if year in max_temp_yearly:\n",
    "                if max_temp_yearly[year] < temperature:\n",
    "                    max_temp_yearly[year] = temperature\n",
    "            else:\n",
    "                max_temp_yearly[year] = temperature\n",
    "    f.close()\n",
    "    \n",
    "print max_temp_yearly"
   ]
  }
 ],
 "metadata": {
  "kernelspec": {
   "display_name": "Python 2",
   "language": "python",
   "name": "python2"
  },
  "language_info": {
   "codemirror_mode": {
    "name": "ipython",
    "version": 2
   },
   "file_extension": ".py",
   "mimetype": "text/x-python",
   "name": "python",
   "nbconvert_exporter": "python",
   "pygments_lexer": "ipython2",
   "version": "2.7.13"
  }
 },
 "nbformat": 4,
 "nbformat_minor": 2
}
