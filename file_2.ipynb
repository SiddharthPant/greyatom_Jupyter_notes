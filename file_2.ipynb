{
 "cells": [
  {
   "cell_type": "code",
   "execution_count": 5,
   "metadata": {},
   "outputs": [
    {
     "name": "stdout",
     "output_type": "stream",
     "text": [
      "True\n"
     ]
    }
   ],
   "source": [
    "a = 5\n",
    "b = 5\n",
    "\n",
    "print a == b # compares value there at the address"
   ]
  },
  {
   "cell_type": "code",
   "execution_count": 6,
   "metadata": {},
   "outputs": [
    {
     "name": "stdout",
     "output_type": "stream",
     "text": [
      "16326952\n",
      "16326952\n",
      "True\n"
     ]
    }
   ],
   "source": [
    "print id(a)\n",
    "print id(b)\n",
    "\n",
    "print a is b  # always compares the address"
   ]
  },
  {
   "cell_type": "code",
   "execution_count": 11,
   "metadata": {},
   "outputs": [
    {
     "name": "stdout",
     "output_type": "stream",
     "text": [
      "False\n",
      "True\n",
      "22786400\n",
      "22788248\n"
     ]
    },
    {
     "data": {
      "text/plain": [
       "'\\nif variable is b/w [-5, 256] the Python caching behaviour is used\\ni.e. assigning the same address for any value\\nit checks on assigment if value exists in memory then same address is used \\n'"
      ]
     },
     "execution_count": 11,
     "metadata": {},
     "output_type": "execute_result"
    }
   ],
   "source": [
    "x = 257\n",
    "y = 257\n",
    "\n",
    "print x is y  # False\n",
    "print x == y # True\n",
    "\n",
    "print id(x)\n",
    "print id(y)\n",
    "\n",
    "'''\n",
    "if variable is b/w [-5, 256] the Python caching behaviour is used\n",
    "i.e. assigning the same address for any value\n",
    "it checks on assigment if value exists in memory then same address is used \n",
    "'''"
   ]
  },
  {
   "cell_type": "code",
   "execution_count": 13,
   "metadata": {},
   "outputs": [
    {
     "name": "stdout",
     "output_type": "stream",
     "text": [
      "True\n"
     ]
    }
   ],
   "source": [
    "p = q = 258\n",
    "\n",
    "print p is q # True, cause assignments of value is on same line"
   ]
  },
  {
   "cell_type": "code",
   "execution_count": 21,
   "metadata": {},
   "outputs": [
    {
     "name": "stdout",
     "output_type": "stream",
     "text": [
      "True\n",
      "False\n"
     ]
    }
   ],
   "source": [
    "r = 25\n",
    "t = 24 + 1\n",
    "print r is t  # True, cause b/w the caching value\n",
    "\n",
    "r1 = 258\n",
    "t1 = 258 + 1\n",
    "print r1 is t1  # False, cause out of the caching value"
   ]
  },
  {
   "cell_type": "code",
   "execution_count": 26,
   "metadata": {},
   "outputs": [
    {
     "name": "stdout",
     "output_type": "stream",
     "text": [
      "True\n",
      "True\n",
      "False\n"
     ]
    },
    {
     "data": {
      "text/plain": [
       "'\\nRegex for string to be cached is ([a-z][A-Z][0,9])\\ni.e. if special chars are in the str it will not be cached\\n'"
      ]
     },
     "execution_count": 26,
     "metadata": {},
     "output_type": "execute_result"
    }
   ],
   "source": [
    "n1 = 'sandip'\n",
    "n2 = 'sandip'\n",
    "\n",
    "print n1 is n2 # True\n",
    "\n",
    "n3 = 'sandip25'\n",
    "n4 = 'sandip25'\n",
    "\n",
    "print n3 is n4 # True\n",
    "\n",
    "n5 = 'sandip 25'\n",
    "n6 = 'sandip 25'\n",
    "\n",
    "print n5 is n6 # False\n",
    "\n",
    "'''\n",
    "Regex for string to be cached is ([a-z][A-Z][0,9])\n",
    "i.e. if special chars are in the str it will not be cached\n",
    "'''\n"
   ]
  }
 ],
 "metadata": {
  "kernelspec": {
   "display_name": "Python 2",
   "language": "python",
   "name": "python2"
  },
  "language_info": {
   "codemirror_mode": {
    "name": "ipython",
    "version": 2
   },
   "file_extension": ".py",
   "mimetype": "text/x-python",
   "name": "python",
   "nbconvert_exporter": "python",
   "pygments_lexer": "ipython2",
   "version": "2.7.13"
  }
 },
 "nbformat": 4,
 "nbformat_minor": 2
}
