{
 "cells": [
  {
   "cell_type": "code",
   "execution_count": 14,
   "metadata": {},
   "outputs": [
    {
     "name": "stdout",
     "output_type": "stream",
     "text": [
      "23\n"
     ]
    }
   ],
   "source": [
    "name = 'sandip'\n",
    "age = 23\n",
    "pi = 3.14\n",
    "lights_on = True\n",
    "\n",
    "print(age)"
   ]
  },
  {
   "cell_type": "code",
   "execution_count": 20,
   "metadata": {},
   "outputs": [
    {
     "name": "stdout",
     "output_type": "stream",
     "text": [
      "3\n",
      "6\n"
     ]
    }
   ],
   "source": [
    "length, breadth = 3, 6\n",
    "print(length)\n",
    "print(breadth)"
   ]
  },
  {
   "cell_type": "code",
   "execution_count": 22,
   "metadata": {},
   "outputs": [
    {
     "name": "stdout",
     "output_type": "stream",
     "text": [
      "5\n"
     ]
    }
   ],
   "source": [
    "x = 5\n",
    "y = 6\n",
    "z = x\n",
    "print z"
   ]
  },
  {
   "cell_type": "code",
   "execution_count": 28,
   "metadata": {},
   "outputs": [
    {
     "name": "stdout",
     "output_type": "stream",
     "text": [
      "1\n",
      "2\n",
      "2\n",
      "1\n"
     ]
    }
   ],
   "source": [
    "a = 1\n",
    "b = 2\n",
    "\n",
    "print a\n",
    "print b\n",
    "\n",
    "\n",
    "# swapiing the values\n",
    "a, b = b, a\n",
    "\n",
    "print a\n",
    "print b"
   ]
  },
  {
   "cell_type": "code",
   "execution_count": 32,
   "metadata": {},
   "outputs": [
    {
     "name": "stdout",
     "output_type": "stream",
     "text": [
      "11\n",
      "2\n",
      "3\n",
      "1\n",
      "15\n",
      "25\n"
     ]
    }
   ],
   "source": [
    "print 5 + 6\n",
    "print 6 - 4\n",
    "print 10 / 3\n",
    "print 10 % 3\n",
    "print 5 * 3\n",
    "print 5 ** 2"
   ]
  },
  {
   "cell_type": "code",
   "execution_count": 35,
   "metadata": {},
   "outputs": [
    {
     "data": {
      "text/plain": [
       "20"
      ]
     },
     "execution_count": 35,
     "metadata": {},
     "output_type": "execute_result"
    }
   ],
   "source": [
    "length = 7\n",
    "breadth = 3\n",
    "perimeter = 2  * (length + breadth)\n",
    "perimeter"
   ]
  },
  {
   "cell_type": "code",
   "execution_count": 40,
   "metadata": {},
   "outputs": [
    {
     "data": {
      "text/plain": [
       "20"
      ]
     },
     "execution_count": 40,
     "metadata": {},
     "output_type": "execute_result"
    }
   ],
   "source": [
    "# function\n",
    "def get_perimeter(l,b):\n",
    "    return 2 * (l + b)\n",
    "\n",
    "get_perimeter(7, 3)"
   ]
  },
  {
   "cell_type": "code",
   "execution_count": 54,
   "metadata": {},
   "outputs": [
    {
     "data": {
      "text/plain": [
       "\"\\nx, y = y, x\\nprint 'x is', x\\nprint 'y is', y\\n\""
      ]
     },
     "execution_count": 54,
     "metadata": {},
     "output_type": "execute_result"
    }
   ],
   "source": [
    "# user inputs\n",
    "\n",
    "# x = input('Enter x : ')\n",
    "# x = input('Enter y : ')\n",
    "\n",
    "'''\n",
    "x, y = y, x\n",
    "print 'x is', x\n",
    "print 'y is', y\n",
    "'''\n"
   ]
  },
  {
   "cell_type": "code",
   "execution_count": 56,
   "metadata": {},
   "outputs": [
    {
     "name": "stdout",
     "output_type": "stream",
     "text": [
      "<type 'str'>\n",
      "<type 'int'>\n",
      "<type 'float'>\n",
      "<type 'bool'>\n"
     ]
    }
   ],
   "source": [
    "# type defs \n",
    "\n",
    "name = 'sandip'\n",
    "age = 23\n",
    "pi = 3.14\n",
    "lights_on = True\n",
    "\n",
    "print type(name)\n",
    "print type(age)\n",
    "print type(pi)\n",
    "print type(lights_on)"
   ]
  },
  {
   "cell_type": "code",
   "execution_count": 1,
   "metadata": {},
   "outputs": [
    {
     "name": "stdout",
     "output_type": "stream",
     "text": [
      "Enter name2\n",
      "Enter age2\n"
     ]
    }
   ],
   "source": [
    "# raw input, returns user value as a str\n",
    "\n",
    "# name = raw_input('Enter name')\n",
    "# age = raw_input('Enter age')\n",
    "\n",
    "# print type(name)\n",
    "# print type(age)"
   ]
  },
  {
   "cell_type": "code",
   "execution_count": 4,
   "metadata": {},
   "outputs": [
    {
     "name": "stdout",
     "output_type": "stream",
     "text": [
      "Enter a : 1\n",
      "Enter b : 1\n",
      "11\n",
      "2\n",
      "2.0\n"
     ]
    }
   ],
   "source": [
    "a = raw_input('Enter a : ')\n",
    "b = raw_input('Enter b : ')\n",
    "\n",
    "print a + b\n",
    "\n",
    "print int(a) + int(b)\n",
    "\n",
    "print float(a) + float(b)"
   ]
  }
 ],
 "metadata": {
  "kernelspec": {
   "display_name": "Python 2",
   "language": "python",
   "name": "python2"
  },
  "language_info": {
   "codemirror_mode": {
    "name": "ipython",
    "version": 2
   },
   "file_extension": ".py",
   "mimetype": "text/x-python",
   "name": "python",
   "nbconvert_exporter": "python",
   "pygments_lexer": "ipython2",
   "version": "2.7.13"
  }
 },
 "nbformat": 4,
 "nbformat_minor": 2
}
