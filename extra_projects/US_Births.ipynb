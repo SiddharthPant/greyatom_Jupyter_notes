{
 "cells": [
  {
   "cell_type": "code",
   "execution_count": 1,
   "metadata": {
    "collapsed": true
   },
   "outputs": [],
   "source": [
    "# import numpy as np\n",
    "# import pandas as pd\n",
    "# import matplotlib.pyplot as plt"
   ]
  },
  {
   "cell_type": "code",
   "execution_count": 2,
   "metadata": {
    "collapsed": true
   },
   "outputs": [],
   "source": [
    "file_path = 'data/US_births_1994-2003_CDC_NCHS.csv'"
   ]
  },
  {
   "cell_type": "code",
   "execution_count": 3,
   "metadata": {},
   "outputs": [
    {
     "data": {
      "text/plain": [
       "['year,month,date_of_month,day_of_week,births',\n",
       " '1994,1,1,6,8096',\n",
       " '1994,1,2,7,7772',\n",
       " '1994,1,3,1,10142',\n",
       " '1994,1,4,2,11248',\n",
       " '1994,1,5,3,11053',\n",
       " '1994,1,6,4,11406',\n",
       " '1994,1,7,5,11251',\n",
       " '1994,1,8,6,8653',\n",
       " '1994,1,9,7,7910']"
      ]
     },
     "execution_count": 3,
     "metadata": {},
     "output_type": "execute_result"
    }
   ],
   "source": [
    "# df = pd.read_csv(file_path)\n",
    "with open(file_path, 'r') as csv_file:\n",
    "    data = csv_file.read()\n",
    "data = data.split('\\n')\n",
    "data[:10]"
   ]
  },
  {
   "cell_type": "code",
   "execution_count": 4,
   "metadata": {},
   "outputs": [
    {
     "data": {
      "text/plain": [
       "[[1994, 1, 1, 6, 8096],\n",
       " [1994, 1, 2, 7, 7772],\n",
       " [1994, 1, 3, 1, 10142],\n",
       " [1994, 1, 4, 2, 11248],\n",
       " [1994, 1, 5, 3, 11053],\n",
       " [1994, 1, 6, 4, 11406],\n",
       " [1994, 1, 7, 5, 11251],\n",
       " [1994, 1, 8, 6, 8653],\n",
       " [1994, 1, 9, 7, 7910],\n",
       " [1994, 1, 10, 1, 10498]]"
      ]
     },
     "execution_count": 4,
     "metadata": {},
     "output_type": "execute_result"
    }
   ],
   "source": [
    "def read_csv(file_path):\n",
    "    with open(file_path, 'r') as csv_file:\n",
    "        string_list = csv_file.read().split('\\n')[1:]\n",
    "    return [\n",
    "        [int(string_field) for string_field in string.split(',')]\n",
    "        for string in string_list\n",
    "    ]\n",
    "#     final_list = []\n",
    "#     for string in string_list:\n",
    "#         string_fields = string.split(',')\n",
    "#         int_fields = [int (s) for s in string_fields]\n",
    "#         final_list.append(int_fields)\n",
    "#     return final_list\n",
    "lol = read_csv(file_path)\n",
    "lol[:10]"
   ]
  },
  {
   "cell_type": "code",
   "execution_count": 5,
   "metadata": {},
   "outputs": [
    {
     "data": {
      "text/plain": [
       "{1: 3232517,\n",
       " 2: 3018140,\n",
       " 3: 3322069,\n",
       " 4: 3185314,\n",
       " 5: 3350907,\n",
       " 6: 3296530,\n",
       " 7: 3498783,\n",
       " 8: 3525858,\n",
       " 9: 3439698,\n",
       " 10: 3378814,\n",
       " 11: 3171647,\n",
       " 12: 3301860}"
      ]
     },
     "execution_count": 5,
     "metadata": {},
     "output_type": "execute_result"
    }
   ],
   "source": [
    "def month_births(lol):\n",
    "    births_per_month = {key:0 for key in range(1,12+1)}\n",
    "    for l in lol:\n",
    "        births_per_month[l[1]] += l[4]\n",
    "    return births_per_month\n",
    "#     births_per_month = {}\n",
    "#     for l in lol:\n",
    "#         month, births = l[1],l[4]\n",
    "#         if month in births_per_month:\n",
    "#             births_per_month[month] += births\n",
    "#         else:\n",
    "#             births_per_month[month] = births\n",
    "#     return births_per_month\n",
    "month_births(lol)"
   ]
  },
  {
   "cell_type": "code",
   "execution_count": 6,
   "metadata": {},
   "outputs": [
    {
     "data": {
      "text/plain": [
       "{1: 5789166,\n",
       " 2: 6446196,\n",
       " 3: 6322855,\n",
       " 4: 6288429,\n",
       " 5: 6233657,\n",
       " 6: 4562111,\n",
       " 7: 4079723}"
      ]
     },
     "execution_count": 6,
     "metadata": {},
     "output_type": "execute_result"
    }
   ],
   "source": [
    "def dow_births(lol):\n",
    "    births_per_dow = {key:0 for key in range(1, 7+1)}\n",
    "    for l in lol:\n",
    "        births_per_dow[l[3]] += l[4]\n",
    "    return births_per_dow\n",
    "dow_births(lol)"
   ]
  },
  {
   "cell_type": "code",
   "execution_count": 7,
   "metadata": {},
   "outputs": [
    {
     "data": {
      "text/plain": [
       "{1: 5789166,\n",
       " 2: 6446196,\n",
       " 3: 6322855,\n",
       " 4: 6288429,\n",
       " 5: 6233657,\n",
       " 6: 4562111,\n",
       " 7: 4079723}"
      ]
     },
     "execution_count": 7,
     "metadata": {},
     "output_type": "execute_result"
    }
   ],
   "source": [
    "def calc_counts(lol, col, birth_col=4):\n",
    "    births_per_col = {}\n",
    "    for l in lol:\n",
    "        key, births = l[col], l[birth_col]\n",
    "        if key in births_per_col:\n",
    "            births_per_col[key] += births\n",
    "        else:\n",
    "            births_per_col[key] = births\n",
    "    return births_per_col\n",
    "calc_counts(lol, 3)"
   ]
  },
  {
   "cell_type": "code",
   "execution_count": 8,
   "metadata": {},
   "outputs": [
    {
     "data": {
      "text/plain": [
       "6446196"
      ]
     },
     "execution_count": 8,
     "metadata": {},
     "output_type": "execute_result"
    }
   ],
   "source": [
    "def find_max(dic):\n",
    "    return max(dic.values())\n",
    "dic = calc_counts(lol, 3)\n",
    "find_max(dic)"
   ]
  },
  {
   "cell_type": "code",
   "execution_count": 17,
   "metadata": {},
   "outputs": [
    {
     "data": {
      "text/plain": [
       "{1994: 474732,\n",
       " 1995: 459580,\n",
       " 1996: 456261,\n",
       " 1997: 450840,\n",
       " 1998: 453776,\n",
       " 1999: 449985,\n",
       " 2000: 469794,\n",
       " 2001: 453928,\n",
       " 2002: 445770,\n",
       " 2003: 447445}"
      ]
     },
     "execution_count": 17,
     "metadata": {},
     "output_type": "execute_result"
    }
   ],
   "source": [
    "def find_growth(lol, col, value, year_col=0, birth_col=4):\n",
    "    lol2 = [\n",
    "        [l[year_col],l[birth_col]]\n",
    "        for l in lol if l[col] == value\n",
    "    ]\n",
    "    return calc_counts(lol2, year_col, birth_col=1)\n",
    "#     dic = {}\n",
    "#     for l in lol:\n",
    "#         if l[col] == value:\n",
    "#         year, col_name, births = l[0], l[col], l[3]\n",
    "#         dic[year] = l[3]\n",
    "find_growth(lol, 3, 6)"
   ]
  },
  {
   "cell_type": "code",
   "execution_count": null,
   "metadata": {
    "collapsed": true
   },
   "outputs": [],
   "source": []
  }
 ],
 "metadata": {
  "kernelspec": {
   "display_name": "Python 2",
   "language": "python",
   "name": "python2"
  },
  "language_info": {
   "codemirror_mode": {
    "name": "ipython",
    "version": 2
   },
   "file_extension": ".py",
   "mimetype": "text/x-python",
   "name": "python",
   "nbconvert_exporter": "python",
   "pygments_lexer": "ipython2",
   "version": "2.7.13"
  }
 },
 "nbformat": 4,
 "nbformat_minor": 2
}
