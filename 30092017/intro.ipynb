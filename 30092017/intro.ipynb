{
 "cells": [
  {
   "cell_type": "code",
   "execution_count": 3,
   "metadata": {},
   "outputs": [
    {
     "data": {
      "text/plain": [
       "[1, 4, 9, 16]"
      ]
     },
     "execution_count": 3,
     "metadata": {},
     "output_type": "execute_result"
    }
   ],
   "source": [
    "l = [1,2,3,4]\n",
    "sl = []\n",
    "for x in l:\n",
    "    sl.append(x ** 2)\n",
    "    \n",
    "sl2 = [x**2 for x in l]\n",
    "sl2"
   ]
  },
  {
   "cell_type": "code",
   "execution_count": 8,
   "metadata": {},
   "outputs": [
    {
     "data": {
      "text/plain": [
       "[1, 4, 9, 16, 1, 4, 9, 16, 1, 4, 9, 16, 1, 4, 9, 16]"
      ]
     },
     "execution_count": 8,
     "metadata": {},
     "output_type": "execute_result"
    }
   ],
   "source": [
    "l2d = [l,l,l,l]\n",
    "sl = []\n",
    "for row in l2d:\n",
    "    for item in row:\n",
    "        sl.append(item ** 2)\n",
    "sl2 = [item ** 2 for row in l2d for item in row]\n",
    "sl2"
   ]
  },
  {
   "cell_type": "code",
   "execution_count": 11,
   "metadata": {},
   "outputs": [
    {
     "data": {
      "text/plain": [
       "{0: 0,\n",
       " 1: 1,\n",
       " 2: 8,\n",
       " 3: 27,\n",
       " 4: 64,\n",
       " 5: 125,\n",
       " 6: 216,\n",
       " 7: 343,\n",
       " 8: 512,\n",
       " 9: 729,\n",
       " 10: 1000,\n",
       " 11: 1331,\n",
       " 12: 1728,\n",
       " 13: 2197,\n",
       " 14: 2744,\n",
       " 15: 3375,\n",
       " 16: 4096,\n",
       " 17: 4913,\n",
       " 18: 5832,\n",
       " 19: 6859,\n",
       " 20: 8000,\n",
       " 21: 9261,\n",
       " 22: 10648,\n",
       " 23: 12167,\n",
       " 24: 13824,\n",
       " 25: 15625}"
      ]
     },
     "execution_count": 11,
     "metadata": {},
     "output_type": "execute_result"
    }
   ],
   "source": [
    "dic = {}\n",
    "for x in range(26):\n",
    "    dic[x] = x ** 3\n",
    "dic"
   ]
  },
  {
   "cell_type": "code",
   "execution_count": 15,
   "metadata": {},
   "outputs": [
    {
     "data": {
      "text/plain": [
       "{0: 0,\n",
       " 2: 8,\n",
       " 4: 64,\n",
       " 6: 216,\n",
       " 8: 512,\n",
       " 10: 1000,\n",
       " 12: 1728,\n",
       " 14: 2744,\n",
       " 16: 4096,\n",
       " 18: 5832,\n",
       " 20: 8000,\n",
       " 22: 10648,\n",
       " 24: 13824}"
      ]
     },
     "execution_count": 15,
     "metadata": {},
     "output_type": "execute_result"
    }
   ],
   "source": [
    "dic2 = {x:x**3 for x in range(26) if x % 2 == 0}\n",
    "dic2"
   ]
  },
  {
   "cell_type": "code",
   "execution_count": 16,
   "metadata": {
    "collapsed": true
   },
   "outputs": [],
   "source": [
    "import numpy as np\n",
    "import pandas as pd\n",
    "import matplotlib.pyplot as plt\n",
    "import seaborn as sns"
   ]
  },
  {
   "cell_type": "code",
   "execution_count": null,
   "metadata": {
    "collapsed": true
   },
   "outputs": [],
   "source": []
  }
 ],
 "metadata": {
  "kernelspec": {
   "display_name": "Python 2",
   "language": "python",
   "name": "python2"
  },
  "language_info": {
   "codemirror_mode": {
    "name": "ipython",
    "version": 2
   },
   "file_extension": ".py",
   "mimetype": "text/x-python",
   "name": "python",
   "nbconvert_exporter": "python",
   "pygments_lexer": "ipython2",
   "version": "2.7.13"
  }
 },
 "nbformat": 4,
 "nbformat_minor": 2
}
